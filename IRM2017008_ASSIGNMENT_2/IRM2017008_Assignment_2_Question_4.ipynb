{
  "nbformat": 4,
  "nbformat_minor": 0,
  "metadata": {
    "colab": {
      "name": "IRM2017008_Assignment_2_Question_4.ipynb",
      "provenance": []
    },
    "kernelspec": {
      "name": "python3",
      "display_name": "Python 3"
    }
  },
  "cells": [
    {
      "cell_type": "markdown",
      "metadata": {
        "id": "LaVfUtTAoDLH"
      },
      "source": [
        "# **Name - PRABHAKAR KUMAR**\r\n",
        "# **Roll - IRM2017008**\r\n",
        "# **Assignment 2 - Question 4**"
      ]
    },
    {
      "cell_type": "code",
      "metadata": {
        "id": "PBjPF757n3mh"
      },
      "source": [
        "import numpy as np\r\n",
        "import matplotlib.pyplot as plt"
      ],
      "execution_count": 15,
      "outputs": []
    },
    {
      "cell_type": "markdown",
      "metadata": {
        "id": "VzjM4OlGruVt"
      },
      "source": [
        "# **Filling data as per question**"
      ]
    },
    {
      "cell_type": "code",
      "metadata": {
        "id": "C7_jX5pQoJ_q"
      },
      "source": [
        "# FILLING THE DATA\r\n",
        "\r\n",
        "X=[75,80,93,65,87,71,98,68,84,77]\r\n",
        "Y=[82,78,86,72,91,80,95,72,80,74]"
      ],
      "execution_count": 16,
      "outputs": []
    },
    {
      "cell_type": "code",
      "metadata": {
        "id": "0v8BwcMIoruI"
      },
      "source": [
        "mean_x = np.mean(X)\r\n",
        "mean_y = np.mean(Y)\r\n",
        " \r\n",
        "n = len(X)"
      ],
      "execution_count": 18,
      "outputs": []
    },
    {
      "cell_type": "markdown",
      "metadata": {
        "id": "BVBFz6F1rsPX"
      },
      "source": [
        "# **PART A**"
      ]
    },
    {
      "cell_type": "code",
      "metadata": {
        "colab": {
          "base_uri": "https://localhost:8080/"
        },
        "id": "W08neuXMo0Xn",
        "outputId": "324b89b3-293a-4971-c654-b411e0519e5b"
      },
      "source": [
        "num=0\r\n",
        "den=0\r\n",
        "for i in range(n):\r\n",
        "  num+=(X[i]-mean_x)*(Y[i]-mean_y)\r\n",
        "  den+=(X[i]-mean_x)**2\r\n",
        "m1=num/den\r\n",
        "c1=mean_y-(m1*mean_x)\r\n",
        " \r\n",
        "print(\"Coefficients\")\r\n",
        "print(m1, c1)"
      ],
      "execution_count": 19,
      "outputs": [
        {
          "output_type": "stream",
          "text": [
            "Coefficients\n",
            "0.625 31.125\n"
          ],
          "name": "stdout"
        }
      ]
    },
    {
      "cell_type": "markdown",
      "metadata": {
        "id": "btPcjYXFrqLB"
      },
      "source": [
        "# **PART B**"
      ]
    },
    {
      "cell_type": "code",
      "metadata": {
        "colab": {
          "base_uri": "https://localhost:8080/"
        },
        "id": "L5BgdbOho5ty",
        "outputId": "19e3669c-4862-4efe-d710-02e79fbc4d82"
      },
      "source": [
        "num=0\r\n",
        "den=0\r\n",
        "for i in range(n):\r\n",
        "  num+=(Y[i]-mean_y)*(X[i]-mean_x)\r\n",
        "  den+=(Y[i]-mean_y)**2\r\n",
        "m2=num/den\r\n",
        "c2=mean_x-(m2*mean_y)\r\n",
        " \r\n",
        "print(\"Coefficients\")\r\n",
        "print(m2, c2)"
      ],
      "execution_count": 20,
      "outputs": [
        {
          "output_type": "stream",
          "text": [
            "Coefficients\n",
            "1.1966911764705883 -17.131985294117655\n"
          ],
          "name": "stdout"
        }
      ]
    },
    {
      "cell_type": "markdown",
      "metadata": {
        "id": "0TxrsbpBrkVd"
      },
      "source": [
        "# **PART C + PART D**"
      ]
    },
    {
      "cell_type": "code",
      "metadata": {
        "id": "ryaUpn51pTP0"
      },
      "source": [
        "def get_HUR_marks(val):\r\n",
        "  ret=m1*val+c1\r\n",
        "  return ret\r\n",
        "\r\n",
        "def get_ML_marks(val):\r\n",
        "  ret=m2*val+c2\r\n",
        "  return ret"
      ],
      "execution_count": 21,
      "outputs": []
    },
    {
      "cell_type": "code",
      "metadata": {
        "colab": {
          "base_uri": "https://localhost:8080/"
        },
        "id": "lZuxIKLTp_bp",
        "outputId": "9905932b-d8e8-4310-a133-4e92693358b0"
      },
      "source": [
        "print(\"Prediction of HUR marks of Student with 96 in ML - \", get_HUR_marks(96))\r\n",
        "print(\"Prediction of ML marks of Student with 95 in HUR - \", get_ML_marks(95))"
      ],
      "execution_count": 22,
      "outputs": [
        {
          "output_type": "stream",
          "text": [
            "Prediction of HUR marks of Student with 96 in ML -  91.125\n",
            "Prediction of ML marks of Student with 95 in HUR -  96.55367647058823\n"
          ],
          "name": "stdout"
        }
      ]
    },
    {
      "cell_type": "markdown",
      "metadata": {
        "id": "PLnAhHAvr4tP"
      },
      "source": [
        "# **PART E**"
      ]
    },
    {
      "cell_type": "code",
      "metadata": {
        "colab": {
          "base_uri": "https://localhost:8080/",
          "height": 279
        },
        "id": "j2U1jgdrqQpo",
        "outputId": "f22b65be-3565-4ed0-b3ef-a6602acdb947"
      },
      "source": [
        "# SCATTER PLOT OF DATA AND REGRESSION LINE of ML as Independent Variable\r\n",
        "\r\n",
        "max_x=np.max(X)+5\r\n",
        "min_x=np.min(X)-5\r\n",
        " \r\n",
        "x=np.linspace(min_x, max_x, 1000)\r\n",
        "y=c1+m1*x\r\n",
        " \r\n",
        "plt.plot(x,y,color='#58b970', label='Regression Line')\r\n",
        "plt.scatter(X,Y,c='#ef5423', label='Scatter Plot')\r\n",
        " \r\n",
        "plt.xlabel('-- Marks in ML --')\r\n",
        "plt.ylabel('-- Marks in HUR --')\r\n",
        "plt.legend()\r\n",
        "plt.show()"
      ],
      "execution_count": 23,
      "outputs": [
        {
          "output_type": "display_data",
          "data": {
            "image/png": "[encoded data removed]",
            "text/plain": [
              "<Figure size 432x288 with 1 Axes>"
            ]
          },
          "metadata": {
            "tags": [],
            "needs_background": "light"
          }
        }
      ]
    },
    {
      "cell_type": "code",
      "metadata": {
        "colab": {
          "base_uri": "https://localhost:8080/",
          "height": 279
        },
        "id": "dSRDr54Iqmsk",
        "outputId": "efb24243-b109-435c-f04c-3652d0eb4952"
      },
      "source": [
        "# SCATTER PLOT OF DATA AND REGRESSION LINE of HUR as Independent Variable\r\n",
        "\r\n",
        "max_x=np.max(Y)+5\r\n",
        "min_x=np.min(Y)-5\r\n",
        " \r\n",
        "x=np.linspace(min_x, max_x, 1000)\r\n",
        "y=c2+m2*x\r\n",
        " \r\n",
        "plt.plot(x,y,color='#58b970', label='Regression Line')\r\n",
        "plt.scatter(Y,X,c='#ef5423', label='Scatter Plot')\r\n",
        " \r\n",
        "plt.xlabel('-- Marks in HUR --')\r\n",
        "plt.ylabel('-- Marks in ML --')\r\n",
        "plt.legend()\r\n",
        "plt.show()"
      ],
      "execution_count": 26,
      "outputs": [
        {
          "output_type": "display_data",
          "data": {
            "image/png": "[encoded data removed]",
            "text/plain": [
              "<Figure size 432x288 with 1 Axes>"
            ]
          },
          "metadata": {
            "tags": [],
            "needs_background": "light"
          }
        }
      ]
    },
    {
      "cell_type": "code",
      "metadata": {
        "id": "hZp9gqnuq1Tr"
      },
      "source": [
        "'''\r\n",
        "CONCLUSION --\r\n",
        "\r\n",
        "The Prediction of HUR marks with ML as the independent variable gives a better\r\n",
        "estimation because as per the plots we can see that the regression line with\r\n",
        "ML as independent variable fits better than the regression line in case when\r\n",
        "we used HUR marks as the independent variable.\r\n",
        "\r\n",
        "Further this conclusion is solely made by observation of the two plots as was\r\n",
        "given to be done in the question, but more accurate judgement can only be done\r\n",
        "by looking at error parameters of the predicted values for the two models.\r\n",
        "\r\n",
        "'''"
      ],
      "execution_count": null,
      "outputs": []
    }
  ]
}