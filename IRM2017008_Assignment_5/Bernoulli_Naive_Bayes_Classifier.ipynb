{
  "nbformat": 4,
  "nbformat_minor": 0,
  "metadata": {
    "colab": {
      "name": "Bernoulli Naive Bayes Classifier.ipynb",
      "provenance": [],
      "toc_visible": true
    },
    "kernelspec": {
      "name": "python3",
      "display_name": "Python 3"
    }
  },
  "cells": [
    {
      "cell_type": "markdown",
      "metadata": {
        "id": "6B8zYdWKXpec"
      },
      "source": [
        "# **Name - PRABHAKAR KUMAR**\r\n",
        "# **Roll - IRM2017008**\r\n",
        "# **Naive Bayes Assignment Part 2 Using Bernoulli**"
      ]
    },
    {
      "cell_type": "code",
      "metadata": {
        "id": "qvHmrE7kXhew"
      },
      "source": [
        "import numpy as np\r\n",
        "import pandas as pd\r\n",
        "from collections import defaultdict\r\n",
        "import string"
      ],
      "execution_count": 27,
      "outputs": []
    },
    {
      "cell_type": "markdown",
      "metadata": {
        "id": "k8Ifip1miJEB"
      },
      "source": [
        "#**Loading Dataset and preparing Testing and Training Data**"
      ]
    },
    {
      "cell_type": "code",
      "metadata": {
        "colab": {
          "base_uri": "https://localhost:8080/"
        },
        "id": "hS3Q2e3zX3DH",
        "outputId": "9c8bb86b-9ea9-4135-96ef-baf7f987f924"
      },
      "source": [
        "df = pd.read_csv(\"spam ham data set.csv\",encoding='latin-1')\r\n",
        "df.dropna(axis=1, inplace=True)\r\n",
        "df.head"
      ],
      "execution_count": 28,
      "outputs": [
        {
          "output_type": "execute_result",
          "data": {
            "text/plain": [
              "<bound method NDFrame.head of         v1                                                 v2\n",
              "0      ham  Go until jurong point, crazy.. Available only ...\n",
              "1      ham                      Ok lar... Joking wif u oni...\n",
              "2     spam  Free entry in 2 a wkly comp to win FA Cup fina...\n",
              "3      ham  U dun say so early hor... U c already then say...\n",
              "4      ham  Nah I don't think he goes to usf, he lives aro...\n",
              "...    ...                                                ...\n",
              "5567  spam  This is the 2nd time we have tried 2 contact u...\n",
              "5568   ham              Will Ì_ b going to esplanade fr home?\n",
              "5569   ham  Pity, * was in mood for that. So...any other s...\n",
              "5570   ham  The guy did some bitching but I acted like i'd...\n",
              "5571   ham                         Rofl. Its true to its name\n",
              "\n",
              "[5572 rows x 2 columns]>"
            ]
          },
          "metadata": {
            "tags": []
          },
          "execution_count": 28
        }
      ]
    },
    {
      "cell_type": "code",
      "metadata": {
        "colab": {
          "base_uri": "https://localhost:8080/"
        },
        "id": "jBupoNiPX5P2",
        "outputId": "bcc32348-a332-46ee-ad45-6325ef5e68db"
      },
      "source": [
        "row_count = len(df.index)\r\n",
        "train_count = int(0.7*row_count)\r\n",
        "print(train_count)"
      ],
      "execution_count": 29,
      "outputs": [
        {
          "output_type": "stream",
          "text": [
            "3900\n"
          ],
          "name": "stdout"
        }
      ]
    },
    {
      "cell_type": "code",
      "metadata": {
        "id": "EOVH_s3KX7zX"
      },
      "source": [
        "trainSet = df[:3900]\r\n",
        "testSet = df[3900:]\r\n",
        "testSet.reset_index(inplace=True,drop=True)"
      ],
      "execution_count": 30,
      "outputs": []
    },
    {
      "cell_type": "code",
      "metadata": {
        "colab": {
          "base_uri": "https://localhost:8080/"
        },
        "id": "dcTtKB-2X9hr",
        "outputId": "19794359-02e2-4421-ff21-256c1a074a30"
      },
      "source": [
        "print(trainSet['v2'][0])\r\n",
        "print(trainSet['v1'][0])"
      ],
      "execution_count": 32,
      "outputs": [
        {
          "output_type": "stream",
          "text": [
            "Go until jurong point, crazy.. Available only in bugis n great world la e buffet... Cine there got amore wat...\n",
            "ham\n"
          ],
          "name": "stdout"
        }
      ]
    },
    {
      "cell_type": "markdown",
      "metadata": {
        "id": "LkRQUUcSiP5K"
      },
      "source": [
        "# **Creating List of Words and dropping Stop Words**"
      ]
    },
    {
      "cell_type": "code",
      "metadata": {
        "colab": {
          "base_uri": "https://localhost:8080/"
        },
        "id": "_nOJdVu3YMun",
        "outputId": "2afa1038-2a18-4662-992c-3e9ea41629bb"
      },
      "source": [
        "global_word_list = []\r\n",
        "\r\n",
        "spam_count = 0\r\n",
        "ham_count = 0\r\n",
        "\r\n",
        "for index,row in trainSet.iterrows():\r\n",
        "\r\n",
        "    if(row['v1']=='spam'):\r\n",
        "        spam_count += 1\r\n",
        "    else:\r\n",
        "        ham_count += 1\r\n",
        "\r\n",
        "    # Splitting each text content into list of words\r\n",
        "    wordList = str(row['v2']).split()\r\n",
        "\r\n",
        "    # Removing Punctuations marks and lower casing from the words as they have no significance towards the model\r\n",
        "    wordList = [(word.translate(str.maketrans('', '', string.punctuation))).lower() for word in wordList]\r\n",
        "\r\n",
        "    # Removing empty words, as some empty words after removal of punctuations may have occured\r\n",
        "    wordList = [word for word in wordList if word != '']\r\n",
        "\r\n",
        "    for word in wordList:\r\n",
        "        if word not in global_word_list:\r\n",
        "            global_word_list.append(word)\r\n",
        "\r\n",
        "print(global_word_list)    "
      ],
      "execution_count": 33,
      "outputs": [
        {
          "output_type": "stream",
          "text": [
            "['go', 'until', 'jurong', 'point', 'crazy', 'available', 'only', 'in', 'bugis', 'n', 'great', 'world', 'la', 'e', 'buffet', 'cine', 'there', 'got', 'amore', 'wat', 'ok', 'lar', 'joking', 'wif', 'u', 'oni', 'free', 'entry', '2', 'a', 'wkly', 'comp', 'to', 'win', 'fa', 'cup', 'final', 'tkts', '21st', 'may', '2005', 'text', '87121', 'receive', 'questionstd', 'txt', 'ratetcs', 'apply', '08452810075over18s', 'dun', 'say', 'so', 'early', 'hor', 'c', 'already', 'then', 'nah', 'i', 'dont', 'think', 'he', 'goes', 'usf', 'lives', 'around', 'here', 'though', 'freemsg', 'hey', 'darling', 'its', 'been', '3', 'weeks', 'now', 'and', 'no', 'word', 'back', 'id', 'like', 'some', 'fun', 'you', 'up', 'for', 'it', 'still', 'tb', 'xxx', 'std', 'chgs', 'send', 'å£150', 'rcv', 'even', 'my', 'brother', 'is', 'not', 'speak', 'with', 'me', 'they', 'treat', 'aids', 'patent', 'as', 'per', 'your', 'request', 'melle', 'oru', 'minnaminunginte', 'nurungu', 'vettam', 'has', 'set', 'callertune', 'all', 'callers', 'press', '9', 'copy', 'friends', 'winner', 'valued', 'network', 'customer', 'have', 'selected', 'receivea', 'å£900', 'prize', 'reward', 'claim', 'call', '09061701461', 'code', 'kl341', 'valid', '12', 'hours', 'had', 'mobile', '11', 'months', 'or', 'more', 'r', 'entitled', 'update', 'the', 'latest', 'colour', 'mobiles', 'camera', 'co', 'on', '08002986030', 'im', 'gonna', 'be', 'home', 'soon', 'want', 'talk', 'about', 'this', 'stuff', 'anymore', 'tonight', 'k', 'ive', 'cried', 'enough', 'today', 'six', 'chances', 'cash', 'from', '100', '20000', 'pounds', 'csh11', '87575', 'cost', '150pday', '6days', '16', 'tsandcs', 'reply', 'hl', '4', 'info', 'urgent', 'won', '1', 'week', 'membership', 'our', 'å£100000', 'jackpot', '81010', 'tc', 'wwwdbuknet', 'lccltd', 'pobox', '4403ldnw1a7rw18', 'searching', 'right', 'words', 'thank', 'breather', 'promise', 'wont', 'take', 'help', 'granted', 'will', 'fulfil', 'wonderful', 'blessing', 'at', 'times', 'date', 'sunday', 'xxxmobilemovieclub', 'use', 'credit', 'click', 'wap', 'link', 'next', 'message', 'httpwap', 'xxxmobilemovieclubcomnqjkgighjjgcbl', 'oh', 'kim', 'watching', 'eh', 'remember', 'how', 'spell', 'his', 'name', 'yes', 'did', 'v', 'naughty', 'make', 'wet', 'fine', 'if', 'thatåõs', 'way', 'feel', 'gota', 'b', 'england', 'macedonia', 'miss', 'goalsteam', 'news', 'ur', 'national', 'team', '87077', 'eg', 'trywales', 'scotland', '4txtì¼120', 'poboxox36504w45wq', 'that', 'seriously', 'i\\x89û÷m', 'going', 'try', 'ha', 'ì', 'pay', 'first', 'when', 'da', 'stock', 'comin', 'aft', 'finish', 'lunch', 'str', 'down', 'lor', 'ard', 'smth', 'ffffffffff', 'alright', 'can', 'meet', 'sooner', 'just', 'forced', 'myself', 'eat', 'slice', 'really', 'hungry', 'tho', 'sucks', 'mark', 'getting', 'worried', 'knows', 'sick', 'turn', 'pizza', 'lol', 'always', 'convincing', 'catch', 'bus', 'are', 'frying', 'an', 'egg', 'tea', 'eating', 'moms', 'left', 'over', 'dinner', 'do', 'love', 'amp', 'were', 'packing', 'car', 'ill', 'let', 'know', 'theres', 'room', 'ahhh', 'work', 'vaguely', 'what', 'does', 'wait', 'thats', 'clear', 'sure', 'being', 'sarcastic', 'why', 'x', 'doesnt', 'live', 'us', 'yeah', 'was', 'apologetic', 'fallen', 'out', 'she', 'actin', 'spoilt', 'child', 'caught', 'till', 'but', 'we', 'doing', 'too', 'badly', 'cheers', 'tell', 'anything', 'fear', 'of', 'fainting', 'housework', 'quick', 'cuppa', 'thanks', 'subscription', 'ringtone', 'uk', 'charged', 'å£5month', 'please', 'confirm', 'by', 'replying', 'yup', 'look', 'timings', 'msg', 'again', 'xuhui', 'learn', '2nd', 'her', 'lesson', '8am', 'oops', 'roommates', 'done', 'see', 'letter', 'decide', 'hello', 'hows', 'saturday', 'texting', 'youd', 'decided', 'tomo', 'trying', 'invite', 'pls', 'ahead', 'watts', 'wanted', 'weekend', 'abiola', 'forget', 'need', 'crave', 'most', 'sweet', 'arabian', 'steed', 'mmmmmm', 'yummy', '07732584351', 'rodger', 'burns', 'tried', 're', 'sms', 'nokia', 'camcorder', '08000930705', 'delivery', 'tomorrow', 'who', 'seeing', 'hope', 'man', 'well', 'endowed', 'am', 'ltgt', 'inches', 'callsmessagesmissed', 'calls', 'didnt', 'get', 'hep', 'immunisation', 'nigeria', 'fair', 'hopefully', 'tyler', 'cant', 'could', 'maybe', 'ask', 'bit', 'stubborn', 'hospital', 'kept', 'telling', 'weak', 'sucker', 'hospitals', 'suckers', 'thinked', 'time', 'saw', 'class', 'gram', 'usually', 'runs', 'half', 'eighth', 'smarter', 'gets', 'almost', 'whole', 'second', 'fyi', 'ride', 'morning', 'hes', 'crashing', 'place', 'wow', 'never', 'realized', 'embarassed', 'accomodations', 'thought', 'liked', 'since', 'best', 'seemed', 'happy', 'cave', 'sorry', 'give', 'offered', 'embarassing', 'ac', 'sptv', 'new', 'jersey', 'devils', 'detroit', 'red', 'wings', 'play', 'ice', 'hockey', 'correct', 'incorrect', 'end', 'mallika', 'sherawat', 'yesterday', 'find', 'lturlgt', 'congrats', 'year', 'special', 'cinema', 'pass', 'yours', '09061209465', 'suprman', 'matrix3', 'starwars3', 'etc', 'bx420ip45we', '150pm', 'later', 'meeting', 'where', 'reached', 'yesgauti', 'sehwag', 'odi', 'series', 'pick', 'burger', 'yourself', 'move', 'pain', 'killing', 'good', 'joke', 'girls', 'situation', 'seekers', 'part', 'checking', 'iq', 'took', 'forever', 'come', 'double', 'check', 'hair', 'dresser', 'said', 'wun', 'cut', 'short', 'nice', 'pleased', 'advise', 'following', 'recent', 'review', 'mob', 'awarded', 'å£1500', 'bonus', '09066364589', 'song', 'dedicated', 'day', 'which', 'dedicate', 'valuable', 'frnds', 'rply', 'complimentary', 'trip', 'eurodisinc', 'trav', 'acoentry41', 'å£1000', 'dis', '186å£150morefrmmob', 'shracomorsglsuplt10', 'ls1', '3aj', 'hear', 'divorce', 'barbie', 'comes', 'kens', 'plane', 'month', 'wah', 'lucky', 'save', 'money', 'hee', 'finished', 'hi', 'babe', 'wanna', 'something', 'xx', 'kkwhere', 'youhow', 'performed', 'waiting', 'machan', 'once', 'cool', 'gentleman', 'dignity', 'respect', 'peoples', 'very', 'much', 'shy', 'pa', 'operate', 'after', 'same', 'looking', 'job', 'tas', 'earn', 'ah', 'stop', 'urgnt', 'real', 'yo', 'tickets', 'one', 'jacket', 'used', 'multis', 'started', 'requests', 'came', 'bed', 'coins', 'factory', 'gotta', 'nitros', 'ela', 'kanoil', 'download', 'wen', 'don\\x89û÷t', 'stand', 'close', 'you\\x89û÷ll', 'another', 'night', 'spent', 'late', 'afternoon', 'casualty', 'means', 'havent', 'any', 'y', 'stuff42moro', 'includes', 'sheets', 'smile', 'pleasure', 'trouble', 'pours', 'rain', 'sum1', 'hurts', 'becoz', 'someone', 'loves', 'smiling', 'service', 'representative', '0800', '169', '6031', 'between', '10am9pm', 'guaranteed', 'å£5000', 'planning', 'buy', 'lido', '530', 'show', 'collected', 'simply', 'password', 'mix', '85069', 'verify', 'usher', 'britney', 'fml', 'telugu', 'moviewat', 'abt', 'loads', 'loans', 'wk', 'hols', 'run', 'forgot', 'hairdressers', 'appointment', 'four', 'shower', 'beforehand', 'cause', 'prob', 'ham', 'nothing', 'else', 'okay', 'price', 'long', 'legal', 'them', 'ave', 'ams', 'gone', '4the', 'driving', 'test', 'yet', 'youre', 'mean', 'guess', 'gave', 'boston', 'men', 'changed', 'search', 'location', 'nyc', 'cuz', 'signin', 'page', 'says', 'umma', 'life', 'vava', 'lot', 'dear', 'wishes', 'birthday', 'making', 'truly', 'memorable', 'aight', 'hit', 'would', 'ip', 'address', 'considering', 'computer', 'isnt', 'minecraft', 'server', 'grumpy', 'old', 'people', 'mom', 'better', 'lying', 'jokes', 'worry', 'busy', 'plural', 'noun', 'research', 'dinnermsg', 'cos', 'things', 'scared', 'mah', 'loud', 'gent', 'contact', 'last', 'weekends', 'draw', 'shows', '09064012160', 'k52', '12hrs', '150ppm', 'wa', 'openin', 'sentence', 'formal', 'anyway', 'juz', 'tt', 'eatin', 'puttin', 'weighthaha', 'anythin', 'happened', 'entered', 'cabin', 'bday', 'boss', 'felt', 'askd', 'invited', 'apartment', 'went', 'specially', 'holiday', 'flights', 'inc', 'operator', '0871277810910pmin', '18', 'goodo', 'must', 'friday', 'eggpotato', 'ratio', 'tortilla', 'needed', 'hmmmy', 'uncle', 'informed', 'paying', 'school', 'directly', 'food', 'private', '2004', 'account', 'statement', '07742676969', '786', 'unredeemed', 'points', '08719180248', 'identifier', '45239', 'expires', 'å£2000', 'caller', '5903', 'landline', '09064019788', 'box42wr29c', 'applespairsall', 'malarky', 'todays', 'voda', 'numbers', 'ending', '7548', '350', 'award', 'match', '08712300220', 'quoting', '4041', 'standard', 'rates', 'app', 'sao', 'mu', 'ìï', 'predict', 'ìll', 'buying', 'knowyetunde', 'hasnt', 'sent', 'bother', 'sending', 'involve', 'shouldnt', 'imposed', 'apologise', 'girl', 'del', 'bak', 'sum', 'lucyxx', 'kkhow', 'tmorrowpls', 'accomodate', 'answer', 'question', 'sunshine', 'quiz', 'q', 'top', 'sony', 'dvd', 'player', 'country', 'algarve', 'ansr', '82277', 'sptyrone', 'laid', 'dogging', 'locations', 'direct', 'join', 'uks', 'largest', 'bt', 'txting', 'gravel', '69888', 'nt', 'ec2a', '31pmsg150p', 'haf', 'msn', 'yijuehotmailcom', 'him', 'rooms', 'befor', 'activities', 'youll', 'msgs', 'chat', 'svc', 'hardcore', 'services', '69988', 'age', 'yr', 'lazy', 'type', 'lect', 'pouch', 'sir', 'mail', 'swt', 'nver', 'tired', 'little', 'lovable', 'persons', 'cozsomtimes', 'those', 'occupy', 'd', 'biggest', 'their', 'hearts', 'gud', 'ni8', 'open', 'ya', 'dot', 'whats', 'staff', 'taking', 'replied', 'randy', 'sexy', 'female', 'local', 'luv', 'netcollex', 'ltd', '08700621170150p', 'ummmawill', 'inour', 'begin', 'qatar', 'pray', 'hard', 'ki', 'deleted', 'sindu', 'birla', 'soft', 'wine', 'flowing', 'nevering', 'thk', 'plaza', 'typical', 'everywhere', 'dirt', 'floor', 'windows', 'shirt', 'sometimes', 'mouth', 'dream', 'without', 'chores', 'joy', 'lots', 'tv', 'exist', 'hail', 'mist', 'become', 'aaooooright', 'leaving', 'house', 'interview', 'boy', 'meare', 'missing', 'annoncement', 'years', '07046744435', 'arrange', '0871277810810', 'keep', 'safe', 'because', 'envy', 'everyone', 'sees', 'parentsi', 'hand', 'excited', 'each', 'spend', 'bootydelious', '32f', 'inviting', 'friend', 'yes434', 'no434', 'wwwsmsacubootydelious', 'frnd', '62468', 'bangbabes', 'order', 'should', 'content', 'goto', 'bangb', 'internetservice', 'menu', 'cultures', 'module', '09061701939', 's89', 'avoid', 'missunderstding', 'wit', 'beloved', 'ones', 'escape', 'fancy', 'bridge', 'needs', 'lager', 'completely', 'formclark', 'also', 'utter', 'waste', 'axis', 'bank', 'hmmm', 'hop', 'muz', 'discuss', 'liao', 'coming', 'bloody', 'hell', 'believe', 'surname', 'mr', 'clue', 'spanish', 'begins', 'm', 'bath', 'goodfine', 'youve', 'carlos', 'mall', 'turns', 'staying', 'til', 'smoke', 'worth', 'log', 'spoke', 'maneesha', 'wed', 'satisfied', 'experience', 'toll', 'lifted', 'hopes', 'offer', 'especially', 'approaches', 'studying', 'anyways', 'gr8', 'trust', 'guys', 'greatbye', 'handsome', 'finding', 'working', 'towards', 'net', 'mummy', 'wheres', 'boytoy', 'haha', 'awesome', 'minute', 'freephone', '0808', '145', '4742', '9am11pm', 'xmas', 'radio', 'jus', 'bathe', 'sis', 'using', 'finishes', 'unique', '30th', 'august', 'wwwareyouuniquecouk', 'joined', 'league', 'touch', 'deal', 'personal', 'finally', 'completed', 'course', 'itself', 'however', 'suggest', 'stays', 'able', 'ors', 'every', 'stool', 'settled', 'wishin', 'mrng', 'hav', 'story', 'hamster', 'dead', 'tmr', '1pm', 'orchard', 'mrt', 'kate', 'evening', 'babyjontet', 'found', 'enc', 'bucks', 'darlin', 'college', 'refilled', 'successfully', 'inr', 'ltdecimalgt', 'keralacircle', 'prepaid', 'balance', 'rs', 'transaction', 'kr', 'goodmorning', 'sleeping', 'ga', 'alter', 'dat', 'ericsson', 'oso', 'cannot', 'oredi', 'dats', 'straight', 'dogg', 'connection', 'before', 'refund', 'bill', 'both', 'shoot', 'big', 'ready', 'bruv', 'break', 'rewarding', 'semester', 'kkgoodstudy', 'noe', 'leh', 'sounds', 'heading', 'prediction', 'slept', 'past', 'few', 'nights', 'easy', 'ahsen', 'exam', 'march', 'gt', 'atm', 'register', 'os', 'called', 'ubandu', 'installing', 'diskyou', 'important', 'files', 'system', 'repair', 'shop', 'happen', 'romantic', 'nite', 'scenery', '500', '89545', 'collect', 'todayfrom', 'å£1', 'www4tcbiz', '2optout', '08718726270150gbpmtmsg18', 'appreciate', 'partner', 'career', 'off', 'flyng', 'start', 'horo', 'followed', 'star', 'sign', 'g', 'aries', 'company', 'elama', 'po', 'mudyadhu', 'strict', 'than', 'teacher', 'bcoz', 'teaches', 'conducts', 'lessons', 'gandhipuram', 'walk', 'cross', 'road', 'side', 'street', 'rubber', 'battery', 'died', 'yeshere', 'flirt', '10p', 'sam', '25', 'recdthirtyeight', 'pence', 'printed', 'upstairs', 'closer', 'youwhen', 'wil', 'reach', 'theory', 'argument', 'wins', 'loses', 'person', 'argue', 'kick', '447801259231', 'secret', 'admirer', 'ufind', 'rreveal', 'thinks', 'specialcall', '09058094597', 'tomarrow', 'hearing', 'laptop', 'case', 'pleassssssseeeeee', 'tel', 'avent', 'sportsx', 'shining', 'meant', 'signing', 'although', 'told', 'into', 'baig', 'face', 'watches', 'watch', 'fr', 'thanx', 'everything', 'uve', 'touched', 'commercial', 'website', 'slippers', 'asked', 'kallis', 'bat', 'innings', 'goodnight', 'fix', 'wake', 'dearly', 'missed', 'sleep', 'congratulations', 'cd', 'vouchers', '125gift', 'music', '87066', 'tncs', 'wwwldewcom1win150ppmx3age16', 'ranjith', 'cal', 'drpd', 'deeraj', 'deepak', '5min', 'hold', 'bcums', 'angry', 'wid', 'dnt', 'coz', 'childish', 'true', 'showing', 'deep', 'affection', 'care', 'kettoda', 'manda', 'doinghow', 'ups', '3days', 'shipping', 'takes', '2wks', 'other', 'usps', 'lag', 'bribe', 'nipost', 'lemme', 'necessarily', 'expect', 'headin', 'mmm', 'jolt', 'suzy', 'lover', 'video', 'handset', '750', 'anytime', 'networks', 'mins', 'unlimited', 'parked', 'mini', 'shopping', 'own', 'disturb', 'luton', '0125698789', 'ring', 'h', 'horny', 'naked', 'hot', '69698', 'unsubscribe', 'dint', 'wana', 'plan', 'sometme', 'credits', 'club4mobilescom', 'choose', 'club', '87070', '150pwk', 'club4', 'box1146', 'mk45', '2wt', 'evo', 'flash', 'jealous', 'singles', 'chart', 'quality', 'charge', 'sorting', 'narcotics', 'ended', 'sunny', 'rays', 'leaves', 'worries', 'blue', 'bay', 'hmv', 'genuine', 'questions', '86688', 'infowww100percentrealcom', 'might', 'objection', 'bf', 'rob', 'mack', 'gf', 'theater', 'handed', 'celebrations', 'full', 'swing', 'tool', 'far', 'okie', 'usual', 'passed', 'ahold', 'anybody', 'throw', 'lets', 'baby', 'cruisin', 'hour', 'fone', 'jenny', 'ge', 'dearshall', 'tonitebusy', 'streetshall', 'tonitethings', 'okvarunnathu', 'edukkukayee', 'raksha', 'ollubut', 'sense', 'gautham', 'stupid', 'cam', 'buzy', 'accidentally', 'resend', 'tmobile', 'phone', 'upgrade', 'sim', 'card', 'loyalty', '0845', '021', '3680offer', 'ends', '28thfebtcs', 'unless', 'gurl', 'appropriate', 'hurt', 'tease', 'cry', 'die', 'plz', 'rose', 'grave', 'bslvyl', 'coffee', 'tomocant', 'somebody', 'high', 'diesel', 'shit', 'shocking', 'scary', 'imagine', 'def', 'somewhere', 'crash', 'taxi', 'fridge', 'meal', 'womdarfull', 'actor', 'blind', '4u', 'rodds1', '21m', 'aberdeen', 'united', 'kingdom', 'httpimg', 'acwicmb3cktz8r74', 'dates', 'hide', 'remb', 'book', 'jos', 'friendship', 'hanging', 'thread', 'themob', 'newest', 'selection', 'games', 'tones', 'gossip', 'babes', 'sport', 'fit', 'funky', '82468', 'garage', 'keys', 'arent', 'bookshelf', 'accept', 'dayu', 'sister', 'dear1', 'best1', 'clos1', 'lvblefrnd', 'jstfrnd', 'cutefrnd', 'lifpartnr', 'belovd', 'swtheart', 'bstfrnd', 'enemy', 'smart', 'å£200', 'weekly', '85222', 'nowtcs', 'winnersclub', 'box', '84', 'm26', '3uz', 'gbp150week', 'definitely', '2day', 'normal', 'waythis', 'uniquei', 'rest', 'mylife', 'wot', 'lost', 'made', 'kkadvance', 'pongal', 'kb', 'power', 'yoga', 'dunno', 'tahan', 'anot', 'lo', 'dude', 'afraid', 'december', '11mths', '08002986906', 'cake', 'merry', 'christmas', 'kisses', 'cud', 'ppl', 'gona', 'l8', 'buses', 'gon', 'waitin', 'pete', 'guild', 'bristol', 'plans', 'flight', 'problem', 'dahow', 'track', 'record', 'reading', 'women', 'read', 'light', 'kkapo', 'kgood', 'movie', 'return', 'immediately', 'germany', 'fixed', 'line', 'via', 'access', 'number', '0844', '861', '85', 'prepayment', 'chance', 'evaporated', 'violated', 'privacy', 'stealing', 'employers', 'paperwork', 'report', 'supervisor', 'valentines', 'lifetime', '83600', '150pmsg', 'rcvd', 'custcare08718720201', 'tadaaaaa', 'wined', 'dined', 'sleepingand', 'surfing', 'calling', 'post', '1000s', 'texts', 'wiv', 'caroline', 'favourite', 'bless', 'hiding', 'stranger', 'interested', 'cleared', 'two', 'round', 'gudnitetcpractice', 'yijue', 'huiming', 'num', 'small', 'prestige', 'shag', 'dointerested', 'sextextukcom', 'xxuk', '69876', 'txts', '150', 'jeremiah', 'iphone', 'apeshit', 'ever', 'misbehaved', 'slap', 'urself', 'fault', 'basically', 'figure', 'alcohol', 'jay', 'safely', 'weed', 'ish', 'minutes', '5', 'ago', 'wtf', 'callingforgot', 'onam', 'sirjii', 'remembered', 'met', 'insurance', 'personmeet', 'insha', 'allahrakhesh', 'ex', 'tata', 'aig', 'tisscotayseer', 'cashbalance', 'currently', 'maximize', 'cashin', 'cc', '08708800282', 'hgsuite3422lands', 'roww1j6hl', 'unemployed', 'moment', 'st', 'andrewsboy', 'cold', 'posted', 'chikku', 'chikkudb', 'audreys', 'status', 'forward', 'dawns', 'refreshed', 'alive', 'breathe', 'air', 'z', 'updatenow', 'motorola', 'sonyericsson', 'bluetooth', '1000', 'orange', 'mobileupd8', '08000839402', 'call2optoutf4q', 'discount', 'rp176781', 'further', 'messages', 'wwwregalportfoliocouk', '08717205546', 'uniform', 'geeee', 'woke', 'wish', 'cuddling', 'spoil', 'min', 'talking', 'agree', 'willing', 'reference', 't91', 'gbp', '09057039994', 'seen', 'mei', 'didt', 'recognise', 'happening', 'lindsay', 'sighs', 'bars', 'ptbo', 'heron', 'payasam', 'rinu', 'brings', 'taught', 'becaus', 'verifying', 'project', 'prabu', 'mistake', 'body', 'repairs', 'quite', 'slow', 'tests', 'guide', 'ovulation', 'relax', 'reason', 'followin', 'couple', 'wallet', 'leave', '945', '6months', 'phones', 'call2optoutn9dx', 'owl', 'licks', 'mm', '4mths', 'rental', 'mobilesdirect', '08000938767', 'or2stoptxt', 'having', 'huh', 'sat', 'intro', 'pilates', 'kickboxing', 'office', 'lap', 'days', 'shut', 'bout', '730ish', 'performance', 'calculated', 'monthnot', 'current', 'period', 'actually', 'rock', 'putting', 'business', 'put', 'pictures', 'ass', 'facebook', 'picture', 'al', 'salam', 'wahleykkumsharing', 'newsby', 'grace', 'god', 'tayseertissco', 'joinedhope', 'fineinshah', 'allahmeet', 'sometimerakheshvisitor', 'india', 'hmmmkbut', 'change', 'field', 'quickly', 'dai', 'administrator', '87131', 'poly', 'tone', '2814032', '1st', '3xå£150pw', 'eå£nd', 'chechi', 'cream', 'shipped', 'none', 'yep', 'loxahatchee', 'tree', 'burning', 'starts', 'stoners', 'slightly', 'disastrous', 'pm', 'fav', 'darlings', 'wld', 'stay', 'drink', 'busetop', 'messagesome', 'sendername', 'sentdate', 'fullonsmscom', 'iron', 'thing', 'okies', 'yan', 'jiu', 'skip', 'den', 'blah', 'bring', 'wendy', 'dating', '09064012103', 'box334sk38ch', 'whatsup', 'goal', 'å£250', 'competition', '80086', 'wwwtxttowincouk', 'head', 'logo', 'names', 'heart', 'name1', 'name2', 'mobno', 'adam', 'eve', '07123456789', 'yahoo', 'pobox36504w45wq', 'txtno', 'ads', '150p', 'yesfrom', 'contacted', '09111032124', 'pobox12n146tf150p', 'siva', 'hostel', 'aha', '09058094455', 'land', '3030', 'voice', 'speaking', 'expression', '1childish', '2naughty', '3sentiment', '4rowdy', '5ful', 'attitude', '6romantic', '7shy', '8attractive', '9funny', 'irritating', 'shell', 'aathiwhere', 'urination', '7', 'esplanade', 'mind', 'giving', 'lift', 'wnt', 'bmw', 'urgentlyits', 'vry', 'urgentbut', 'hv', 'shortage', 'lacsthere', 'source', 'arng', 'amt', 'lacsthats', 'fifteen', 'fucking', 'respond', '3650', '09066382422', '3mins', 'vary', '300603', 'bcm4284', 'ldn', 'wc1n3xx', 'booked', 'ticket', 'hillsborough', 'th', 'askin', 'dollars', 'shoul', 'iouri', 'ten', 'applebees', 'txtjourney', 'gdnow', '50', 'yeshe', 'greatbhaji', 'cricketer', 'sachin', 'worldvery', 'tough', 'supposed', 'oic', 'tot', 'din', 'group', 'werethe', 'monkeespeople', 'monkeyaround', 'howdy', 'gorgeous', 'blimey', 'exercise', 'kinda', 'hmm', 'concentration', '10', 'hanks', 'lotsly', 'kkwhat', 'detail', 'transferacc', 'optimistic', 'improve', 'loan', 'purpose', 'å£500', 'å£75000', 'homeowners', 'tenants', 'welcome', 'previously', 'refused', '1956669', 'si', 'oreo', 'truffles', 'amy', 'ure', 'beautiful', 'intelligent', 'woman', 'donåõt', 'result', 'consistently', 'kind', 'asking', 'practicum', 'links', 'ears', 'ttyl', '120', 'bad', 'thru', 'different', 'feelingwavering', 'decisions', 'coping', 'individualtime', 'heal', 'gives', 'reasons', 'upgrdcentre', '0207', '153', '9153', '26th', 'july', 'tcs', 'optout', 'bye', 'railway', 'princess', 'receiving', 'oral', 'doggy', 'style', 'fave', 'position', 'enjoy', 'roads', 'slippery', 'bike', 'many', 'language', 'okmail', 'dave', 'notice', 'tenerife', '5000', '09061743806', 'sae', 'box326', 'cw25wx', 'screamed', 'enters', 'remove', 'flat', 'rate', 'transfered', 'removed', 'banks', 'differ', 'charges', 'differbe', '9ja', 'details', 'moan', '69888nyt', 'broken', 'cum', 'infront', 'wise', 'll', '9t', 'aathilove', 'tension', 'ahwhat', 'machiany', '8th', 'whenre', 'thinking', 'mcr', 'sec', 'taste', 'fb', 'jaykwon', 'thuglyfe', 'falconerf', 'activate', 'terms', 'conditions', 'visit', 'www07781482378com', 'depends', 'boye', 'faded', 'glory', '6', 'ralphs', 'accounts', 'dry', 'trade', 'sorryin', 'reunion', 'nowcan', 'meh', 'nope', 'monday', 'accenture', 'jackson', 'rec', 'center', '7ish', 'reache', 'fighting', 'either', 'lose', 'fightng', 'some1', 'dificult', 'nuerologist', 'lolnice', 'fish', 'water', '123', 'å£1450', '09050002311', 'b4280703', 'tcsstop', '08718727868', 'bored', 'outside', 'westshore', 'hyde', 'park', 'village', 'near', 'anthony', 'bringing', 'fees', 'rent', 'significance', 'opinion', 'jada', 'kusruthi', 'silent', 'spl', 'character', 'matured', '8', 'stylish', 'simple', 'gs', 'scrounge', 'ammo', 'ak', 'prabhaim', 'sorydarealyfrm', 'sory', 'forgiven', 'nojst', 'tat', '40gb', 'ipod', 'mp3', '83355', 'ibhltd', 'ldnw15h', '150pmtmsgrcvd18', 'sno', 'boltblue', 'mono', 'poly3', 'cha', 'slide', 'jamz', 'toxic', 'topped', 'httpwwwbubbletextcom', 'renewal', 'pin', 'tgxxrz', 'transport', 'less', 'problematic', 'definite', 'nos', 'booking', 'fri', 'unconscious', 'children', 'adults', 'behave', 'abnormally', 'ebay', 'elsewhere', 'shall', 'pickle', 'tacos', 'rude', 'campus', '020903', 'attempt', '08718729755', 'box95qu', '85023', 'savamob', 'member', 'offers', 't', 'cs', '08717898035', 'å£300', 'sub', 'unsub', 'pretty', 'lady', 'single', 'recieve', 'within', '24hrs', 'channel', 'teletext', 'pg', 'doublefaggot', '2003', '07815296484', '800', '08718738001', '41782', '181104', 'todaysundaysunday', 'holidayso', 'while', 'hoping', 'l8r', 'malaria', 'bani', 'leads', 'passionate', 'kiss', 'across', 'sea', 'probably', 'lt', 'fat', 'fingers', 'these', 'buttons', 'ummmmmaah', 'returns', 'tirupur', 'wwwapplausestorecom', 'monthlysubscription50pmsg', 'max6month', 'tcsc', 'web', 'age16', '2stop', 'famous', 'quote', 'develop', 'ability', 'listen', 'unconditionally', 'losing', 'temper', 'self', 'confidence', 'married', 'oclock', 'mine', 'bash', 'recovery', 'rather', 'cooped', 'hotel', 'invitation', 'cali', 'english', 'blokes', 'weddin', 'omw', 'btw', 'alibi', 'cutting', 'sink', 'through', 'paces', 'cage', 'cock', 'surrounded', 'reminding', 'owns', 'cuck', 'hurry', 'weeddeficient', 'three', 'acknowledgement', 'astoundingly', 'tactless', 'generally', 'faggy', 'demand', 'blood', 'oath', 'fo', 'warm', 'milk', 'magic', 'loose', 'weight', 'i\\x89û÷ll', 'pan', 'it\\x89û÷s', 'cheap', 'perhaps', 'that\\x89û÷s', 'silly', 'isn\\x89û÷t', 'likely', 'o', 'uv', 'causes', 'mutations', 'sunscreen', 'essential', 'thesedays', 'lunchyou', 'onlinewhy', 'pics', 'aiyo', 'haven', 'fast', 'workin', 'bao', 'sugardad', 'ahgee', 'meim', 'brownie', 'geeeee', 'barely', 'fuck', '2mrw', 'ninish', 'icky', 'american', 'freek', 'callin', 'jen', 'oooh', 'ridden', 'ey', 'gym', 'whatever', 'smiles', 'daddy', 'scream', 'dick', 'missy', 'yar', 'mum', 'sch', 'clean', 'lab', 'goggles', 'door', '2000', 'call09050000327', 'arguing', 'claims', '09050005321', 'arngd', 'marriage', 'walkin', 'unfortuntly', 'snake', 'bites', 'dancing', 'frnt', 'sayin', 'bite', 'izzit', 'textand', '08002988890', 'exwife', 'kids', 'jjc', 'tendencies', 'headache', 'quit', 'jazz', 'yogasana', 'em', 'meive', 'hardly', 'gotany', 'srsly', 'yi', 'spree', '80878', 'tscs', 'wwwtxt2shopcom', 'custcare', '08715705022', '1x150pwk', 'pound', '08712402050', 'lines', '10ppm', 'ag', 'promo', '07753741225', 's', '08715203677', '42478', '241004', 'grand', 'prix', 'stands', 'nitz', 'announcement', '542', '0825', 'exhausted', 'train', 'pie', 'mums', 'present', 'ar', 'blastin', 'tsunamis', 'occur', 'rajnikant', 'stopped', 'swimming', 'indian', 'oceand', 'noon', 'xclusiveclubsaisai', '2morow', '285', 'soiree', 'speciale', 'zouk', 'nichols', 'parisfree', 'roses', 'ladies', '0794674629107880867867', 'bridgwater', 'banter', 'neva', 'imma', 'somethin', '22', 'euro2004', 'results', 'daily', '83222', 'valentine', 'game', 'answers', 'ques', 'suits', 'bestrply', 'dependents', 'thanx4', 'cer', 'often', 'soonc', 'himthen', 'future', 'hundreds', 'handsomes', 'beauties', 'aunties', 'uncles', 'shock', 'shuhui', 'leona', 'reaction', 'family', 'happiness', 'snow', 'weather', 'together', 'friendships', 'grow', 'dismay', 'alex', 'concerned', 'pub', 'bud', 'drinks', 'useful', 'officially', 'paid', 'market', 'tootsie', 'pop', 'longer', 'darren', 'textbuddy', 'area', '25p', 'postcode', 'gaytextbuddycom', '89693', 'vodafone', '4882', 'å£350', 'matches', '09064019014', 'forwarded', 'seventeen', 'seven', 'hundred', 'ml', '\\x89ûò', 'voucher', 'holder', 'pc', 'httpwwwetlpcoukexpressoffer', 'apply2', '80062', 'funny', 'sweetheart', 'biola', 'login', 'dad', 'fetching', 'restock', 'thanksgiving', 'sound', 'effects', 'brighten', 'wee', 'thursday', 'allo', 'braved', 'taken', 'trains', 'triumphed', 'we\\x89û÷re', 'b\\x89û÷ham', 'jolly', 'cartoon', 'listening', 'temple', 'church', 'uncomfortable', '08715203694', '40533', '311004', 'email', 'rstm', 'sw7', '3ss', 'gentle', 'sonetimes', 'rough', 'starting', 'panic', 'tuesday', 'wesleys', 'town', 'bet', 'hella', 'drugs', 'drug', 'dealers', 'impatient', 'sun', 'earth', 'cloud', 'river', 'evng', 'wikipediacom', '88800', '89034', 'premium', '08718711108', 'under', 'lays', 'envelope', 'paper', 'repent', 'fetch', 'de', 'prepare', 'study', 'positions', 'kama', 'sutra', 'en', 'nange', 'bakra', 'kalstiyathen', 'teacoffee', 'carlosll', 'lakhs', 'ho', 'belly', 'laugh', 'sun0819', 'posts', 'helloyou', 'seem', '20', 'opt', '08452810071', 'ditto', 'saying', 'peace', 'knw', 'wetherspoons', 'piggy', 'awake', 'freaky', 'yelling', 'scrappy', 'lonely', 'hex', 'explain', 'sdryb8i', 'xy', 'sue', 'lapdancer', 'sex', 'bedroom', '89555', 'textoperator', 'g2', '1da', '150ppmsg', 'king', 'crying', 'building', 'map', 'imprtant', 'tomorw', 'dearme', 'cherthalain', 'cochin', 'bfore', 'starti', 'accordinglyor', 'comingtmorow', 'engaged', 'ans', 'torch', 'bold', '448712404000please', '08712404000', 'farm', '4d', '1405', '1680', '1843', 'law', 'purchase', 'poop', 'looks', 'gpu', 'entrepreneurs', 'alexs', 'corporation', 'gap', '\\x89û', 'ku', 'prevent', 'dehydration', 'fluids', 'weird', 'idea', 'deari', 'soso', 'smsd', 'away', 'trek', 'harri', 'drivin', 'fantastic', 'ngage', 'deck', 'wwwcnupdatescomnewsletter', 'alerts', 'height', 'aeronautics', 'professors', 'wer', 'calld', 'sit', 'aeroplane', 'aftr', 'ws', 'students', 'dey', 'hurried', 'saidif', 'seems', 'timing', 'shitstorm', 'attributed', '08714712388', '10am7pm', 'stress', 'dorm', 'sell', '449071512431', 'uu', 'å£1250', '09071512433', 'b4', '050703', 'tcsbcm4235wc1n3xx', 'callcost', 'mobilesvary', 'maxå£7', 'sth', 'specs', 'px3748', '08714712394', 'macha', 'upseti', 'assume', 'mindsetbelieve', 'uslet', 'againcall', 'sfine', 'wondar', 'flim', 'cookies', 'jelly', 'running', 'stillmaybe', 'feeling', 'sameso', 'itor', 'admiti', 'madthen', 'correctionor', 'lifeand', 'worldmay', 'runninglets', 'scrumptious', 'wants', 'ba', 'dao', 'half8th', 'exactly', 'jide', 'visiting', 'alertfrom', 'jeri', 'stewartsize', '2kbsubject', 'lowcost', 'prescripiton', 'drvgsto', 'spring', 'yay', 'steak', 'convincingjust', 'twice', 'neglect', 'itjust', 'tonite', 'opportunityall', 'fastpls', 'add', 'prayers', 'dearrakhesh', 'offerthe', 'nokia6650', 'å£10', 'txtauction', '81151', '4tctxt', '150pmtmsg', 'mayb', 'rite', 'gd', 'faster', 'gals', 'attached', 'glad', 'hadnt', 'clocks', 'shouted', 'realised', 'wahay', 'shorter', 'gaze', 'eyes', '930', 'subscribed', 'å£3', '82324', 'helpline', '08706091795', 'weve', 'spoken', 'gist', 'realize', '40', 'thousands', 'tattoos', 'premier', 'gimme', 'lip', 'caveboy', 'library', 'realy', 'sorryi', 'confused', 'holla', 'anyone', 'spare', 'faith', 'makes', 'possiblehope', 'worklove', 'beautifulmay', 'christmasmerry', 'youcarlos', 'isare', 'vibrate', 'acting', 'paris', 'å£79', '08704439680tscs', 'grandmas', 'hungover', 'unclaimed', '09066368327', 'closingdate040902', 'claimcode', 'm39m51', 'å£150pmmorefrommobile2bremovedmobypobox734ls27yf', 'gua', 'mt', 'faber', 'yest', 'wishing', 'mas', 'advance', 'city', 'summer', 'store', '88039', 'skilgme', 'tscs087147403231winawkage16', 'å£150perwksub', 'goin', 'meetin', 'wonder', 'tis', 'theyre', 'dramatic', 'schools', 'closed', 'apparently', 'drive', 'inch', 'anywhere', 'damn', 'hunting', 'drunkard', 'wats', 'idc', 'weaseling', 'row', 'space', 'picking', 'trash', 'smokes', 'begging', 'lovely', 'sing', 'guy', 'slave', 'punish', 'beerage', '0578', 'randomlly', 'opening', 'couldnt', 'shes', 'fixes', 'spelling', 'diff', 'living', 'perfect', 'community', '100psms', 'polyphonic', '087018728737', 'toppoly', 'tune', 'subpoly', '81618', 'pole', '08718727870', 'enjoyed', 'fondly', 'bein', 'thot', 'ywhere', 'dogbreath', 'sounding', 'jan', 'omg', 'weighed', 'woohoo', 'uncountable', 'dictionary', 'pieces', '9996', '14thmarch', 'availa', 'petey', 'whereare', 'friendsare', 'thekingshead', 'canlove', 'nic', 'pobox84', 'm263uz', 'appt', 'lttimegt', 'no1', '8077', 'mates', 'wwwgetzedcouk', '36504', 'w45wq', 'norm150ptone', 'cashto', '08000407165', 'getstop', '88222', 'php', 'rg21', '4jx', 'dled', '3d', 'imp', 'aint', 'smokin', 'boooo', 'bec', 'ugh', 'ssnervous', 'costumes', 'gift', 'yowifes', 'hint', 'å£100', 'borrow', 'bag', 'outbid', 'simonwatson5120', 'shinco', 'plyr', 'bid', 'acsmsrewards', 'notifications', 'model', 'youi', 'galileo', 'dobby', 'responding', 'boo', 'enjoyin', 'yourjob', 'gettin', 'hunnyhope', 'oktake', 'iåõllspeak', '2u', 'soonlots', 'loveme', 'xxxx', 'starshine', 'ache', 'sips', 'cappuccino', 'teasing', 'smsservices', 'yourinclusive', 'wwwcomuknet', '3qxj9', 'extra', '08702840625comuk', '220cm2', '9ae', 'alfie', 'moons', 'm8s', 'charity', '8007', 'nokias', 'polys', 'zed', '08701417012', 'profit', 'bits', 'hahahause', 'brain', 'turned', 'green', 'burial', 'mojibiola', 'reveal', '09065174042', 'recd', 'cust', '07821230901', 'mate', 'rv', 'hol', 'havenåõt', 'ages', 'roadsrvx', 'skyped', 'kz', 'sura', 'given', 'ultimatum', 'countin', 'aburo', 'surely', 'successful', 'five', '08002888812', 'inconsiderate', 'nag', 'recession', 'hence', 'voucherstext', 'nowsavamobmember', 'soo', 'understand', '2morrow', 'comprehensive', 'prashanthettans', 'mother', '09066350750', 'ibiza', '10000', 'await', 'collection', '434', 'sk3', '8wp', 'ppm', 'kkwhen', 'meanwhile', 'suite', 'xavier', 'seconds', 'warning', 'samantha', 'playing', 'jays', 'guitar', 'impress', 'doug', 'realizes', 'stomach', 'trauma', 'swear', 'officewhats', 'mattermsg', 'nowi', 'shoes', 'wan', 'inner', 'tigress', 'version', 'poor', 'babyhope', 'urfeeling', 'bettersn', 'probthat', 'overdose', 'careful', 'spk', 'sn', 'lovejen', 'returned', 'fall', 'worlds', 'discreet', 'vip', '83110', 'hai', 'ana', 'sathy', 'rto', 'spoons', 'named', 'tampa', 'genius', 'whenever', 'connections', 'sort', 'lotta', 'corvettes', 'lately', 'yrs', 'supply', 'cds', 'virgin', 'records', 'mystery', '09061104283', 'wwwsmsconet', 'å£150pm', 'approx', 'consider', 'walls', 'bunkers', 'peaceful', 'matter', '07808', 'xxxxxx', '08719899217', '41685', '071104', 'posh', 'birds', 'chaps', 'user', 'trial', 'prods', 'champneys', 'dob', 'asap', 'ta', '0721072', 'philosophical', 'hole', 'saved', 'goodno', 'problembut', 'drop', 'cuddle', 'nap', 'atleast', 'otherwise', 'shakespeare', 'shesil', '10k', '5k', 'travel', '09064011000', 'ntt', 'cr01327bt', 'fixedline', 'castor', 'liverpool', 'played', 'mid', '09058094565', '09065171142stopsms08', 'reminder', 'downloaded', 'httpdoit', 'mymoby', 'knew', 'woul', 'lead', 'wanting', 'curfew', 'gibe', 'midnight', 'getsleep', 'studdying', 'ear', 'training', 'massages', 'oil', 'sup', 'yoyyooo', 'permissions', 'mac', 'usb', 'gibbs', 'unsoldmike', 'hussey', 'failed', 'sad', 'unbelievable', 'faglord', 'wifehow', 'murder', 'nutter', 'cutter', 'ctter', 'cttergg', 'cttargg', 'ctargg', 'ctagg', 'ie', 'thus', 'superb', 'grateful', 'opportunity', 'happier', 'agents', 'experiment', 'due', 'several', 'outstanding', 'invoices', 'possible', 'teach', 'smell', 'tobacco', 'derek', 'taylor', 'assumed', 'worst', 'charles', 'lastest', 'stereophonics', 'marley', 'dizzee', 'racal', 'libertines', 'strokes', 'nookii', 'bookmark', 'plus', 'grinule', 'greet', 'white', 'fudge', 'oreos', 'stores', 'january', 'male', 'sale', 'gay', 'cheaper', '08709222922', '15pmin', '78pmin', 'peak', '08712460324', '10pmin', 'zahers', 'ym', 'nauseous', 'pissed', 'sweets', 'pig', 'dieting', 'chip', 'iam', 'addicted', 'msging', 'wrong', 'photo', 'registered', 'yck', 'ma', 'ashleys', 'avalarr', 'hollalater', 'attend', 'rounds', 'todaybut', 'websitenow', 'blogging', 'magicalsongsblogspotcom', 'chikkuil', 'diet', 'ate', 'slices', 'kvb', 'acc', '88600', 'å£1million', 'ppt150x3normal', 'box403', 'w1t1jy', 'fridayhope', 'alternativehope', 'ore', 'mo', 'owo', 'moments', 'fro', 'wherever', 'samus', 'shoulders', 'matthew', '09063440451', '4lux', 'ppm150', 'box334', 'sk38xh', 'wear', 'jeans', 'fever', 'vomitin', 'kkare', '09061749602', 'å£10000', '528', 'hp20', '1yf', 'stuffed', 'bleh', 'least', 'writhing', 'tons', 'paypal', 'voila', 'pockets', 'places', 'medical', 'folks', '150psms', 'sorta', 'blown', 'recently', 'scores', 'sophas', 'secondary', 'application', 'applying', 'ogunrinde', 'expensive', 'photos', '08718720201', '11414', 'tcrw1', 'lodging', 'chk', 'ms', 'dict', 'shb', 'truth', 'against', 'gravity', 'carefully', 'feels', 'heavy', 'dobbys', 'bowl', 'filthy', 'stories', 'ull', 'brand', 'decision', 'simpler', 'magical', 'welp', 'retired', 'natwest', 'å£800', '09050001808', 'm95', 'valid12hrs', 'chad', 'gymnastics', 'site', 'christians', 'backa', 'necklace', 'token', 'youthats', 'wife', 'likingbe', 'seeno', 'thatdont', 'aptitude', '215', 'horse', 'racing', 'earlier', 'chicken', 'rice', 'closes', 'wrongly', 'ad', 'crap', 'borin', 'boggy', 'boring', 'biatch', 'nxt', 'il', 'hesitate', 'weakness', 'notebook', 'salary', 'chocolate', 'dayshe', 'potential', 'talent', 'reckon', 'eightish', 'carpark', '3g', 'videophones', '09063458130', 'videochat', 'java', 'dload', 'polyph', 'noline', 'rentl', 'fuckin', 'dropped', 'loving', 'yun', 'ahthe', 'ubi', 'tomorrowcall', '67441233', 'ireneere', 'bus822656166382', 'cresubi', 'tech', 'park6ph', '5wkg', 'daysì¬n', 'sd', 'butt', 'sore', 'relaxing', '7am', 'party', '5ish', 'stripes', 'skirt', 'miracle', 'jesus', 'blessed', 'escalator', 'yetunde', 'quiet', 'beth', 'aunts', 'charlie', 'helen', 'nobut', 'heard', 'syllabus', 'panasonic', 'bluetoothhdset', 'doublemins', 'doubletxt', 'contract', '730pm', 'poyyarikaturkolathupalayamunjalur', 'posterode', 'heroi', 'apt', 'opportunitypls', 'ltemailgt', 'kerala', 'terrible', 'fan', 'meat', 'lovers', 'supreme', 'toldshe', 'dearregret', 'cudnt', 'calldrove', 'frm', 'ctla', 'homeleft', 'carente', 'ishtamayoohappy', 'bakrid', 'exe', 'don', 'knowwait', 'glorious', 'anniversary', 'j', 'finds', 'prey', 'coaxing', 'images', 'fond', 'souveniers', 'cougarpen', 'secretly', 'fancies', '09065394514', 'datebox1282essexcm61xn', '150pmin', 'pattern', 'throat', 'scratches', 'plm', 'asleep', 'foreign', 'stamps', 'lecture', 'sheffield', 'nanny', 'raise', 'zoe', 'shitin', 'defo', 'hardest', 'millions', 'lekdog', 'setting', 'filling', 'loverboy', 'blankets', 'sufficient', 'thx', 'nyt', 'edison', 'rightly', 'fool', 'speechless', 'during', 'viva', 'gm', 'atten', 'roast', 'iåõd', '09058097218', 'ls15hb', 'concentrate', 'educational', 'flirting', 'bloke', 'chatting', 'walked', 'doesnåõt', 'serious', 'kickoff', 'euro', 'june', '3rd', 'sells', 'data', 'analysis', 'thesis', 'belligerent', 'hiya', 'april', 'les', 'rudi', 'snoringthey', 'drunk', 'sends', 'ink', '515', 'howre', 'throwing', 'deciding', 'eastenders', 'flower', 'compare', 'herself', 'violet', 'tulip', 'f', 'lily', '84025', 'wkent150p16', 'technical', 'support', 'processnetworking', 'daysso', 'prepared', 'finalise', 'visitneed', 'works', 'wwwflirtpartyus', 'replys150', 'bitch', 'dentist', '09058091854', 'revealed', 'box385', 'm6', '6wu', 'bathing', '09050003091', 'c52', 'xchat', 'lul', 'juicy', 'nurses', 'obese', 'oyea', 'oi', 'ami', 'parchi', 'na', 'kicchu', 'kaaj', 'korte', 'iccha', 'korche', 'tul', 'movies', 'copies', 'sculpture', 'convey', 'regards', 'surya', 'vijay', 'pokkiri', 'pic', 'dearer', 'dem', 'attractioni', 'meshe', 'thoughtsi', 'hershe', 'dreamlove', 'breath', 'namemy', 'hermy', 'heri', 'herwill', 'sorrowsi', 'fight', 'craziest', 'herlove', 'proove', 'planeti', 'singing', 'praises', 'curry', 'makiing', 'sambarlife', 'thenwill', 'lotwill', 'frndship', 'needle', 'clock', 'evn', 'meetitz', '4few', 'alwys', 'conected', 'spatula', 'hands', 'sipix', 'digital', '09061221061', '28days', 'box177', 'm221bp', '2yr', 'warranty', 'p', 'på£399', '09061790121', 'doctor', 'calis', 'complexities', 'freely', 'taxes', 'outrageous', 'tomorro', 'ryder', 'unsoldnow', 'subscriber', 'receipt', 'elvis', 'presleys', 'fret', 'strips', 'postal', 'addressull', 'alrightokay', 'gifts', 'cliff', 'ne', 'interesting', 'wrking', 'uni', 'depressed', 'sittin', 'wind', 'drops', 'black', 'aiyah', 'information', 'o2', 'onto', 'httpwwwurawinnercom', 'surprise', 'awaiting', 'hen', 'online', 'italian', 'grins', 'smoked', 'math', 'sfirst', 'timedhoni', 'rocks', 'teju', 'hourish', 'nothis', 'groundamla', 'durban', 'convenience', 'evaluation', '449050000301', '09050000301', 'speed', 'speedchat', '80155', 'swap', 'chatter', 'chat80155', 'rcd', 'cancel', 'cheyyamoand', '08000776320', 'okok', 'okthenwhats', 'aiyar', 'survey', '80160', 'wwwtxt43com', 'catching', 'throws', 'gal', 'falls', 'brothers', 'whos', 'hmv1', 'errors', 'difficulties', 'correction', 'howz', 'painhope', 'tau', 'sar', 'piah', '1stchoicecouk', '08707808226', 'wearing', 'ohas', 'film', 'hgsuite3422landsroww1j6hl', 'shades', 'copied', 'notified', 'luck', 'marketing', '84122', '08450542832', 'raining', 'station', 'tank', 'virgins', '4fil', 'sexual', 'theirs', 'cute', '69911å£150p', 'sitter', 'kaitlyn', 'adult', 'danger', 'peeps', 'comment', 'veggie', 'neighbors', 'computerless', 'balloon', 'passthey', 'silently', 'ntswt', 'drms', 'roommate', 'wrc', 'rally', 'oz', 'lucozade', 'energy', 'le', '61200', 'packs', 'lucozadecoukwrc', 'itcould', 'melody', 'horrible', 'macs', 'toot', 'bigger', 'nw', 'hme', 'islands', 'chennai', 'velachery', 'flippin', 'breaking', 'cstore', 'annoying', 'hangin', 'makin', 'alivebetter', 'lodge', 'worrying', 'shame', 'quizzes', 'popcorn', 'jordan', 'celeb', 'pocketbabecouk', 'å£3wk', '087016248', 'voicemail', '08719181503', 'thin', 'faultal', 'arguments', 'faultfed', 'himso', '2go', 'thanxxx', 'neft', 'credited', 'beneficiary', 'natuition', 'understanding', 'choice', 'enter', 'wwwldewcomsubs161win150ppmx3', 'appreciated', 'semi', 'apart', 'delivered', 'exp', '30apr', 'strong', 'arms', 'maaaan', 'guessin', 'walmart', 'ilol', 'personally', 'wuldnt', 'mite', 'creepy', 'lunchtime', 'organise', '08719181513', 'kkim', 'finewhen', 'complete', 'passable', 'score', 'phd', '5years', 'easier', 'nok', '87021', 'txtin', '150ptone', '4info', 'prakesh', 'apps', 'rofl', 'betta', 'invest', 'anti', 'aging', 'products', '1hr', 'delay', 'accommodation', 'various', 'global', 'wwwphb1com', 'ph08700435505150p', 'submitting', '84128', 'wwwtextcompcom', '08712405020', '1s', 'snatch', 'purse', 'hellodrivby0quit', 'edrunk', 'iff', 'pthis', 'senrddnot', 'dancce', 'drum', 'basqihave', '2nhite', 'ros', 'xxxxxxx', 'morn', 'relieved', 'westonzoyland', 'greatness', 'europe', 'nobody', 'chinese', 'docs', 'songs', 'havin', 'goin2bed', 'only1more', 'mc', 'hun', '2nitetell', 'every1', 'ava', 'goodtimeoli', 'rang', 'melnite', 'ifink', 'sortedbut', 'everythin', 'monl8rsx', '08712402779', 'flip', 'shun', 'bian', 'glass', 'exhibition', 'el', 'nino', 'himself', 'chikkugoing', 'cbe', 'honey', 'jd', 'executive', 'parents', 'picked', 'downstem', '08718730555', 'wahala', 'inperialmusic', 'listening2the', 'weirdest', 'byåóleafcutter', 'johnåósounds', 'insects', 'molestedsomeone', 'plumbingremixed', 'evil', 'acid', 'didntgive', 'bellearlier', 'hunny', 'exact', '09096102316', '2moro', 'jane', 'callså£1minmoremobsemspobox45po139wa', 'tee', 'cheery', 'cell', 'thts', 'dough', 'control', '80488biz', 'weirdo', 'mode', 'stalk', 'profiles', 'jerry', 'irritates', 'fails', 'express', 'drinkin', 'wondering', 'others', 'dog', 'heygreat', 'dealfarm', 'tour', '9am', '5pm', '95pax', 'deposit', 'jap', 'disappeared', 'birthdate', 'certificate', 'publish', 'dreams', 'nydc', 'wheellock', 'destination', 'fifty', 'favour', 'settling', 'happenin', 'ola', 'cocksuckers', 'ipads', 'worthless', 'garbage', 'novelty', 'items', 'tshirt', 'fran', 'broke', 'knackered', 'janx', 'ps', 'dads', 'designation', 'software', 'developer', 'jamster', 'videosound', 'gold', 'videosounds2', 'logosmusicnews', 'jamstercouk', '16only', '09701213186', 'lions', 'lionm', 'lionp', 'wwwringtonescouk', 'original', '3gbp', 'jokin', 'spirit', 'bb', 'shattered', 'alrite', 'idiot', 'girlie', 'colours', 'darker', 'styling', 'whenevr', 'gray', 'remembr', 'listn', 'watevr', 'whileamp', '\\x89ûïharry', 'potter', 'phoenix', 'harry', 'among', 'readers', 'shd', 'minus', 'paragraphs', 'coveragd', 'vasai', '4o', 'retard', 'bathroom', 'sang', 'uptown', '80s', 'february', 'rush', 'icic', 'syria', 'canada', 'heartsnot', 'cares', 'goodnoon', 'gauge', 'pattys', 'interest', 'mondaynxt', 'vl', 'completing', 'ax', 'chill', '6hrs', 'surgical', 'emergency', 'unfolds', 'frens', 'korean', 'leonas', 'fredericksburg', 'que', 'pases', 'un', 'buen', 'tiempo', 'chillin', 'super', 'free2day', 'georges', 'jordantxt', '89080', 'saucy', 'celeb4', '0870241182716', 'tmrw', 'compass', 'soul', 'worldgnun', 'way2smscom', 'baaaaabe', 'misss', 'youuuuu', 'ned', 'convince', 'tht', 'witot', 'hurting', 'main', 'sweetie', 'blackberry', 'buyer', 'melike', '4a', 'pple', 'marry', 'becz', 'undrstndng', 'avoids', 'problems', 'chain', 'suffer', 'whn', 'arrested', 'suntec', 'steamboat', 'dance', 'moji', 'forgive', 'messenger', 'reaching', 'tp', 'fantasies', '08707509020', '20p', '1327', 'croydon', 'cr9', '5wb', '0870k', 'bbq', '6ish', 'everyso', 'panicks', 'outhave', 'fill', 'bar', 'write', '3cover', 'screen', '4press', '5gently', 'bears', 'nick', 'tom', 'fact', 'types', 'upload', '08718730666', 'auntie', 'huai', 'juan', 'linerental', 'call2optoutlf56', 'tlk', 'ideal', 'path', 'appear', 'front', 'paths', 'walking', 'arm', 'shot', 'reserve', 'thirunelvali', 'tirunelvali', 'evei', 'netno', 'availablei', 'tackle', 'storming', 'phne', 'wt', 'meaning', 'margaret', 'girlfrnd', 'grahmbell', 'invnted', 'telphone', 'moralone', '4get', 'popped', 'tonght', 'ploughing', 'pile', 'ironing', 'chinky', 'wi', 'nz', 'players', 'unsold', 'effect', 'geelater', 'aust', 'bk', 'cafe', 'recharged', 'kidding', 'papa', 'shld', 'stretch', 'detailed', 'sinco', 'payee', 'icicibankcom', 'urn', 'beware', 'frauds', 'share', 'disclose', 'vote', 'caring', 'losers', 'kaiez', 'tuition', 'gee', 'option', 'beta', 'practicing', 'babies', 'kkany', 'noncomittal', 'beneath', 'pale', 'moon', 'goodnite', '150pmsgrcvdhgsuite3422landsroww1j6hl', 'snickering', 'tells', 'totally', 'chords', 'nofew', 'beforewent', 'rem', 'silver', 'lmao', 'silence', 'wwwldewcom', 'win150ppmx3age16', 'exams', 'revision', 'boyf', 'interviw', 'exeter', 'worriedx', 'spreadsheet', 'whose', 'determine', 'entire', 'arsenal', 'dartboard', 'condition', 'doubles', 'trebles', 'coat', 'painful', 'everybody', 'recognises', 'alone', 've', 'wisheds', 'intrepid', 'duo', 'sen', 'missin', 'guilty', 'aiya', 'cardiff', 'addie', 'tues', 'breeze', 'bright', 'fresh', 'twittering', 'yagoing', 'restaurant', 'textpod', 'pod', 'wwwtextpodnet', 'ducking', 'chinchillas', 'function', 'headstart', '230ish', 'desperate', 'earlierwe', 'rummer', 'flying', 'monkeys', 'certainly', 'optin', 'bbc', 'charts', 'thanks2', 'rajini', 'practical', 'stupidits', 'summers', 'matched', 'help08714742804', 'spys', 'mails', 'claire', '2nite', '09099725823', 'bought', 'costing', 'offering', 'yalru', 'lyfu', 'astne', 'innu', 'mundhe', 'lyf', 'ali', 'halla', 'ke', 'bilo', 'marriageprogram', 'edhae', 'ovr', 'chikkuali', 'vargu', 'meow', 'meowd', 'twelve', 'aah', '09066362231', '07xxxxxxxxx', '020603', 'prone', '07801543489', 'latests', 'wordcollect', 'no83355', 'tcllc', 'nyusa', '150pmt', 'msgrcvd18', 'permission', 'lucy', 'hubby', 'meetins', 'cumin', '09099726395', 'callså£1minmobsmorelkpobox177hp51fl', 'wonders', '7th', '6th', '5th', '4th', 'personality', 'nature', 'dose', 'tablet', 'incomm', 'blakes', 'waitshould', 'lotr', 'w', 'keeping', 'google', 'maps', 'tiring', 'modules', 'concentrating', 'browsin', 'compulsory', 'purity', 'messageits', 'musthu', 'investigate', '80488', 'www80488biz', 'vomit', 'moneyas', 'youmoney', 'thinghow', 'sha', 'vitamin', 'centre', 'crucial', 'someones', 'jsco', '2channel', 'leadership', 'skills', 'psychic', 'wquestion', 'hostbased', 'idps', 'linux', 'systems', '0870', 'dawhats', 'total', 'converter', 'along', 'stars', 'karaoke', 'testing', 'sayy', 'loved', 'except', 'nit', 'peteis', 'leannewhat', 'eight', 'file', 'format', 'disc', 'internet', 'champ', 'glasgow', 'kall', 'bestcongrats', 'lovin', 'arrive', 'shortly', 'install', 'browse', 'artists', 'corect', 'speling', 'sarcasm', '10803', '08714719523', 'forum', 'ron', 'hicts', 'employee', 'aunt', 'nike', 'sooo', 'screaming', 'shouting', 'dang', 'unfortunately', 'airport', '7250i', 'auction', '86021', 'roww1jhl', 'difficult', 'earliest', 'nordstrom', 'konw', 'waht', 'rael', 'gving', 'yuo', 'exmpel', 'jsut', 'ese', 'tihs', 'evrey', 'splleing', 'wrnog', 'sitll', 'raed', 'wihtuot', 'ayn', 'mitsake', 'sleepsweet', 'conference', 'wwworangecoukow', 'degree', 'joining', 'finance', 'prospects', 'bleak', 'filled', 'shant', 'jia', 'bishan', 'nearer', 'sux', 'raiden', 'buff', 'south', 'preferably', 'kegger', 'totes', 'pierre', 'cardin', 'costs', 'rhythm', 'establish', 'truro', 'ext', 'gas', 'gang', 'adventure', 'worryuse', 'cloth', 'packalso', 'tablets', 'sunroof', 'excellent', 'finishing', 'doors', 'wifi', 'blanked', 'image', 'noi', 'rumour', 'kalainar', 'officethenampet', '7250', 'nosy', 'idk', 'reacting', 'freaked', 'whom', 'satanic', 'imposter', 'meneed', 'priceso', 'itmay', 'destiny', 'companion', 'chef', 'listener', 'organizer', 'boyfriend', 'sympathetic', 'athletic', 'courageous', 'determined', 'dependable', 'psychologist', 'pest', 'exterminator', 'psychiatrist', 'healer', 'stylist', 'driver', 'aaniye', 'pudunga', 'venaam', 'brothas', 'chasing', 'chez', 'jules', 'hhahhaahahah', 'nig', 'leonardo', 'dereks', 'lt3', 'kicks', 'john', '2years', 'strain', 'dime', 'transfer', 'withdraw', 'anyhow', 'falling', 'force', 'smeone', 'millers', 'fire', 'spark', 'flame', 'rawring', 'xoxo', 'somewhr', 'crushes', 'honeymoon', 'outfit', 'propose', '08719899230', 'blame', 'gods', 'blessings', 'cheque', 'olympics', 'leo', 'kthen', 'patty', 'donewant', 'haul', 'wildlife', 'want2come', 'that2worzels', 'wizzle', 'dippeditinadew', 'lovingly', 'itwhichturnedinto', 'gifted', 'tomeandsaidthis', 'shanghai', 'instead', 'cya', 'freezing', '645', 'rtking', 'pro', 'inforingtonekingcouk', '08701237397', 'redeemable', 'wwwringtonekingcouk', 'thnx', 'sef', 'anjie', 'batch', 'fring', 'flaky', 'sooooo', 'laughing', 'winning', 'tooo', 'nte', '09058094599', 'confuses', 'doesn\\x89û÷t', 'wating', '250', 'british', 'hotels', 'london', '02072069400', 'bx', '526', 'sw73ss', 'talents', '6pm', 'animal', 'buzz', 'adoring', 'eerie', 'title', 'dracula', 'titles', 'ghost', 'addamsfa', 'munsters', 'exorcist', 'twilight', 'brought', 'shiny', 'warming', 'constant', 'cared', 'wasnt', 'surprised', 'french', 'fooled', '0anetworks', 'allow', 'companies', 'responsible', 'suppliers', 'comedycant', 'freemsgfeelin', 'lnly', 'jst', 'moby', 'pictxt', '82242', 'msg150p', '2rcv', 'hlp', '08712317606', 'keen', 'switch', 'dammit', 'wright', 'fly', 'somewhat', 'event', 'laden', 'wrecked', 'spontaneously', 'goodevening', 'bagi', 'lei', 'action', '80608', 'wwwmovietriviatv', '08712405022', 'waking', 'sif', 'partnership', 'rgent', 'lookin', 'daytime', 'busty', '09099726429', 'janinexx', 'mostly', 'inside', 'spageddies', 'phasing', 'fourth', 'dimension', 'yesbut', 'meaningful', 'compromised', 'lmaonice', '09050001295', 'a21', 'monthly', 'mobsicom', '391784', 'dub', 'je', 'toughest', 'å£6', 'ideas', 'sight', 'remain', 'maintain', 'shjas', 'squatting', 'cramps', '0089my', 'digits', 'received', '09063442151', 'ringtoneget', 'freesend', '816183', 'weekstop', 'sms08718727870', 'nan', 'sonathaya', 'soladha', 'raping', 'dudes', 'poker', 'weightloss', 'mushy', 'embarrassed', 'stash', 'ran', 'priya', 'ordered', '81303', 'father', 'messy', 'kilos', 'accidant', 'tookplace', 'ghodbandar', 'rd', 'traffic', 'moves', 'slovely', 'slip', 'ahnow', 'wkg', 'wherebtw', 'nus', 'sc', 'specialise', 'wad', 'likes', 'dislikes', 'keeps', 'queen', 'desparately', 'fren', 'promises', 'gotten', 'stereo', 'mi', 'unknown', 'album', '121', '60pmin', 'connect', '09094646899', 'vu', 'bcm1896wc1n3xx', 'classmates', 'firesare', 'boys', '2007', 'prebook', 'trackmarque', 'infovipclub4u', 'missionary', 'hook', 'standing', 'entertaining', 'hugh', 'laurie', 'stick', 'indeed', 'praps', 'jon', 'bin', 'spain', 'dinero', 'åôrents', '12000pes', 'å£48', 'james', 'hunnywot', 'bedroomlove', 'maangalyam', 'alaipayuthe', 'complaining', 'mandy', 'sullivan', 'hotmix', 'fmyou', 'chosen', 'å£500000', 'easter', 'drawplease', 'telephone', '09041940223', '290305', 'transferred', 'finns', 'di', 'bahamas', 'callfreefone', '08081560665', 'cruise', 'ofå£2000', '18only', '07786200117', 'calm', 'downon', 'theacusations', 'itxt', 'iwana', 'wotu', 'doin', 'thewend', 'haventcn', 'agesring', 'up4', 'nething', 'satlove', 'dine', 'conacted', 'youto', '09111030116', 'pobox12n146tf15', 'iåõm', 'vtired', 'social', 'inspection', 'nursery', 'detailsi', 'youmy', 'slowly', 'becomes', 'habit', 'follow', 'itmail', 'panren', 'paru', 'chuckin', 'trainners', 'carryin', 'bac', 'schedule', 'gooddhanush', 'needing', 'stuck', 'chikkusimple', 'habbahw', 'dileepthank', 'muchand', 'supportvery', 'contacts', 'hereremember', 'venugopal', 'mentionedtomorrow', 'latei', 'theregoodnight', 'remembrs', 'forgets', 'everytime', 'joys', 'mandan', '07734396839', 'ibh', 'nokia6600', 'txtauctiontxt', 'wordstart', 'no81151', 'now4t', 'regarding', '3230', 'textbook', 'algorithms', 'edition', 'selling', 'buns', 'adore', 'invaders', 'orig', 'arcade', 'console', '0', 'o2coukgames', 'settings', 'alert', '09064018838', 'cro1327', 'atlanta', 'recharge', 'created', 'fills', 'gaps', 'holding', 'yessura', 'tvlol', 'arun', 'transfr', 'takin', 'philosophy', '4ui', 'didnåõt', 'intend', 'iwasmarinethatåõs', 'itried2tell', 'urmomi', 'careabout', 'foley', 'exciting', 'prizes', 'eye', 'wwwwin82050couk', 'desparate', 'learned', 'fake', 'answering', 'iraq', 'afghanistan', 'stable', 'honest', 'traveling', 'blessget', '1225', 'å£50award', '3100', 'pai', 'seh', 'beer', 'combine', 'parts', 'walsall', 'tue', 'terry', 'jess', 'sian', 'ccna', 'shrek', '3db', 'dirty', 'fellow', 'somethings', 'dying', 'lifting', 'teresa', 'package', 'dec', 'yould', 'bam', 'aid', 'usmle', 'squishy', 'mwahs', 'hottest', 'g696ga', 'prominent', 'cheek', 'september', 'husband', 'hack', 'backdoor', 'fraction', 'neo69', '09050280520', 'subscribe', 'dps', 'bcm', '8027', 'norm', '415', 'list', 'joanna', 'comingdown', 'dagood', 'replacement', 'murali', 'playerwhy', 'sts', 'engalnd', 'telly', 'mia', 'elliot', 'kissing', 'upto', '12mths', '12price', 'xnet', 'mins100txtmth', 'btooth', '08001950382', '2optoutd3wv', 'wiproyou', 'matric', '850', 'toa', 'payoh', '650', '08718726970', 'btnationalrate', 'payments', 'fedex', 'kyou', 'reception', 'godi', 'youclean', 'bloodsend', 'itplspls', 'hate', 'consensus', 'entertain', 'delete', 'tag', 'wednesday', 'skype', 'laundry', 'underwear', 'bras', 'strewn', 'pillows', 'waheed', 'fathima', 'mmmm', 'weaknesses', 'pushes', 'knees', 'exposes', 'pulls', 'wicked', 'sh', 'readyall', 'supports', 'srt', 'thnk', 'ps3', 'jontin', 'prizeto', 'nearly', 'banned', 'pen', 'beyond', 'biro', 'masters', '09058094594', 'unconsciously', 'avoiding', 'unhappy', 'excuse', 'jog', '0776xxxxxxx', '18yrs', '09061743811', 'abta', '326', 'season', 'lark', 'stations', '09090900040', 'extreme', 'sic', '60p', '247mp', '0870753331018', 'videopic', 'fones', 'wild', '150prcvd', 'stop2stop', 'uh', 'heads', 'lim', 'vday', 'parachute', 'placed', '80182', '08452810073', 'therere', 'table', 'lambda', 'build', 'snowman', 'angels', 'snowball', 'fights', 'ello', 'ikea', 'ofice', 'cn', 'oficegot', 'duffer', 'grr', 'prescription', 'pharmacy', 'cook', 'electricity', '08715500022', 'rpl', 'cnl', 'nor', 'fffff', 'kadeem', 'fujitsu', 'lifebook', 'scold', 'zhong', 'se', 'qing', 'act', '46', 'accordingly', 'hypertension', 'mineall', 'wud', 'annoyin', '08702490080', '09066358152', 'prompts', 'vpod', 'carry', 'disturbing', 'avatar', 'nigro', 'scratching', 'anyplaces', 'stops', 'cleaning', 'upset', 'priority', 'constantly', 'ecstasy', '09090204448', 'minded', 'aå£150', 'minapn', 'ls278bb', 'flies', 'hittng', 'reflex', 'costa', 'sol', '09050090044', 'toclaim', 'pobox334', 'stockport', 'costå£150pm', 'max10mins', 'kkwhy', 'lousy', 'cat', '1010', 'woken', 'hip', 'adewale', 'aka', 'egbon', 'minstand', 'ic', 'mary', 'deduct', 'wrks', 'monkey', 'asshole', 'grab', 'sliding', '09065394973', 'payback', '31', 'honeybee', 'sweetest', 'laughed', 'waitu', 'havnt', 'moral', 'crack', 'gmgngegn', 'tescos', 'feathery', 'bowa', 'infra', 'nvm', 'gep', 'delhi', 'thinkin', '2006', 'fifa', 'held', '87239', 'boat', 'shhhhh', 'related', 'arul', 'amk', '09061743810', 'length', 'fringe', 'distract', 'santha', 'corrct', 'dane', 'baskets', 'proof', 'rupaul', '61610', 'help08712400602450p', 'provided', 'tones2youcouk', 'practising', 'curtsey', 'yeh', 'memory', 'mon', 'converted', 'themobyo', 'yohere', 'downloads', 'members', 'ssindia', 'african', 'soil', 'major', 'roles', 'outreach', 'mel', 'birth', '8lb', '7oz', 'brilliantly', 'forwarding', 'intention', 'visitors', 'rules', 'responsibility', 'bend', 'rule', 'thia', 'inlude', 'previews', 'freefone', '08006344447', 'ambrithmaduraimet', 'dha', 'marrgeremembr', 'kitty', 'shaved', 'natural', 'onwards', 'anybodys', 'tactful', 'skillgame1winaweek', 'age16150ppermesssubscription', 'theatre', 'obviously', 'eggspert', 'potato', 'head\\x89û', 'crammed', 'satsgettin', '447per', 'lie', 'apologize', 'admit', 'pei', 'kid', 'boost', 'subtoitles', 'sitting', 'jot', 'pack', 'storelike', 'cereals', 'gari', 'infernal', 'affair', 'including', 'bold2', 'calicut', '09094100151', 'cast', 'aom', 'gbp5month', 'box61m60', '1er', 'thkin', 'nd', 'parco', 'nb', 'resubbing', 'shadow', 'breadstick', 'ahmad', 'saeed', 'hallaq', '09066362220', 'box97n7qp', 'redim', 'blueu', 'purpleu', 'pinku', 'orangei', 'lyk', 'greeni', 'yelowi', 'bck', 'blackim', 'browni', 'giv', 'color', 'arranging', 'eldest', 'drugdealer', 'gender', 'wither', 'eg23f', 'eg23g', 'sleepwellamptake', 'wondarfull', 'messagestext', 'nowuse', 'web2mobile', 'txt250com', 'box139', 'la32wu', 'txtx', 'normally', 'hunonbus', 'donyt', 'homebut', 'latelyxxx', '85233', 'freeringtonereply', 'mca', 'rich', 'official', 'flag', 'yer', '84199', 'eng', 'box39822', 'w111wx', 'yor', 'ownyouve', 'stressed', 'skallis', 'jason', 'soooo', 'provider', 'tming', 'subs', 'cutest', 'dice', 'art', 'inclusive', 'help08700469649', 'box420', 'ip4', '5we', 'howda', 'mathe', 'samachara', 'audrie', 'autocorrect', 'simulate', 'readiness', 'armand', 'andor', 'vomiting', 'rub', 'feet', 'lara', 'supplies', 'clever', 'guesses', 'attach', '087123002209am7pm', 'med', 'stamped', '113', 'bray', 'wicklow', 'eire', 'washob', 'nobbing', 'nickey', 'platt', 'ryan', 'vikky', 'wwwidewcom', 'skillgame', '1winaweek', '150ppermesssubscription', 'mad', 'argh', 'spotty', 'province', 'sterling', 'problemfree', 'looked', 'xam', 'hall', 'term', 'manage', 'hesitation', 'intha', 'ponnungale', 'ipaditan', 'rejected', 'shitload', 'diamonds', 'tessypls', 'favor', 'nimyapls', 'shijas', 'aunty', 'china', 'noisy', 'needa', 'mcat', 'sfrom', 'manual', 'processits', 'reset', 'troubleshooting', 'b4u', 'wc', '2703', 'marsms', 'wwwb4utelecom', '08717168528', 'strongly', 'sacrifice', 'beg', 'expecting', 'creativity', 'stifled', 'morphine', 'requirements', 'stayin', 'strangersaw', 'heåõs', 'sorted', 'nowstill', 'mrur', '2getha', 'buffy', 'satisfy', 'pix', 'qlynnbv', 'help08700621170150p', '8830', 'cld', 'prefer', 'nosh', 'waaaat', 'lololo', 'tables', 'occupied', 'comei', 'kindly', 'documents', 'submitted', 'stapati', 'miles', 'cutie', 'wales', 'hills', 'killed', 'colleagues', 'sed', 'mood', 'minuts', 'latr', 'caken', 'kidz', 'sofa', 'honesty', 'specialisation', 'labor', 'shakara', 'beggar', 'smashed', 'dent', 'everybodys', 'crickiting', 'imin', 'towndontmatter', 'urgoin', 'outl8r', 'yavnt', 'popping', 'ibuprofens', 'sip', 'grown', 'chinatown', 'porridge', 'claypot', 'yam', 'fishhead', 'beehoon', 'tok', 'specific', 'jaklin', 'nearby', 'cliffs', '449month', 'ntwk', 'bundle', 'deals', 'avble', 'call2optoutj', 'mf', 'pages', 'figures', 'ooh', '4got', 'moseley', 'weds', '630', 'thankyou', 'pendingi', 'dayswill', 'thrurespect', 'homecheck', 'affectionate', 'loveable', 'eternal', 'noble', 'truthful', 'intimate', 'enamous', 'textin', 'cousin', 'excuses', 'rajipls', 'nimya', 'legs', 'neck', 'amigos', 'burn', 'progress', 'continue', 'holy', 'werent', 'arty', 'collages', 'tryin', 'billion', 'classes', '2hrs', 'waliking', 'cartons', 'shelves', '08714712379', 'distance', 'mirror', 'turning', 'freak', 'ref', 'k718', 'å£450', '09065069120', 'jod', 'keris', 'smidgin', 'collegexx', 'belive', 'intentions', 'empty', 'slots', 'accordin', 'discussed', 'knocking', 'sicomo', 'nolistened2the', 'plaid', 'albumquite', 'gdthe', 'air1', 'hilariousalso', 'boughtåóbraindanceåóa', 'compofstuff', 'aphexåõs', 'abel', 'nelson', 'bbs', 'temp', 'unmits', 'display', 'newspapers', 'soup', 'yummmm', 'management', 'puzzeles', 'include', '4goten', 'scammers', 'smartthough', 'regular', 'prem', 'msgsubscription', '2morro', 'passion', '09099726481', 'dena', 'å£1minmobsmorelkpobox177hp51fl', 'spoiled', 'r836', '09065069154', 'threats', 'sales', 'shifad', 'raised', 'complaint', 'doctors', 'reminds', '2godid', 'lounge', 'lk', 'role', 'lov', 'checked', 'splashmobile', 'subscrition', '300p', 'dust', 'u4', '01223585334', '2c', 'shagged', '8552', '2end', '88877free', '88877', '88066', '3pound', 'watchin', 'meaningless', 'alls', 'brdget', 'jones', 'inever', 'hmmbad', 'newshype', '700', 'studio', 'takenonly', 'bedrm900', 'unable', 'waited', 'velly', 'wkend', 'journey', 'huge', 'marking', 'letters', 'mids', 'oranges', 'upd8', '2stoptx', 'annie', 'remind', '08718738034', '21870000hi', 'mailbox', 'messaging', '21', '09056242159', 'retrieve', 'vai', 'hrishi', 'nothin', 'hanger', 'poem', 'cheer', 'tear', 'thatll', 'quizwin', 'duchess', 'cornwall', '82277unsub', '008704050406', 'sp', 'arrow', 'bags', 'blanket', '08718726971', 'tddnewsletteremc1couk', 'thedailydraw', 'dozens', 'prizeswith', 'significant', 'waqt', 'pehle', 'naseeb', 'zyada', 'kisi', 'ko', 'kuch', 'nahi', 'miltazindgi', 'wo', 'jo', 'hum', 'sochte', 'zindgi', 'jeetey', 'worse', 'stalking', 'dan', 'reminded', 'varaya', 'elaya', '100603', '09066368753', '97n7qp', 'anand', 'beach', 'expected', 'aww', 'deadwell', 'jez', 'iscoming', 'todo', 'workand', 'whilltake', 'zogtorius', 'iåõve', 'staring', 'whether', 'financial', 'problemi', 'alian', 'freenokia', 'or2optouthv9d', 'posible', 'century', 'cm', 'frwd', 'unnecessarily', 'sorts', 'ringtones', 'restrictions', 'buddys', '80082', '08712402902', 'owned', 'possessive', 'nohe', 'clarification', 'spook', 'halloween', '08701417012150p', 'logopic', 'issue', 'weigh', 'regret', 'fantasy', 'football', 'sky', 'gamestar', 'active', 'å£250k', 'scoring', 'nowsky', '88088', 'coimbatore', 'expired', 'resub', 'monoc', 'monos', 'polyc', 'stream', '0871212025016', 'opinions', 'categories', 'measure', 'ethnicity', 'census', 'transcribing', 'propsd', 'gv', 'lv', 'lttrs', 'threw', 'thm', 'aproach', 'dt', 'truck', 'speeding', 'wn', 'girld', 'hw', 'instantly', 'thy', 'lived', 'happily', '2gthr', 'drinking', 'evrydy', 'msgsd', 'paragon', 'cakes', 'bluff', 'impossible', 'draws', 'goodmate', 'sary', 'asusual1', 'cheered', 'franyxxxxx', 'batt', 'added', 'wwwfullonsmscom', 'gn', 'pussy', 'becausethey', '09058098002', 'pobox1', 'w14rg', 'messageno', 'responcewhat', 'happend', 'piece', 'wiskey', 'brandy', 'rum', 'gin', 'vodka', 'scotch', 'shampain', 'kudiyarasu', 'dhina', 'vaazhthukkal', 'gained', 'kg', 'sugar', 'pressure', 'limits', 'dumb', 'thangam', 'okey', 'doke', 'dressed', 'laying', 'kills', 'neshanthtel', 'byatch', 'whassup', 'kay', 'roger', 'cl', 'nasty', 'filthyguys', 'slo', 'slo4msgs', 'wasted', 'chiong', 'christ', 'dialogue', 'reltnship', 'solve', 'murdered', '1his', 'police', '2police', 'questioned', '3wife', 'siri', '4cook', 'cooking', '5gardener', 'vegetables', '6housemaid', '7children', '8neighbour', 'murderer', 'brilliant', 'pose', 'comb', 'dryer', 'fps', 'computational', 'science', 'push', 'answered', 'madamregret', 'disturbancemight', 'dlf', 'premaricakindly', 'informedrgdsrakheshkerala', 'gotto', '08702840625', 'comuk220cm2', 'settle', 'err', '8pm', 'bloo', 'kbut', 'hitteranyway', 'offline', 'anjolas', 'ithis', 'wwwasjesuscom', 'wrote', 'indians', 'swiss', 'directors', 'lac', 'crore', 'deposited', 'taxless', 'budget', 'jobs', 'lane', 'suply', 'projects', 'citizen', 'imf', 'blocked', 'politicians', 'rights', 'corrupt', 'itna', 'karo', 'pura', 'padhegm', 'torrents', 'particularly', 'slowing', 'commit', 'random', '83370', 'wwwmusictrivianet', 'rightio', '1148', 'brum', 'donno', 'scorable', 'paranoid', 'brin', 'properly', 'sheet', 'kgive', 'complain', 'onlybettr', 'bsnl', 'offc', 'payed', 'suganya', 'dessert', 'abeg', 'sponsors', 'onum', 'candont', 'poet', 'imaginationmy', 'carso', 'rr', 'famamus', 'pongaldo', 'sry', 'furniture', 'lock', 'locks', 'key', 'jenne', 'easiest', 'barcelona', 'ru', 'sppok', '09066612661', 'complementary', 'wa14', '2px', 'sender', 'kdo', 'daurgent', 'pansy', 'jungle', 'kanji', 'drinkpa', 'srs', 'drizzling', 'appointments', 'shoving', 'papers', 'greetings', 'excused', 'drama', 'plsi', 'struggling', 'strange', 'placeno', 'ego', 'necessity', 'gowait', 'reppurcussions', 'released', 'cosign', 'hvae', '09061701444', '24', 'acl03530150pm', 'hcl', 'requires', 'freshers', 'processexcellent', 'neededsalary', 'mssuman', 'telephonic', 'indyarockscom', 'resume', 'datoday', 'cars', 'bids', 'restuwud', 'reliant', 'fwiw', 'afford', 'happens', 'kanowhr', 'maga', 'sq825', 'arrival', 'yunny', 'citylink', 'er', 'props', 'pleasant', 'statements', '6230', '83383', 'pobox11414tcrw1', 'bognor', 'splendid', 'yesim', 'ktv', 'misplaced', 'computers', 'mmmmm', 'medicine', 'begun', 'registration', 'permanent', 'residency', 'plenty', 'relatives', 'deliver', 'risks', 'benefits', 'amount', 'hmmmhow', 'predicting', 'accumulation', 'programs', 'belongs', 'herwho', 'fated', 'shoranur', 'incident', 'fuelled', 'concern', 'prior', 'grief', 'violence', 'goodenvironment', 'terrific', 'text82228', 'logos', 'wwwtxt82228com', 'infotxt82228couk', 'honestly', 'promptly', 'burnt', 'advice', 'snap', 'quizclub', '80122300pwk', 'sprwm', 'ph08704050406', 'gmw', 'connected', 'someplace', 'goods', 'pressies', 'dr', 'superior', 'ultimately', 'tor', 'motive', 'tui', 'achieve', 'korli', 'we\\x89û÷ll', 'dock', 'rolled', 'newscaster', 'dabbles', 'flute', 'behind', 'wheel', 'bx420', 'amazing', 'picsfree1', 'vid', 'keyword', 'ruin', 'erm', 'the4th', 'october', '83435', 'elaborating', 'safety', 'aspects', 'issues', 'tarot', '85555', 'department', 'oursso', 'youany', 'hr', 'conform', 'horniest', 'instructions', 'nytec2a3lpmsg150p', 'flow', 'developed', 'ovarian', 'cysts', 'bc', 'shrink', 'onit', 'upping', 'grams', 'timin', 'apes', 'death', 'ibm', 'hp', 'toshiba', 'gosh', 'spose', 'usualiam', 'rimac', 'arestaurant', 'squid', '1030', 'dosomething', 'ucall', 'wrki', 'dabooks', 'hrs', 'nite2', 'wrk', 'eachother', 'luckily', 'starring', 'madam', 'restocked', 'knock', 'wwwtklscom', 'stoptxtstopå£150week', 'innocent', 'mental', 'smoothly', 'hoped', 'bills', 'challenging', '2marrow', 'hon', 'pple700', '900', 'nightsexcellent', 'breakfast', 'hamper', 'cc100pmin', 'reality', 'daal', 'above', '0870737910216yrs', 'å£150wk', 'unni', 'rechargerakhesh', 'lacking', 'particular', 'dramastorms', 'forfeit', 'treated', 'digi', '9pm', 'fab', 'coupla', 'wks', '077xxx', '09066362206', 'sundayish', 'prasad', 'tiwary', 'rcbbattle', 'bang', 'kochi', 'cancer', 'checkup', 'pap', 'smear', 'gobi', 'arts', 'pandy', '4w', 'technologies', 'todayhe', 'olowoyey', 'uscedu', 'argentina', 'secretary', 'taxt', 'massagetiepos', 'lool', 'dollar', 'pull', 'spending', 'taylors', 'shaking', 'booty', 'timeslil', 'busyi', 'scarcasim', 'naal', 'eruku', 'chikkuwat', 'w4', '5wq', 'remains', 'bro', 'amongst', 'bros', 'impressively', 'sensible', 'whens', '69696', '3lp', 'å£150msg', 'response', 'alsoor', 'danalla', 'obedient', 'ft', 'combination', 'needy', 'pouts', 'stomps', 'northampton', 'abj', 'serving', 'playng', '1mcflyall', 'ab', 'sara', 'jorgeshock', 'smithswitch', 'anna', 'nagar', 'yupz', 'modelsony', 'ericson', 'der', 'luks', 'modl', 'cheesy', 'frosty', 'witin', 'sports', 'fans', '0870141701216', '4txt120p', '10th', 'sept', '09050000555', 'ba128nnfwfly150ppm', 'shirts', 'nudist', 'themed', 'pump', 'petrol', 'å£12', 'feb', 'ignore', 'evr', 'signal', 'neither', 'unusual', 'hugs', 'snogs', 'west', 'palm', 'printing', 'handing', 'fastest', 'growing', '83021', 'chase', 'stated', 'tariffs', '2stoptxt', 'perpetual', 'dd', 'steam', 'reg', 'pract', 'flung', 'housemaid', 'public', 'govtinstituitions', 'closedincluding', 'officeunderstand', 'process', 'justbeen', 'overa', 'brains', 'mush', 'tunde', 'missions', 'luxury', 'canary', '20m12aq', '\\x89ûï', 'lux', '28', 'eh74rr', 'sleepy', 'dare', 'ben', 'mag', 'avo', 'middle', 'crashed', 'cuddled', 'chachi', 'pl', 'tiz', 'kanagu', 'prices', 'ringing', 'houseful', 'brats', 'pulling', 'diwali', 'tick', 'nowonion', 'derp', 'abusers', 'lipo', 'netflix', 'thgt', 'clash', 'arr', 'oscar', 'rebtel', 'firefox', 'lower', '69969', 'bcmsfwc1n3xx', 'impressed', 'funs', 'footy', 'stadium', 'large', 'cocacola', 'dark', 'teenager', 'teluguthts', 'gudk', 'exhaust', 'replacing', 'mittelschmertz', 'paracetamol', 'salespee', 'arrived', 'cthen', 'enuff', 'conclusion', 'contents', 'references', 'cover', 'atyour', 'success', 'u\\x89ûªve', 'å£50', 'instant', '08715203028', '9th', 'å£50å£500', 'rugby', 'affidavit', 'twiggs', 'division', 'courtroom', 'creep', 'freemsgfav', 'tonesreply', 'lil', 'showers', 'possessiveness', 'poured', 'lies', 'golden', 'lasting', 'mobs', 'breathe1', 'crazyin', 'sleepingwith', 'finest', 'ymca', 'getzedcouk', 'pobox365o4w45wq', 'wtc', 'weiyi', 'property', 'interflora', 'åòits', 'flowers', '505060', 'godtaken', 'teethis', 'paining', 'romcapspam', 'presence', 'outgoing', 'maggi', 'mee', '08712103738', 'cough', 'com', '09058099801', 'b4190604', '7876150ppm', 'bbdpooja', 'pimpleseven', 'blackand', 'sweatter', 'nicenicehow', 'ambitious', 'miiiiiiissssssssss', 'tunji', 'iz', 'yellow', 'misscall', 'frndz', '6missed', 'freemessage', 'jamsterget', 'frog', 'mad1', 'mad2', '88888', 'gbpweek', 'wipro', 'tall', 'doubt', 'handle', 'note', 'robs', 'avenge', 'japanese', 'proverb', 'itu', 'itleave', 'strike', 'choices', 'toss', 'coin', 'gudni8', 'dancin', 'explicitly', 'nora', 'smith', 'gayle', 'crucify', 'moved', 'butting', 'freedom', 'vs', 'cedar', 'twenty', 'durham', 'reserved', 'seat', 'porn', '69855', '50p', 'stopbcm', 'sf', 'painting', 'wall', 'printer', 'groovy', 'groovying', 'harishs', 'transfred', 'acnt', 'nowadayslot', 'showroomscity', 'shaping', 'attending', 'talks', 'probs', 'doinat', 'callon', 'low', 'rons', 'swatch', 'kkyesterday', 'ganesh', 'dress', 'pdatenow', 'call2optoutyhl', 'collecting', 'configure', 'trips', 'i\\x89ûªm', 'isn\\x89ûªt', 'anal', 'pears', 'helloooo', 'welcomes', 'celebrate', 'such', 'oooooh', '09058094454', 'thatnow', '54', 'resubmit', 'expiry', 'weåõve', '2geva', 'mint', 'uxxxx', 'humans', 'studyn', 'wuld', 'everyboy', 'xxxxxxxx', 'solved', '532', '924', '863', '725', 'brilliant1thingi', 'answr', 'liquor', 'flaked', 'loko', '730', 'lined', 'tm', 'laughs', 'fireplace', 'icon', '08712400200', 'fifth', 'woozles', 'weasels', '08718723815', 'gary', 'machines', 'fucks', 'sake', 'ignorant', 'mys', 'bruce', 'downs', 'fletcher', '27603', '08714714011', 'teaching', 'bowls', 'cozy', 'nightnobody', 'buzzzz', 'chest', 'vibrator', 'shake', 'covers', 'trends', 'pros', 'cons', 'brief', 'description', 'nuclear', 'fusion', 'history', 'iter', 'jet', 'nonenowhere', 'ikno', 'doesdiscountshitinnit', 'jabo', 'abi', 'slower', 'maniac', 'hadya', 'sapna', 'manege', 'yday', 'hogidhechinnu', 'swalpa', 'agidhane', 'typelyk', 'footblcrckt', 'swell', 'tim', 'bollox', 'tol', 'hang', 'ingredients', 'pocy', 'bell', 'non', 'call2optout4qf2', 'senor', 'giggle', 'possibly', 'person2die', 'nvq', 'professional', 'tiger', 'woods', 'reboot', 'grinder', 'pt2', 'youkwhere', 'buyers', 'figuring', 'entirely', 'understood', 'bottom', 'knowhe', 'phoned', 'disconnected', 'onluy', 'matters', 'offcampus', 'improved', 'msgs150p', 'rileys', 'ew', 'wesley', 'howve', 'lingo', '400minscall', 'call2optoutj5q', 'medont', 'lm', 'hm', '69200', 'chrgd50p', '2exit', 'salon', 'approaching', 'sankranti', 'republic', 'shivratri', 'ugadi', 'fools', 'independence', 'friendshipmotherfatherteacherschildrens', 'festival', 'dasara', 'mornings', 'afternoons', 'evenings', 'rememberi', 'theseyours', 'raj', 'lifeis', 'daywith', 'thoughts', 'somewheresomeone', 'tosend', 'greeting', 'selflessness', 'initiate', 'tallent', 'wasting', 'usc', 'payment', 'portal', 'dont4get2text', 'lennon', 'bothering', 'crab', 'shorethe', 'waves', 'footprints', 'clearing', 'fox', 'frndsship', 'dwn', 'slaaaaave', 'summon', 'å£3365', 'changes', 'appendix', 'range', 'slob', 'smiled', 'gudnite', 'topicsorry', 'webpage', 'yeesh', 'unsubscribed', 'hunks', 'httpgotbabescouk', 'subscriptions', 'gopalettan', 'participate', 'admin', 'kkfrom', 'abroad', 'xxsp', 'visionsmscom', 'stopcost', '08712400603', 'agent', 'goodies', 'mat', 'ay', 'satì', 'andros', 'steal', 'isaiahd', 'meets', 'foot', 'penis', 'expert', 'sigh', 'ssi', 'thinl', 'sachinjust', 'importantly', 'tightly', 'wnevr', 'fal', 'vth', 'books', 'fals', 'yen', 'madodu', 'nav', 'pretsorginta', 'nammanna', 'pretsovru', 'alwa', 'eveb', 'window', 'lord', 'ringsreturn', 'nowreply', 'soundtrack', 'stdtxtrate', 'homelove', 'staffsciencenusedusgphyhcmkteachingpc1323', 'emigrated', 'hopeful', 'olol', 'stagwood', 'winterstone', 'victors', 'hill', 'jp', 'mofo', 'pathaya', 'enketa', 'maraikara', 'priest', 'reserves', 'intrude', 'walkabout', 'cashed', 'announced', 'blog', '28th', '06', 'removal', '08708034412', 'footie', 'blow', 'phil', 'neville', 'abbey', 'returning', 'knowing', 'auctionpunj', 'str8', 'classic', 'nokia150p', 'poly200p', 'thurs', 'pre', 'cancelled', 'sacked', 'lookatme', 'clip', '35p', 'mmsto', '32323', 'barred', 'lifethis', 'twat', 'dungerees', 'decking', 'punch', 'mentionned', 'vat', 'planned', 'onlydon', 'grl', 'hogolo', 'kodstini', 'agalla', 'madstini', 'hogli', 'mutai', 'eerulli', 'kodthini', 'kano', 'thasa', 'messed', 'upyeh', 'tex', 'mecause', 'werebored', 'okden', 'uin', 'satsoundåõs', 'likeyour', 'gr8fun', 'updat', 'countinlots', 'xxxxx', 'l', 'tagged', 'count', 'challenge', 'hdd', 'casing', 'opened', 'describe', '09053750005', '310303', '08718725756', '140ppm', 'asus', 'randomly', 'reformat', 'otside', 'leu', 'plumbers', 'tape', 'wrench', 'httpwwwetlpcoukreward', 'bcum', 'films', 'appeal', 'thriller', 'director', '830', 'size', 'elephant', 'shove', 'um', 'cr', 'pookie', 'wouldnt', 'youdearwith', 'loverakhesh', 'nri', '08712101358', 'x2', 'itåõs', 'deserve', 'tight', '88039skilgmetscs087147403231winawkage16å£150perwksub', 'lick', 'diddy', 'neighbor', 'toothpaste', 'av', 'oneta', 'poking', 'everyday', 'deam', 'curious', 'coccooning', 'auto', 'mus', 'yeahand', 'newquaysend', 'postcard', 'goneu', '1im', 'talkin', 'boutxx', 'bread', 'windy', '09066358361', 'y87', 'mahal', 'knowthis', 'tirunelvai', 'dusk', 'puzzles', 'x29', '450', '09065989180', 'stairs', 'phews', 'thangamits', 'redred', 'bloodblood', 'heartheart', '1u', 'relation', '3u', '4some1', 'luvs', 'praying', 'recycling', 'earning', 'toledo', 'ding', 'tai', 'feng', 'reservations', 'swimsuit', 'allowed', 'necessary', 'squeeeeeze', 'hug', 'lik', 'frndshp', 'luvd', 'asks', 'themp', 'volcanoes', 'erupt', 'arise', 'hurricanes', 'sway', 'aroundn', 'disasters', 'lighters', '7pm', 'kkits', 'goodwhen', 'lasagna', 'chickened', 'messaged', 'woould', '08718726978', 'drove', 'shore', 'deus', '44', '7732584351', '3510i', 'deliveredtomorrow', '300', 'tap', 'spile', 'broad', 'canal', 'engin', 'onedge', 'raviyog', 'peripherals', 'bhayandar', 'east', 'sunoco', 'howard', 'musical', 'plate', 'leftovers', 'starving', 'cooked', 'cheat', 'fatty', 'badrith', 'chennaii', 'usno', 'owe', 'checkin', 'numberso', 'ittb', 'block', 'armenia', 'swann', '09058097189', '09061221066', 'fromm', '330', '1120', '1205', 'smoking', 'wylie', 'justify', 'ruining', 'meds', 'hunt', 'in2', '5226', 'hava', '1131', 'rct', 'thnq', 'adrian', 'rgds', 'vatian', 'everyones', 'babysitting', 'itll', 'gonnamissu', 'muchi', 'buttheres', 'aboutas', 'merememberin', 'asthere', 'ofsi', 'breakin', 'yaxx', 'ee', 'poortiyagi', 'odalebeku', 'hanumanji', '1hanuman', '2bajarangabali', '3maruti', '4pavanaputra', '5sankatmochan', '6ramaduth', '7mahaveer', 'janarige', 'ivatte', 'kalisidare', 'olage', 'ondu', 'keluviri', 'maretare', 'inde', 'dodda', 'problum', 'nalli', 'siguviri', 'idu', 'matra', 'neglet', 'easily', 'ijust', 'talked', 'opps', 'tts', 'gei', 'tron', 'dl', 'selfish', 'spiffing', 'workage', 'craving', 'supose', 'babysit', 'therexx', 'spaces', 'embassy', 'lightly', 'custom', 'checkboxes', 'sac', 'hundredhe', 'batsman', 'yettys', 'jiayin', '09050000928', 'pobox45w2tg150p', 'forgotten', 'reverse', 'cheating', 'mathematics', '2waxsto', 'basic', 'emailed', 'yifeng', 'theyll', 'slurp', 'minimum', '3miles', 'ing', 'brainless', 'dolld', 'vehicle', 'sariyag', 'madoke', 'barolla', '07090201529', 'postponed', 'stocked', 'elaine', 'tiime', 'tears', 'afternon', 'interviews', 'resizing', '09066364349', 'box434sk38wp150ppm18', 'opposed', 'drunken', 'msgwe', 'billed', 'shortcode', '83332please', '08081263000', 'refundedthis', 'somerset', 'overtime', 'nigpun', 'dismissial', 'screwd', '08712402972', 'bull', 'floating', 'mess', '09058095201', 'heehee', 'arithmetic', 'percentages', 'chillaxin', 'das', 'iknow', 'wellda', 'peril', 'studentfinancial', 'crisisspk', 'monster', 'ths', 'ias', 'obey', 'uhhhhrmm', 'mb', 'gbpsms', '600', '400', 'deltomorrow', '09066368470', '24m', '1month', 'smartcall', '68866', 'subscriptn3gbpwk', '08448714184', 'stoptxt', 'landlineonly', 'mths', 'cameravideo', 'å£s', 'textsweekend', 'callback', 'orno', 'fink', '09099726553', 'promised', 'carlie', 'callså£1minmobsmore', 'lkpobox177hp51fl', 'youphone', 'athome', 'youwanna', 'jack', 'sayask', 'helpful', 'pretend', 'hypotheticalhuagauahahuagahyuhagga', 'brainy', 'occasion', 'celebrated', 'reflection', 'values', 'desires', 'affectionsamp', 'traditions', 'cantdo', 'anythingtomorrow', 'myparents', 'aretaking', 'outfor', 'katexxx', 'level', 'gate', '89105', 'ts', 'wedding', 'lingerie', 'wwwbridalpetticoatdreamscouk', 'weddingfriend', 'board', 'overheating', 'reslove', 'inst', 'pending', '8o', 'western', 'outta', 'nowadays', 'notixiquating', 'laxinorficated', 'bambling', 'entropication', 'oblisingately', 'opted', 'masteriastering', 'amplikater', 'fidalfication', 'champlaxigating', 'atrocious', 'wotz', 'junna', 'knickers', '01223585236', 'nikiyu4net', 'accident', 'a30', 'divert', 'wadebridgei', 'vill', 'orc', 'bloomberg', '447797706009', 'httpcareers', 'bloombergcom', 'seeking', 'priscillas', 'dayexcept', 'wisdom', 'inform', 'wherres', 'phone750', 'resolution', 'replybe', 'frankgood', 'logoff', 'parkin', 'kent', 'vale', 'cannt', 'asa', '09050000878', 'wan2', 'meetgreet', 'westlife', 'm8', '1unbreakable', '2untamed', '3unkempt', '83049', 'prince', 'charming', 'mention', 'served', 'arnt', 'xxxxxxxxxxxxxx', 'dorothykiefercom', 'granite', 'strongbuy', 'explosive', 'nasdaq', 'symbol', 'cdgt', 'alle', 'moneeppolum', 'allalo', 'fundamentals', '101mega', 'pixels', '3optical', '5digital', 'dooms', 'peteynoiåõm', 'timehope', 'alritehave', 'js', 'amx', 'burgundy', 'captaining', 'base', 'placement', 'amrita', 'profile', 'bpo', 'didn\\x89û÷t', 'nighters', 'persevered', 'regretted', 'wasnåõt', 'spouse', 'pmt', 'sumthin', '4give', 'shldxxxx', 'thatd', 'scenario', 'spunout', 'wrld', '09071517866', '150ppmpobox10183bhamb64xe', '10am', 'pounded', 'lion', 'devouring', 'airtel', 'broadband', 'processed', 'installation', 'tensed', 'coughing', 'warned', 'sprint', 'prolly', 'gower', 'åômorrow', 'åð', 'chik', '100s', 'filth', '69669', 'saristar', 'e14', '9yt', '08701752560', '450p', 'stop2', '420', '9061100010', 'wire3net', '1st4terms', 'mobcudb', 'alreadysabarish', 'jaya', '09050000460', 'j89', 'box245c2150pm', 'inpersonation', 'flea', 'forums', 'banneduk', 'itlet', 'highest', 'å£54', 'maximum', 'å£71', 'nys', 'taj', 'lesser', 'known', 'facts', 'mumtaz', 'shahjahans', 'wifes', 'shahjahan', 'mumtazs', 'arises', 'hari', 'okcome', '69101', 'wwwrtfsphostingcom', 'webadres', 'geting', 'incredible', 'o2fwd', '18ptxt', 'ship', 'maturity', 'confirmed', 'passport', 'multiply', 'independently', 'decimal', 'showed', 'twins', 'strt', 'ltdhelpdesk', '02085076972', 'equally', 'uneventful', 'pesky', 'cyclists', 'wereare', 'nalla', 'adi', 'entey', 'nattil', 'kittum', 'kavalan', 'hire', 'hitman', '200', '09066660100', '2309', 'cps', 'causing', 'outages', 'conserve', 'voted', 'epi', 'bare', 'bhaskar', 'dubsack', 'individual', 'gong', 'kaypoh', 'basketball', 'outdoors', 'macho', 'interfued', 'blank', 'listed', 'apology', 'hustle', 'forth', 'audition', 'harlem', 'workout', 'fats', 'zac', 'tonights', 'hui', 'xin', 'lib', 'difference', 'versus', 'edge', 'underdtand', 'itboth', 'upnot', 'muchxxlove', 'locaxx', '07090298926', 'reschedule', 'ref9307622', 'skateboarding', 'despite', 'thrown', 'winds', 'bandages', 'mytonecomenjoy', 'html', 'gbp450week', 'mfl', 'hectic', 'fell', 'swoop', 'wamma', 'laidwant', 'doggin', 'dogs', 'nownyt', 'langport', 'virtual', 'senthil', 'apnt', 'pants', 'waiti', 'go2sri', 'lanka', 'wordnot', 'merely', 'relationshipits', 'wherevr', 'forevr', 'gudnyt', 'mistakes', 'plum', 'smacks', '50s', 'alot', 'formatting', 'attracts', 'promotion', '8714714', 'vegas', 'lou', 'lancaster', 'neway', 'couldnåõt', 'båõday', 'soc', 'bsn', 'advising', 'lobby', 'texted', 'showered', 'erything', 'vewy', 'lubly', 'rs5', '087147123779am7pm', 'sbut', 'luck2', 'catches', 'specify', 'domain', 'nusstu', 'ohi', 'hahatake', 'bari', 'hudgi', 'yorge', 'pataistha', 'ertini', 'hasbroin', 'jump', 'hoops', 'lateso', 'morningtake', 'dreamsu', 'meummifyingbye', 'networking', 'associate', 'rip', 'uterus', 'pool', 'jacuzzi', 'x49', '09065989182', 'colourredtextcolourtxtstar', '2nights', 'wildest', 'splwat', 'whr', 'aldrine', 'rakhesh', 'rtm', 'herepls', 'callurgent', 'sources', 'unhappiness', 'necesity', 'witout', 'hwd', 'colleg', 'watll', 'wth', 'functions', 'events', 'espell', 'irritated', '4wrd', 'dearloving', 'wthout', 'takecare', 'univ', 'rajas', 'burrito', 'disconnect', 'callcoz', 'terrorist', 'itz', 'confirmd', 'verified', 'cnn', 'ibn', 'stitch', 'trouser', '146tf150p', 'cheetos', 'synced', 'shangela', 'hppnss', 'sorrow', 'goodfriend', 'passes', '08704439680', 'againloving', 'poo', 'gloucesterroad', 'uup', 'ouch', 'stayed', 'forgiveness', 'glo', '09058095107', 's3xy', 'yesmum', 'wlcome', 'eaten', 'timi', 'mila', 'age23', 'blonde', 'mtalk', '6986618', '30pptxt', '5free', 'increments', 'help08718728876', 'fishrman', 'sack', 'ful', 'stones', 'strtd', 'throwin', 'atlast', '1stone', 'moraldont', '08717895698', 'mobstorequiz10ppm', 'physics', 'arpraveesh', 'delicious', 'salad', 'desert', 'beers', 'whore', 'funk', 'tones2u', 'twinks', 'scallies', 'skins', 'jocks', '08712466669', '08712460324nat', 'flood', 'beads', 'wishlist', 'section', 'nitro', 'comfort', 'sold', 'onionrs', 'petrolrs', 'beerrs', 'armands', 'creative', 'fakemy', 'reffering', 'uif', 'getiing', 'rsi', 'weirdy', 'brownies', '09061701851', 'k61', '12hours', 'restrict', 'funeral', 'audrey', 'godnot', 'chikkuk', 'vivek', '74355', 'tnc', 'brah', 'possession', 'outif', 'greece', 'protect', 'ethreats', 'sib', 'sensitive', 'passwordsatmsms', 'recorded', 'someday', 'goodmorningmy', 'grandfather', 'expiredso', 'blu', 'concert', 'november', '09061104276', 'costå£375max', 'yuou', 'spot', 'ipad', 'bunch', 'lotto', 'bird', 'purchases', 'authorise', '645pm', 'honeydid', 'gimmi', 'gossx', 'painit', 'todaydo', 'ystrdayice', 'chile', 'subletting', 'febapril', 'ammaelife', 'steering', 'anythings', 'sleeps', 'rounderso', 'required', 'truekdo', 'lambu', 'ji', 'cometil', 'batchlor', 'zoom', 'nowsend', '62220cncl', 'stopcs', '08717890890å£150', 'cheese', 'åòharry', 'pink', 'ringtonefrom', 'httptms', 'widelivecomindex', 'wmlid1b6a5ecef91ff937819firsttrue180430jul05', 'xafter', 'cst', 'chg', 'pure', 'hearted', 'hisher', 'enemies', 'smiley', 'gail', 'wrongtake', 'worryc', 'l8tr', 'hunlove', 'yaxxx', 'theoretically', 'hooked', 'formallypls', 'prayingwill', 'multimedia', 'senthilhsbc', 'vague', 'accounting', 'delayed', 'housing', 'agency', 'renting', 'presents', 'nicky', 'gumbys', 'httpalto18coukwavewaveaspo44345', 'sized', 'tarpon', 'springs', 'cab', 'availablethey', 'steps', 'careumma', 'limited', 'call2optouthf8', '09061702893', 'practice']\n"
          ],
          "name": "stdout"
        }
      ]
    },
    {
      "cell_type": "code",
      "metadata": {
        "colab": {
          "base_uri": "https://localhost:8080/"
        },
        "id": "50rR183fYnq7",
        "outputId": "e063aaee-2441-451d-d594-e7731237eb1a"
      },
      "source": [
        "import nltk\r\n",
        "nltk.download('stopwords')\r\n"
      ],
      "execution_count": 34,
      "outputs": [
        {
          "output_type": "stream",
          "text": [
            "[nltk_data] Downloading package stopwords to /root/nltk_data...\n",
            "[nltk_data]   Package stopwords is already up-to-date!\n"
          ],
          "name": "stdout"
        },
        {
          "output_type": "execute_result",
          "data": {
            "text/plain": [
              "True"
            ]
          },
          "metadata": {
            "tags": []
          },
          "execution_count": 34
        }
      ]
    },
    {
      "cell_type": "code",
      "metadata": {
        "id": "q1XcROoMZOEF"
      },
      "source": [
        "from nltk.corpus import stopwords  \r\n",
        "\r\n",
        "stop_words = set(stopwords.words('english'))"
      ],
      "execution_count": 35,
      "outputs": []
    },
    {
      "cell_type": "code",
      "metadata": {
        "colab": {
          "base_uri": "https://localhost:8080/"
        },
        "id": "YkdU2TrhaQai",
        "outputId": "c6800b36-a2ad-4248-8c68-32eeb24d83cc"
      },
      "source": [
        "print(stop_words)"
      ],
      "execution_count": 36,
      "outputs": [
        {
          "output_type": "stream",
          "text": [
            "{'of', 'than', 'who', 'such', 'yours', \"should've\", 'their', 've', \"haven't\", 'you', 'whom', 'after', 'more', 'to', 'did', 'its', 'o', 'into', \"hadn't\", 'doesn', 'myself', 'further', 'and', 'same', 'not', 'd', \"weren't\", \"couldn't\", 'aren', 'i', 'but', 'down', 'then', 'haven', \"shan't\", 'until', 'where', 'other', 'what', \"wouldn't\", \"you'd\", 'll', 'ourselves', 'all', 'doing', 'by', 're', 'hasn', 'most', \"won't\", 'an', 'm', 'we', 'wasn', 'if', \"mustn't\", 'up', 'this', \"aren't\", 'in', \"you've\", 'was', 'out', 'very', 'don', 'mustn', 'her', 'can', 'those', 'weren', 'so', \"shouldn't\", 'no', \"doesn't\", \"isn't\", 'my', 'under', 'once', 'am', 'because', 'before', 'shan', 'with', 'were', \"that'll\", 't', \"wasn't\", 'ain', 'over', 'yourselves', \"it's\", 'why', 'as', \"hasn't\", \"needn't\", 'him', 'few', 'now', 'or', 'while', 'both', 'about', 'your', 'should', 'me', 'below', 'some', 'against', 'again', 'be', 'any', 'mightn', 'that', 'being', 'himself', 'only', 'do', 'been', 'there', 'having', 'them', 'when', \"you're\", 'these', 'does', 'she', 'have', 'shouldn', 's', 'couldn', 'through', 'how', 'own', 'off', 'ma', 'a', 'each', 'too', 'needn', 'the', 'itself', 'yourself', 'hers', 'during', 'won', 'above', 'it', 'from', 'he', 'for', 'is', 'his', 'herself', 'didn', \"she's\", \"don't\", 'between', 'hadn', 'will', \"mightn't\", 'wouldn', 'had', 'ours', 'themselves', 'just', 'nor', 'are', \"didn't\", \"you'll\", 'they', 'our', 'which', 'on', 'here', 'has', 'y', 'theirs', 'at', 'isn'}\n"
          ],
          "name": "stdout"
        }
      ]
    },
    {
      "cell_type": "code",
      "metadata": {
        "id": "ZbJsV8hwaSND"
      },
      "source": [
        "iter=0\r\n",
        "word_token = {}\r\n",
        "\r\n",
        "for word in global_word_list:\r\n",
        "  if word in stop_words:\r\n",
        "    continue\r\n",
        "  word_token[word] = iter\r\n",
        "  iter += 1\r\n"
      ],
      "execution_count": 37,
      "outputs": []
    },
    {
      "cell_type": "markdown",
      "metadata": {
        "id": "acXcjk5RibBF"
      },
      "source": [
        "# **Converting Input Mails to list of Bernoulli Variables**"
      ]
    },
    {
      "cell_type": "code",
      "metadata": {
        "id": "p7AmWsTeatWk"
      },
      "source": [
        "data = []\r\n",
        "for index,row in trainSet.iterrows():\r\n",
        "    wordList = str(row['v2']).split()\r\n",
        "    wordList = [(word.translate(str.maketrans('', '', string.punctuation))).lower() for word in wordList]\r\n",
        "    wordList = [word for word in wordList if word != '']\r\n",
        "    temp_data = []\r\n",
        "    for word in word_token:\r\n",
        "        if word in wordList:\r\n",
        "            temp_data.append(1)\r\n",
        "        else:\r\n",
        "            temp_data.append(0)\r\n",
        "    data.append(temp_data)\r\n"
      ],
      "execution_count": 38,
      "outputs": []
    },
    {
      "cell_type": "code",
      "metadata": {
        "colab": {
          "base_uri": "https://localhost:8080/"
        },
        "id": "W4y6-ZJAa7Tj",
        "outputId": "f43d7eb2-69bb-46cc-ea88-5330b86daa11"
      },
      "source": [
        "print(data[2])"
      ],
      "execution_count": 39,
      "outputs": [
        {
          "output_type": "stream",
          "text": [
            "[0, 0, 0, 0, 0, 0, 0, 0, 0, 0, 0, 0, 0, 0, 0, 0, 0, 0, 0, 0, 0, 0, 1, 1, 1, 1, 1, 1, 1, 1, 1, 1, 1, 1, 1, 1, 1, 1, 1, 1, 1, 1, 1, 0, 0, 0, 0, 0, 0, 0, 0, 0, 0, 0, 0, 0, 0, 0, 0, 0, 0, 0, 0, 0, 0, 0, 0, 0, 0, 0, 0, 0, 0, 0, 0, 0, 0, 0, 0, 0, 0, 0, 0, 0, 0, 0, 0, 0, 0, 0, 0, 0, 0, 0, 0, 0, 0, 0, 0, 0, 0, 0, 0, 0, 0, 0, 0, 0, 0, 0, 0, 0, 0, 0, 0, 0, 0, 0, 0, 0, 0, 0, 0, 0, 0, 0, 0, 0, 0, 0, 0, 0, 0, 0, 0, 0, 0, 0, 0, 0, 0, 0, 0, 0, 0, 0, 0, 0, 0, 0, 0, 0, 0, 0, 0, 0, 0, 0, 0, 0, 0, 0, 0, 0, 0, 0, 0, 0, 0, 0, 0, 0, 0, 0, 0, 0, 0, 0, 0, 0, 0, 0, 0, 0, 0, 0, 0, 0, 0, 0, 0, 0, 0, 0, 0, 0, 0, 0, 0, 0, 0, 0, 0, 0, 0, 0, 0, 0, 0, 0, 0, 0, 0, 0, 0, 0, 0, 0, 0, 0, 0, 0, 0, 0, 0, 0, 0, 0, 0, 0, 0, 0, 0, 0, 0, 0, 0, 0, 0, 0, 0, 0, 0, 0, 0, 0, 0, 0, 0, 0, 0, 0, 0, 0, 0, 0, 0, 0, 0, 0, 0, 0, 0, 0, 0, 0, 0, 0, 0, 0, 0, 0, 0, 0, 0, 0, 0, 0, 0, 0, 0, 0, 0, 0, 0, 0, 0, 0, 0, 0, 0, 0, 0, 0, 0, 0, 0, 0, 0, 0, 0, 0, 0, 0, 0, 0, 0, 0, 0, 0, 0, 0, 0, 0, 0, 0, 0, 0, 0, 0, 0, 0, 0, 0, 0, 0, 0, 0, 0, 0, 0, 0, 0, 0, 0, 0, 0, 0, 0, 0, 0, 0, 0, 0, 0, 0, 0, 0, 0, 0, 0, 0, 0, 0, 0, 0, 0, 0, 0, 0, 0, 0, 0, 0, 0, 0, 0, 0, 0, 0, 0, 0, 0, 0, 0, 0, 0, 0, 0, 0, 0, 0, 0, 0, 0, 0, 0, 0, 0, 0, 0, 0, 0, 0, 0, 0, 0, 0, 0, 0, 0, 0, 0, 0, 0, 0, 0, 0, 0, 0, 0, 0, 0, 0, 0, 0, 0, 0, 0, 0, 0, 0, 0, 0, 0, 0, 0, 0, 0, 0, 0, 0, 0, 0, 0, 0, 0, 0, 0, 0, 0, 0, 0, 0, 0, 0, 0, 0, 0, 0, 0, 0, 0, 0, 0, 0, 0, 0, 0, 0, 0, 0, 0, 0, 0, 0, 0, 0, 0, 0, 0, 0, 0, 0, 0, 0, 0, 0, 0, 0, 0, 0, 0, 0, 0, 0, 0, 0, 0, 0, 0, 0, 0, 0, 0, 0, 0, 0, 0, 0, 0, 0, 0, 0, 0, 0, 0, 0, 0, 0, 0, 0, 0, 0, 0, 0, 0, 0, 0, 0, 0, 0, 0, 0, 0, 0, 0, 0, 0, 0, 0, 0, 0, 0, 0, 0, 0, 0, 0, 0, 0, 0, 0, 0, 0, 0, 0, 0, 0, 0, 0, 0, 0, 0, 0, 0, 0, 0, 0, 0, 0, 0, 0, 0, 0, 0, 0, 0, 0, 0, 0, 0, 0, 0, 0, 0, 0, 0, 0, 0, 0, 0, 0, 0, 0, 0, 0, 0, 0, 0, 0, 0, 0, 0, 0, 0, 0, 0, 0, 0, 0, 0, 0, 0, 0, 0, 0, 0, 0, 0, 0, 0, 0, 0, 0, 0, 0, 0, 0, 0, 0, 0, 0, 0, 0, 0, 0, 0, 0, 0, 0, 0, 0, 0, 0, 0, 0, 0, 0, 0, 0, 0, 0, 0, 0, 0, 0, 0, 0, 0, 0, 0, 0, 0, 0, 0, 0, 0, 0, 0, 0, 0, 0, 0, 0, 0, 0, 0, 0, 0, 0, 0, 0, 0, 0, 0, 0, 0, 0, 0, 0, 0, 0, 0, 0, 0, 0, 0, 0, 0, 0, 0, 0, 0, 0, 0, 0, 0, 0, 0, 0, 0, 0, 0, 0, 0, 0, 0, 0, 0, 0, 0, 0, 0, 0, 0, 0, 0, 0, 0, 0, 0, 0, 0, 0, 0, 0, 0, 0, 0, 0, 0, 0, 0, 0, 0, 0, 0, 0, 0, 0, 0, 0, 0, 0, 0, 0, 0, 0, 0, 0, 0, 0, 0, 0, 0, 0, 0, 0, 0, 0, 0, 0, 0, 0, 0, 0, 0, 0, 0, 0, 0, 0, 0, 0, 0, 0, 0, 0, 0, 0, 0, 0, 0, 0, 0, 0, 0, 0, 0, 0, 0, 0, 0, 0, 0, 0, 0, 0, 0, 0, 0, 0, 0, 0, 0, 0, 0, 0, 0, 0, 0, 0, 0, 0, 0, 0, 0, 0, 0, 0, 0, 0, 0, 0, 0, 0, 0, 0, 0, 0, 0, 0, 0, 0, 0, 0, 0, 0, 0, 0, 0, 0, 0, 0, 0, 0, 0, 0, 0, 0, 0, 0, 0, 0, 0, 0, 0, 0, 0, 0, 0, 0, 0, 0, 0, 0, 0, 0, 0, 0, 0, 0, 0, 0, 0, 0, 0, 0, 0, 0, 0, 0, 0, 0, 0, 0, 0, 0, 0, 0, 0, 0, 0, 0, 0, 0, 0, 0, 0, 0, 0, 0, 0, 0, 0, 0, 0, 0, 0, 0, 0, 0, 0, 0, 0, 0, 0, 0, 0, 0, 0, 0, 0, 0, 0, 0, 0, 0, 0, 0, 0, 0, 0, 0, 0, 0, 0, 0, 0, 0, 0, 0, 0, 0, 0, 0, 0, 0, 0, 0, 0, 0, 0, 0, 0, 0, 0, 0, 0, 0, 0, 0, 0, 0, 0, 0, 0, 0, 0, 0, 0, 0, 0, 0, 0, 0, 0, 0, 0, 0, 0, 0, 0, 0, 0, 0, 0, 0, 0, 0, 0, 0, 0, 0, 0, 0, 0, 0, 0, 0, 0, 0, 0, 0, 0, 0, 0, 0, 0, 0, 0, 0, 0, 0, 0, 0, 0, 0, 0, 0, 0, 0, 0, 0, 0, 0, 0, 0, 0, 0, 0, 0, 0, 0, 0, 0, 0, 0, 0, 0, 0, 0, 0, 0, 0, 0, 0, 0, 0, 0, 0, 0, 0, 0, 0, 0, 0, 0, 0, 0, 0, 0, 0, 0, 0, 0, 0, 0, 0, 0, 0, 0, 0, 0, 0, 0, 0, 0, 0, 0, 0, 0, 0, 0, 0, 0, 0, 0, 0, 0, 0, 0, 0, 0, 0, 0, 0, 0, 0, 0, 0, 0, 0, 0, 0, 0, 0, 0, 0, 0, 0, 0, 0, 0, 0, 0, 0, 0, 0, 0, 0, 0, 0, 0, 0, 0, 0, 0, 0, 0, 0, 0, 0, 0, 0, 0, 0, 0, 0, 0, 0, 0, 0, 0, 0, 0, 0, 0, 0, 0, 0, 0, 0, 0, 0, 0, 0, 0, 0, 0, 0, 0, 0, 0, 0, 0, 0, 0, 0, 0, 0, 0, 0, 0, 0, 0, 0, 0, 0, 0, 0, 0, 0, 0, 0, 0, 0, 0, 0, 0, 0, 0, 0, 0, 0, 0, 0, 0, 0, 0, 0, 0, 0, 0, 0, 0, 0, 0, 0, 0, 0, 0, 0, 0, 0, 0, 0, 0, 0, 0, 0, 0, 0, 0, 0, 0, 0, 0, 0, 0, 0, 0, 0, 0, 0, 0, 0, 0, 0, 0, 0, 0, 0, 0, 0, 0, 0, 0, 0, 0, 0, 0, 0, 0, 0, 0, 0, 0, 0, 0, 0, 0, 0, 0, 0, 0, 0, 0, 0, 0, 0, 0, 0, 0, 0, 0, 0, 0, 0, 0, 0, 0, 0, 0, 0, 0, 0, 0, 0, 0, 0, 0, 0, 0, 0, 0, 0, 0, 0, 0, 0, 0, 0, 0, 0, 0, 0, 0, 0, 0, 0, 0, 0, 0, 0, 0, 0, 0, 0, 0, 0, 0, 0, 0, 0, 0, 0, 0, 0, 0, 0, 0, 0, 0, 0, 0, 0, 0, 0, 0, 0, 0, 0, 0, 0, 0, 0, 0, 0, 0, 0, 0, 0, 0, 0, 0, 0, 0, 0, 0, 0, 0, 0, 0, 0, 0, 0, 0, 0, 0, 0, 0, 0, 0, 0, 0, 0, 0, 0, 0, 0, 0, 0, 0, 0, 0, 0, 0, 0, 0, 0, 0, 0, 0, 0, 0, 0, 0, 0, 0, 0, 0, 0, 0, 0, 0, 0, 0, 0, 0, 0, 0, 0, 0, 0, 0, 0, 0, 0, 0, 0, 0, 0, 0, 0, 0, 0, 0, 0, 0, 0, 0, 0, 0, 0, 0, 0, 0, 0, 0, 0, 0, 0, 0, 0, 0, 0, 0, 0, 0, 0, 0, 0, 0, 0, 0, 0, 0, 0, 0, 0, 0, 0, 0, 0, 0, 0, 0, 0, 0, 0, 0, 0, 0, 0, 0, 0, 0, 0, 0, 0, 0, 0, 0, 0, 0, 0, 0, 0, 0, 0, 0, 0, 0, 0, 0, 0, 0, 0, 0, 0, 0, 0, 0, 0, 0, 0, 0, 0, 0, 0, 0, 0, 0, 0, 0, 0, 0, 0, 0, 0, 0, 0, 0, 0, 0, 0, 0, 0, 0, 0, 0, 0, 0, 0, 0, 0, 0, 0, 0, 0, 0, 0, 0, 0, 0, 0, 0, 0, 0, 0, 0, 0, 0, 0, 0, 0, 0, 0, 0, 0, 0, 0, 0, 0, 0, 0, 0, 0, 0, 0, 0, 0, 0, 0, 0, 0, 0, 0, 0, 0, 0, 0, 0, 0, 0, 0, 0, 0, 0, 0, 0, 0, 0, 0, 0, 0, 0, 0, 0, 0, 0, 0, 0, 0, 0, 0, 0, 0, 0, 0, 0, 0, 0, 0, 0, 0, 0, 0, 0, 0, 0, 0, 0, 0, 0, 0, 0, 0, 0, 0, 0, 0, 0, 0, 0, 0, 0, 0, 0, 0, 0, 0, 0, 0, 0, 0, 0, 0, 0, 0, 0, 0, 0, 0, 0, 0, 0, 0, 0, 0, 0, 0, 0, 0, 0, 0, 0, 0, 0, 0, 0, 0, 0, 0, 0, 0, 0, 0, 0, 0, 0, 0, 0, 0, 0, 0, 0, 0, 0, 0, 0, 0, 0, 0, 0, 0, 0, 0, 0, 0, 0, 0, 0, 0, 0, 0, 0, 0, 0, 0, 0, 0, 0, 0, 0, 0, 0, 0, 0, 0, 0, 0, 0, 0, 0, 0, 0, 0, 0, 0, 0, 0, 0, 0, 0, 0, 0, 0, 0, 0, 0, 0, 0, 0, 0, 0, 0, 0, 0, 0, 0, 0, 0, 0, 0, 0, 0, 0, 0, 0, 0, 0, 0, 0, 0, 0, 0, 0, 0, 0, 0, 0, 0, 0, 0, 0, 0, 0, 0, 0, 0, 0, 0, 0, 0, 0, 0, 0, 0, 0, 0, 0, 0, 0, 0, 0, 0, 0, 0, 0, 0, 0, 0, 0, 0, 0, 0, 0, 0, 0, 0, 0, 0, 0, 0, 0, 0, 0, 0, 0, 0, 0, 0, 0, 0, 0, 0, 0, 0, 0, 0, 0, 0, 0, 0, 0, 0, 0, 0, 0, 0, 0, 0, 0, 0, 0, 0, 0, 0, 0, 0, 0, 0, 0, 0, 0, 0, 0, 0, 0, 0, 0, 0, 0, 0, 0, 0, 0, 0, 0, 0, 0, 0, 0, 0, 0, 0, 0, 0, 0, 0, 0, 0, 0, 0, 0, 0, 0, 0, 0, 0, 0, 0, 0, 0, 0, 0, 0, 0, 0, 0, 0, 0, 0, 0, 0, 0, 0, 0, 0, 0, 0, 0, 0, 0, 0, 0, 0, 0, 0, 0, 0, 0, 0, 0, 0, 0, 0, 0, 0, 0, 0, 0, 0, 0, 0, 0, 0, 0, 0, 0, 0, 0, 0, 0, 0, 0, 0, 0, 0, 0, 0, 0, 0, 0, 0, 0, 0, 0, 0, 0, 0, 0, 0, 0, 0, 0, 0, 0, 0, 0, 0, 0, 0, 0, 0, 0, 0, 0, 0, 0, 0, 0, 0, 0, 0, 0, 0, 0, 0, 0, 0, 0, 0, 0, 0, 0, 0, 0, 0, 0, 0, 0, 0, 0, 0, 0, 0, 0, 0, 0, 0, 0, 0, 0, 0, 0, 0, 0, 0, 0, 0, 0, 0, 0, 0, 0, 0, 0, 0, 0, 0, 0, 0, 0, 0, 0, 0, 0, 0, 0, 0, 0, 0, 0, 0, 0, 0, 0, 0, 0, 0, 0, 0, 0, 0, 0, 0, 0, 0, 0, 0, 0, 0, 0, 0, 0, 0, 0, 0, 0, 0, 0, 0, 0, 0, 0, 0, 0, 0, 0, 0, 0, 0, 0, 0, 0, 0, 0, 0, 0, 0, 0, 0, 0, 0, 0, 0, 0, 0, 0, 0, 0, 0, 0, 0, 0, 0, 0, 0, 0, 0, 0, 0, 0, 0, 0, 0, 0, 0, 0, 0, 0, 0, 0, 0, 0, 0, 0, 0, 0, 0, 0, 0, 0, 0, 0, 0, 0, 0, 0, 0, 0, 0, 0, 0, 0, 0, 0, 0, 0, 0, 0, 0, 0, 0, 0, 0, 0, 0, 0, 0, 0, 0, 0, 0, 0, 0, 0, 0, 0, 0, 0, 0, 0, 0, 0, 0, 0, 0, 0, 0, 0, 0, 0, 0, 0, 0, 0, 0, 0, 0, 0, 0, 0, 0, 0, 0, 0, 0, 0, 0, 0, 0, 0, 0, 0, 0, 0, 0, 0, 0, 0, 0, 0, 0, 0, 0, 0, 0, 0, 0, 0, 0, 0, 0, 0, 0, 0, 0, 0, 0, 0, 0, 0, 0, 0, 0, 0, 0, 0, 0, 0, 0, 0, 0, 0, 0, 0, 0, 0, 0, 0, 0, 0, 0, 0, 0, 0, 0, 0, 0, 0, 0, 0, 0, 0, 0, 0, 0, 0, 0, 0, 0, 0, 0, 0, 0, 0, 0, 0, 0, 0, 0, 0, 0, 0, 0, 0, 0, 0, 0, 0, 0, 0, 0, 0, 0, 0, 0, 0, 0, 0, 0, 0, 0, 0, 0, 0, 0, 0, 0, 0, 0, 0, 0, 0, 0, 0, 0, 0, 0, 0, 0, 0, 0, 0, 0, 0, 0, 0, 0, 0, 0, 0, 0, 0, 0, 0, 0, 0, 0, 0, 0, 0, 0, 0, 0, 0, 0, 0, 0, 0, 0, 0, 0, 0, 0, 0, 0, 0, 0, 0, 0, 0, 0, 0, 0, 0, 0, 0, 0, 0, 0, 0, 0, 0, 0, 0, 0, 0, 0, 0, 0, 0, 0, 0, 0, 0, 0, 0, 0, 0, 0, 0, 0, 0, 0, 0, 0, 0, 0, 0, 0, 0, 0, 0, 0, 0, 0, 0, 0, 0, 0, 0, 0, 0, 0, 0, 0, 0, 0, 0, 0, 0, 0, 0, 0, 0, 0, 0, 0, 0, 0, 0, 0, 0, 0, 0, 0, 0, 0, 0, 0, 0, 0, 0, 0, 0, 0, 0, 0, 0, 0, 0, 0, 0, 0, 0, 0, 0, 0, 0, 0, 0, 0, 0, 0, 0, 0, 0, 0, 0, 0, 0, 0, 0, 0, 0, 0, 0, 0, 0, 0, 0, 0, 0, 0, 0, 0, 0, 0, 0, 0, 0, 0, 0, 0, 0, 0, 0, 0, 0, 0, 0, 0, 0, 0, 0, 0, 0, 0, 0, 0, 0, 0, 0, 0, 0, 0, 0, 0, 0, 0, 0, 0, 0, 0, 0, 0, 0, 0, 0, 0, 0, 0, 0, 0, 0, 0, 0, 0, 0, 0, 0, 0, 0, 0, 0, 0, 0, 0, 0, 0, 0, 0, 0, 0, 0, 0, 0, 0, 0, 0, 0, 0, 0, 0, 0, 0, 0, 0, 0, 0, 0, 0, 0, 0, 0, 0, 0, 0, 0, 0, 0, 0, 0, 0, 0, 0, 0, 0, 0, 0, 0, 0, 0, 0, 0, 0, 0, 0, 0, 0, 0, 0, 0, 0, 0, 0, 0, 0, 0, 0, 0, 0, 0, 0, 0, 0, 0, 0, 0, 0, 0, 0, 0, 0, 0, 0, 0, 0, 0, 0, 0, 0, 0, 0, 0, 0, 0, 0, 0, 0, 0, 0, 0, 0, 0, 0, 0, 0, 0, 0, 0, 0, 0, 0, 0, 0, 0, 0, 0, 0, 0, 0, 0, 0, 0, 0, 0, 0, 0, 0, 0, 0, 0, 0, 0, 0, 0, 0, 0, 0, 0, 0, 0, 0, 0, 0, 0, 0, 0, 0, 0, 0, 0, 0, 0, 0, 0, 0, 0, 0, 0, 0, 0, 0, 0, 0, 0, 0, 0, 0, 0, 0, 0, 0, 0, 0, 0, 0, 0, 0, 0, 0, 0, 0, 0, 0, 0, 0, 0, 0, 0, 0, 0, 0, 0, 0, 0, 0, 0, 0, 0, 0, 0, 0, 0, 0, 0, 0, 0, 0, 0, 0, 0, 0, 0, 0, 0, 0, 0, 0, 0, 0, 0, 0, 0, 0, 0, 0, 0, 0, 0, 0, 0, 0, 0, 0, 0, 0, 0, 0, 0, 0, 0, 0, 0, 0, 0, 0, 0, 0, 0, 0, 0, 0, 0, 0, 0, 0, 0, 0, 0, 0, 0, 0, 0, 0, 0, 0, 0, 0, 0, 0, 0, 0, 0, 0, 0, 0, 0, 0, 0, 0, 0, 0, 0, 0, 0, 0, 0, 0, 0, 0, 0, 0, 0, 0, 0, 0, 0, 0, 0, 0, 0, 0, 0, 0, 0, 0, 0, 0, 0, 0, 0, 0, 0, 0, 0, 0, 0, 0, 0, 0, 0, 0, 0, 0, 0, 0, 0, 0, 0, 0, 0, 0, 0, 0, 0, 0, 0, 0, 0, 0, 0, 0, 0, 0, 0, 0, 0, 0, 0, 0, 0, 0, 0, 0, 0, 0, 0, 0, 0, 0, 0, 0, 0, 0, 0, 0, 0, 0, 0, 0, 0, 0, 0, 0, 0, 0, 0, 0, 0, 0, 0, 0, 0, 0, 0, 0, 0, 0, 0, 0, 0, 0, 0, 0, 0, 0, 0, 0, 0, 0, 0, 0, 0, 0, 0, 0, 0, 0, 0, 0, 0, 0, 0, 0, 0, 0, 0, 0, 0, 0, 0, 0, 0, 0, 0, 0, 0, 0, 0, 0, 0, 0, 0, 0, 0, 0, 0, 0, 0, 0, 0, 0, 0, 0, 0, 0, 0, 0, 0, 0, 0, 0, 0, 0, 0, 0, 0, 0, 0, 0, 0, 0, 0, 0, 0, 0, 0, 0, 0, 0, 0, 0, 0, 0, 0, 0, 0, 0, 0, 0, 0, 0, 0, 0, 0, 0, 0, 0, 0, 0, 0, 0, 0, 0, 0, 0, 0, 0, 0, 0, 0, 0, 0, 0, 0, 0, 0, 0, 0, 0, 0, 0, 0, 0, 0, 0, 0, 0, 0, 0, 0, 0, 0, 0, 0, 0, 0, 0, 0, 0, 0, 0, 0, 0, 0, 0, 0, 0, 0, 0, 0, 0, 0, 0, 0, 0, 0, 0, 0, 0, 0, 0, 0, 0, 0, 0, 0, 0, 0, 0, 0, 0, 0, 0, 0, 0, 0, 0, 0, 0, 0, 0, 0, 0, 0, 0, 0, 0, 0, 0, 0, 0, 0, 0, 0, 0, 0, 0, 0, 0, 0, 0, 0, 0, 0, 0, 0, 0, 0, 0, 0, 0, 0, 0, 0, 0, 0, 0, 0, 0, 0, 0, 0, 0, 0, 0, 0, 0, 0, 0, 0, 0, 0, 0, 0, 0, 0, 0, 0, 0, 0, 0, 0, 0, 0, 0, 0, 0, 0, 0, 0, 0, 0, 0, 0, 0, 0, 0, 0, 0, 0, 0, 0, 0, 0, 0, 0, 0, 0, 0, 0, 0, 0, 0, 0, 0, 0, 0, 0, 0, 0, 0, 0, 0, 0, 0, 0, 0, 0, 0, 0, 0, 0, 0, 0, 0, 0, 0, 0, 0, 0, 0, 0, 0, 0, 0, 0, 0, 0, 0, 0, 0, 0, 0, 0, 0, 0, 0, 0, 0, 0, 0, 0, 0, 0, 0, 0, 0, 0, 0, 0, 0, 0, 0, 0, 0, 0, 0, 0, 0, 0, 0, 0, 0, 0, 0, 0, 0, 0, 0, 0, 0, 0, 0, 0, 0, 0, 0, 0, 0, 0, 0, 0, 0, 0, 0, 0, 0, 0, 0, 0, 0, 0, 0, 0, 0, 0, 0, 0, 0, 0, 0, 0, 0, 0, 0, 0, 0, 0, 0, 0, 0, 0, 0, 0, 0, 0, 0, 0, 0, 0, 0, 0, 0, 0, 0, 0, 0, 0, 0, 0, 0, 0, 0, 0, 0, 0, 0, 0, 0, 0, 0, 0, 0, 0, 0, 0, 0, 0, 0, 0, 0, 0, 0, 0, 0, 0, 0, 0, 0, 0, 0, 0, 0, 0, 0, 0, 0, 0, 0, 0, 0, 0, 0, 0, 0, 0, 0, 0, 0, 0, 0, 0, 0, 0, 0, 0, 0, 0, 0, 0, 0, 0, 0, 0, 0, 0, 0, 0, 0, 0, 0, 0, 0, 0, 0, 0, 0, 0, 0, 0, 0, 0, 0, 0, 0, 0, 0, 0, 0, 0, 0, 0, 0, 0, 0, 0, 0, 0, 0, 0, 0, 0, 0, 0, 0, 0, 0, 0, 0, 0, 0, 0, 0, 0, 0, 0, 0, 0, 0, 0, 0, 0, 0, 0, 0, 0, 0, 0, 0, 0, 0, 0, 0, 0, 0, 0, 0, 0, 0, 0, 0, 0, 0, 0, 0, 0, 0, 0, 0, 0, 0, 0, 0, 0, 0, 0, 0, 0, 0, 0, 0, 0, 0, 0, 0, 0, 0, 0, 0, 0, 0, 0, 0, 0, 0, 0, 0, 0, 0, 0, 0, 0, 0, 0, 0, 0, 0, 0, 0, 0, 0, 0, 0, 0, 0, 0, 0, 0, 0, 0, 0, 0, 0, 0, 0, 0, 0, 0, 0, 0, 0, 0, 0, 0, 0, 0, 0, 0, 0, 0, 0, 0, 0, 0, 0, 0, 0, 0, 0, 0, 0, 0, 0, 0, 0, 0, 0, 0, 0, 0, 0, 0, 0, 0, 0, 0, 0, 0, 0, 0, 0, 0, 0, 0, 0, 0, 0, 0, 0, 0, 0, 0, 0, 0, 0, 0, 0, 0, 0, 0, 0, 0, 0, 0, 0, 0, 0, 0, 0, 0, 0, 0, 0, 0, 0, 0, 0, 0, 0, 0, 0, 0, 0, 0, 0, 0, 0, 0, 0, 0, 0, 0, 0, 0, 0, 0, 0, 0, 0, 0, 0, 0, 0, 0, 0, 0, 0, 0, 0, 0, 0, 0, 0, 0, 0, 0, 0, 0, 0, 0, 0, 0, 0, 0, 0, 0, 0, 0, 0, 0, 0, 0, 0, 0, 0, 0, 0, 0, 0, 0, 0, 0, 0, 0, 0, 0, 0, 0, 0, 0, 0, 0, 0, 0, 0, 0, 0, 0, 0, 0, 0, 0, 0, 0, 0, 0, 0, 0, 0, 0, 0, 0, 0, 0, 0, 0, 0, 0, 0, 0, 0, 0, 0, 0, 0, 0, 0, 0, 0, 0, 0, 0, 0, 0, 0, 0, 0, 0, 0, 0, 0, 0, 0, 0, 0, 0, 0, 0, 0, 0, 0, 0, 0, 0, 0, 0, 0, 0, 0, 0, 0, 0, 0, 0, 0, 0, 0, 0, 0, 0, 0, 0, 0, 0, 0, 0, 0, 0, 0, 0, 0, 0, 0, 0, 0, 0, 0, 0, 0, 0, 0, 0, 0, 0, 0, 0, 0, 0, 0, 0, 0, 0, 0, 0, 0, 0, 0, 0, 0, 0, 0, 0, 0, 0, 0, 0, 0, 0, 0, 0, 0, 0, 0, 0, 0, 0, 0, 0, 0, 0, 0, 0, 0, 0, 0, 0, 0, 0, 0, 0, 0, 0, 0, 0, 0, 0, 0, 0, 0, 0, 0, 0, 0, 0, 0, 0, 0, 0, 0, 0, 0, 0, 0, 0, 0, 0, 0, 0, 0, 0, 0, 0, 0, 0, 0, 0, 0, 0, 0, 0, 0, 0, 0, 0, 0, 0, 0, 0, 0, 0, 0, 0, 0, 0, 0, 0, 0, 0, 0, 0, 0, 0, 0, 0, 0, 0, 0, 0, 0, 0, 0, 0, 0, 0, 0, 0, 0, 0, 0, 0, 0, 0, 0, 0, 0, 0, 0, 0, 0, 0, 0, 0, 0, 0, 0, 0, 0, 0, 0, 0, 0, 0, 0, 0, 0, 0, 0, 0, 0, 0, 0, 0, 0, 0, 0, 0, 0, 0, 0, 0, 0, 0, 0, 0, 0, 0, 0, 0, 0, 0, 0, 0, 0, 0, 0, 0, 0, 0, 0, 0, 0, 0, 0, 0, 0, 0, 0, 0, 0, 0, 0, 0, 0, 0, 0, 0, 0, 0, 0, 0, 0, 0, 0, 0, 0, 0, 0, 0, 0, 0, 0, 0, 0, 0, 0, 0, 0, 0, 0, 0, 0, 0, 0, 0, 0, 0, 0, 0, 0, 0, 0, 0, 0, 0, 0, 0, 0, 0, 0, 0, 0, 0, 0, 0, 0, 0, 0, 0, 0, 0, 0, 0, 0, 0, 0, 0, 0, 0, 0, 0, 0, 0, 0, 0, 0, 0, 0, 0, 0, 0, 0, 0, 0, 0, 0, 0, 0, 0, 0, 0, 0, 0, 0, 0, 0, 0, 0, 0, 0, 0, 0, 0, 0, 0, 0, 0, 0, 0, 0, 0, 0, 0, 0, 0, 0, 0, 0, 0, 0, 0, 0, 0, 0, 0, 0, 0, 0, 0, 0, 0, 0, 0, 0, 0, 0, 0, 0, 0, 0, 0, 0, 0, 0, 0, 0, 0, 0, 0, 0, 0, 0, 0, 0, 0, 0, 0, 0, 0, 0, 0, 0, 0, 0, 0, 0, 0, 0, 0, 0, 0, 0, 0, 0, 0, 0, 0, 0, 0, 0, 0, 0, 0, 0, 0, 0, 0, 0, 0, 0, 0, 0, 0, 0, 0, 0, 0, 0, 0, 0, 0, 0, 0, 0, 0, 0, 0, 0, 0, 0, 0, 0, 0, 0, 0, 0, 0, 0, 0, 0, 0, 0, 0, 0, 0, 0, 0, 0, 0, 0, 0, 0, 0, 0, 0, 0, 0, 0, 0, 0, 0, 0, 0, 0, 0, 0, 0, 0, 0, 0, 0, 0, 0, 0, 0, 0, 0, 0, 0, 0, 0, 0, 0, 0, 0, 0, 0, 0, 0, 0, 0, 0, 0, 0, 0, 0, 0, 0, 0, 0, 0, 0, 0, 0, 0, 0, 0, 0, 0, 0, 0, 0, 0, 0, 0, 0, 0, 0, 0, 0, 0, 0, 0, 0, 0, 0, 0, 0, 0, 0, 0, 0, 0, 0, 0, 0, 0, 0, 0, 0, 0, 0, 0, 0, 0, 0, 0, 0, 0, 0, 0, 0, 0, 0, 0, 0, 0, 0, 0, 0, 0, 0, 0, 0, 0, 0, 0, 0, 0, 0, 0, 0, 0, 0, 0, 0, 0, 0, 0, 0, 0, 0, 0, 0, 0, 0, 0, 0, 0, 0, 0, 0, 0, 0, 0, 0, 0, 0, 0, 0, 0, 0, 0, 0, 0, 0, 0, 0, 0, 0, 0, 0, 0, 0, 0, 0, 0, 0, 0, 0, 0, 0, 0, 0, 0, 0, 0, 0, 0, 0, 0, 0, 0, 0, 0, 0, 0, 0, 0, 0, 0, 0, 0, 0, 0, 0, 0, 0, 0, 0, 0, 0, 0, 0, 0, 0, 0, 0, 0, 0, 0, 0, 0, 0, 0, 0, 0, 0, 0, 0, 0, 0, 0, 0, 0, 0, 0, 0, 0, 0, 0, 0, 0, 0, 0, 0, 0, 0, 0, 0, 0, 0, 0, 0, 0, 0, 0, 0, 0, 0, 0, 0, 0, 0, 0, 0, 0, 0, 0, 0, 0, 0, 0, 0, 0, 0, 0, 0, 0, 0, 0, 0, 0, 0, 0, 0, 0, 0, 0, 0, 0, 0, 0, 0, 0, 0, 0, 0, 0, 0, 0, 0, 0, 0, 0, 0, 0, 0, 0, 0, 0, 0, 0, 0, 0, 0, 0, 0, 0, 0, 0, 0, 0, 0, 0, 0, 0, 0, 0, 0, 0, 0, 0, 0, 0, 0, 0, 0, 0, 0, 0, 0, 0, 0, 0, 0, 0, 0, 0, 0, 0, 0, 0, 0, 0, 0, 0, 0, 0, 0, 0, 0, 0, 0, 0, 0, 0, 0, 0, 0, 0, 0, 0, 0, 0, 0, 0, 0, 0, 0, 0, 0, 0, 0, 0, 0, 0, 0, 0, 0, 0, 0, 0, 0, 0, 0, 0, 0, 0, 0, 0, 0, 0, 0, 0, 0, 0, 0, 0, 0, 0, 0, 0, 0, 0, 0, 0, 0, 0, 0, 0, 0, 0, 0, 0, 0, 0, 0, 0, 0, 0, 0, 0, 0, 0, 0, 0, 0, 0, 0, 0, 0, 0, 0, 0, 0, 0, 0, 0, 0, 0, 0, 0, 0, 0, 0, 0, 0, 0, 0, 0, 0, 0, 0, 0, 0, 0, 0, 0, 0, 0, 0, 0, 0, 0, 0, 0, 0, 0, 0, 0, 0, 0, 0, 0, 0, 0, 0, 0, 0, 0, 0, 0, 0, 0, 0, 0, 0, 0, 0, 0, 0, 0, 0, 0, 0, 0, 0, 0, 0, 0, 0, 0, 0, 0, 0, 0, 0, 0, 0, 0, 0, 0, 0, 0, 0, 0, 0, 0, 0, 0, 0, 0, 0, 0, 0, 0, 0, 0, 0, 0, 0, 0, 0, 0, 0, 0, 0, 0, 0, 0, 0, 0, 0, 0, 0, 0, 0, 0, 0, 0, 0, 0, 0, 0, 0, 0, 0, 0, 0, 0, 0, 0, 0, 0, 0, 0, 0, 0, 0, 0, 0, 0, 0, 0, 0, 0, 0, 0, 0, 0, 0, 0, 0, 0, 0, 0, 0, 0, 0, 0, 0, 0, 0, 0, 0, 0, 0, 0, 0, 0, 0, 0, 0, 0, 0, 0, 0, 0, 0, 0, 0, 0, 0, 0, 0, 0, 0, 0, 0, 0, 0, 0, 0, 0, 0, 0, 0, 0, 0, 0, 0, 0, 0, 0, 0, 0, 0, 0, 0, 0, 0, 0, 0, 0, 0, 0, 0, 0, 0, 0, 0, 0, 0, 0, 0, 0, 0, 0, 0, 0, 0, 0, 0, 0, 0, 0, 0, 0, 0, 0, 0, 0, 0, 0, 0, 0, 0, 0, 0, 0, 0, 0, 0, 0, 0, 0, 0, 0, 0, 0, 0, 0, 0, 0, 0, 0, 0, 0, 0, 0, 0, 0, 0, 0, 0, 0, 0, 0, 0, 0, 0, 0, 0, 0, 0, 0, 0, 0, 0, 0, 0, 0, 0, 0, 0, 0, 0, 0, 0, 0, 0, 0, 0, 0, 0, 0, 0, 0, 0, 0, 0, 0, 0, 0, 0, 0, 0, 0, 0, 0, 0, 0, 0, 0, 0, 0, 0, 0, 0, 0, 0, 0, 0, 0, 0, 0, 0, 0, 0, 0, 0, 0, 0, 0, 0, 0, 0, 0, 0, 0, 0, 0, 0, 0, 0, 0, 0, 0, 0, 0, 0, 0, 0, 0, 0, 0, 0, 0, 0, 0, 0, 0, 0, 0, 0, 0, 0, 0, 0, 0, 0, 0, 0, 0, 0, 0, 0, 0, 0, 0, 0, 0, 0, 0, 0, 0, 0, 0, 0, 0, 0, 0, 0, 0, 0, 0, 0, 0, 0, 0, 0, 0, 0, 0, 0, 0, 0, 0, 0, 0, 0, 0, 0, 0, 0, 0, 0, 0, 0, 0, 0, 0, 0, 0, 0, 0, 0, 0, 0, 0, 0, 0, 0, 0, 0, 0, 0, 0, 0, 0, 0, 0, 0, 0, 0, 0, 0, 0, 0, 0, 0, 0, 0, 0, 0, 0, 0, 0, 0, 0, 0, 0, 0, 0, 0, 0, 0, 0, 0, 0, 0, 0, 0, 0, 0, 0, 0, 0, 0, 0, 0, 0, 0, 0, 0, 0, 0, 0, 0, 0, 0, 0, 0, 0, 0, 0, 0, 0, 0, 0, 0, 0, 0, 0, 0, 0, 0, 0, 0, 0, 0, 0, 0, 0, 0, 0, 0, 0, 0, 0, 0, 0, 0, 0, 0, 0, 0, 0, 0, 0, 0, 0, 0, 0, 0, 0, 0, 0, 0, 0, 0, 0, 0, 0, 0, 0, 0, 0, 0, 0, 0, 0, 0, 0, 0, 0, 0, 0, 0, 0, 0, 0, 0, 0, 0, 0, 0, 0, 0, 0, 0, 0, 0, 0, 0, 0, 0, 0, 0, 0, 0, 0, 0, 0, 0, 0, 0, 0, 0, 0, 0, 0, 0, 0, 0, 0, 0, 0, 0, 0, 0, 0, 0, 0, 0, 0, 0, 0, 0, 0, 0, 0, 0, 0, 0, 0, 0, 0, 0, 0, 0, 0, 0, 0, 0, 0, 0, 0, 0, 0, 0, 0, 0, 0, 0, 0, 0, 0, 0, 0, 0, 0, 0, 0, 0, 0, 0, 0, 0, 0, 0, 0, 0, 0, 0, 0, 0, 0, 0, 0, 0, 0, 0, 0, 0, 0, 0, 0, 0, 0, 0, 0, 0, 0, 0, 0, 0, 0, 0, 0, 0, 0, 0, 0, 0, 0, 0, 0, 0, 0, 0, 0, 0, 0, 0, 0, 0, 0, 0, 0, 0, 0, 0, 0, 0, 0, 0, 0, 0, 0, 0, 0, 0, 0, 0, 0, 0, 0, 0, 0, 0, 0, 0, 0, 0, 0, 0, 0, 0, 0, 0, 0, 0, 0, 0, 0, 0, 0, 0, 0, 0, 0, 0, 0, 0, 0, 0, 0, 0, 0, 0, 0, 0, 0, 0, 0, 0, 0, 0, 0, 0, 0, 0, 0, 0, 0, 0, 0, 0, 0, 0, 0, 0, 0, 0, 0, 0, 0, 0, 0, 0, 0, 0, 0, 0, 0, 0, 0, 0, 0, 0, 0, 0, 0, 0, 0, 0, 0, 0, 0, 0, 0, 0, 0, 0, 0, 0, 0, 0, 0, 0, 0, 0, 0, 0, 0, 0, 0, 0, 0, 0, 0, 0, 0, 0, 0, 0, 0, 0, 0, 0, 0, 0, 0, 0, 0, 0, 0, 0, 0, 0, 0, 0, 0, 0, 0, 0, 0, 0, 0, 0, 0, 0, 0, 0, 0, 0, 0, 0, 0, 0, 0, 0, 0, 0, 0, 0, 0, 0, 0, 0, 0, 0, 0, 0, 0, 0, 0, 0, 0, 0, 0, 0, 0, 0, 0, 0, 0, 0, 0, 0, 0, 0, 0, 0, 0, 0, 0, 0, 0, 0, 0, 0, 0, 0, 0, 0, 0, 0, 0, 0, 0, 0, 0, 0, 0, 0, 0, 0, 0, 0, 0, 0, 0, 0, 0, 0, 0, 0, 0, 0, 0, 0, 0, 0, 0, 0, 0, 0, 0, 0, 0, 0, 0, 0, 0, 0, 0, 0, 0, 0, 0, 0, 0, 0, 0, 0, 0, 0, 0, 0, 0, 0, 0, 0, 0, 0, 0, 0, 0, 0, 0, 0, 0, 0, 0, 0, 0, 0, 0, 0, 0, 0, 0, 0, 0, 0, 0, 0, 0, 0, 0, 0, 0, 0, 0, 0, 0, 0, 0, 0, 0, 0, 0, 0, 0, 0, 0, 0, 0, 0, 0, 0, 0, 0, 0, 0, 0, 0, 0, 0, 0, 0, 0, 0, 0, 0, 0, 0, 0, 0, 0, 0, 0, 0, 0, 0, 0, 0, 0, 0, 0, 0, 0, 0, 0, 0, 0, 0, 0, 0, 0, 0, 0, 0, 0, 0, 0, 0, 0, 0, 0, 0, 0, 0, 0, 0, 0, 0, 0, 0, 0, 0, 0, 0, 0, 0, 0, 0, 0, 0, 0, 0, 0, 0, 0, 0, 0, 0, 0, 0, 0, 0, 0, 0, 0, 0, 0, 0, 0, 0, 0, 0, 0, 0, 0, 0, 0, 0, 0, 0, 0, 0, 0, 0, 0, 0, 0, 0, 0, 0, 0, 0, 0, 0, 0, 0, 0, 0, 0, 0, 0, 0, 0, 0, 0, 0, 0, 0, 0, 0, 0, 0, 0, 0, 0, 0, 0, 0, 0, 0, 0, 0, 0, 0, 0, 0, 0, 0, 0, 0, 0, 0, 0, 0, 0, 0, 0, 0, 0, 0, 0, 0, 0, 0, 0, 0, 0, 0, 0, 0, 0, 0, 0, 0, 0, 0, 0, 0, 0, 0, 0, 0, 0, 0, 0, 0, 0, 0, 0, 0, 0, 0, 0, 0, 0, 0, 0, 0, 0, 0, 0, 0, 0, 0, 0, 0, 0, 0, 0, 0, 0, 0, 0, 0, 0, 0, 0, 0, 0, 0, 0, 0, 0, 0, 0, 0, 0, 0, 0, 0, 0, 0, 0, 0, 0, 0, 0, 0, 0, 0, 0, 0, 0, 0, 0, 0, 0, 0, 0, 0, 0, 0, 0, 0, 0, 0, 0, 0, 0, 0, 0, 0, 0, 0, 0, 0, 0, 0, 0, 0, 0, 0, 0, 0, 0, 0, 0, 0, 0, 0, 0, 0, 0, 0, 0, 0, 0, 0, 0, 0, 0, 0, 0, 0, 0, 0, 0, 0, 0, 0, 0, 0, 0, 0, 0, 0, 0, 0, 0, 0, 0, 0, 0, 0, 0, 0, 0, 0, 0, 0, 0, 0, 0, 0, 0, 0, 0, 0, 0, 0, 0, 0, 0, 0, 0, 0, 0, 0, 0, 0, 0, 0, 0, 0, 0, 0, 0, 0, 0, 0, 0, 0, 0, 0, 0, 0, 0, 0, 0, 0, 0, 0, 0, 0, 0, 0, 0, 0, 0, 0, 0, 0, 0, 0, 0, 0, 0, 0, 0, 0, 0, 0, 0, 0, 0, 0, 0, 0, 0, 0, 0, 0, 0, 0, 0, 0, 0, 0, 0, 0, 0, 0, 0, 0, 0, 0, 0, 0, 0, 0, 0, 0, 0, 0, 0, 0, 0, 0, 0, 0, 0, 0, 0, 0, 0, 0, 0, 0, 0, 0, 0, 0, 0, 0, 0, 0, 0, 0, 0, 0, 0, 0, 0, 0, 0, 0, 0, 0, 0, 0, 0, 0, 0, 0, 0, 0, 0, 0, 0, 0, 0, 0, 0, 0, 0, 0, 0, 0, 0, 0, 0, 0, 0, 0, 0, 0, 0, 0, 0, 0, 0, 0, 0, 0, 0, 0, 0, 0, 0, 0, 0, 0, 0, 0, 0, 0, 0, 0, 0, 0, 0, 0, 0, 0, 0, 0, 0, 0, 0, 0, 0, 0, 0, 0, 0, 0, 0, 0, 0, 0, 0, 0, 0, 0, 0, 0, 0, 0, 0, 0, 0, 0, 0, 0, 0, 0, 0, 0, 0, 0, 0, 0, 0, 0, 0, 0, 0, 0, 0, 0, 0, 0, 0, 0, 0, 0, 0, 0, 0, 0, 0, 0, 0, 0, 0, 0, 0, 0, 0, 0, 0, 0, 0, 0, 0, 0, 0, 0, 0, 0, 0, 0, 0, 0, 0, 0, 0, 0, 0, 0, 0, 0, 0, 0, 0, 0, 0, 0, 0, 0, 0, 0, 0, 0, 0, 0, 0, 0, 0, 0, 0, 0, 0, 0, 0, 0, 0, 0, 0, 0, 0, 0, 0, 0, 0, 0, 0, 0, 0, 0, 0, 0, 0, 0, 0, 0, 0, 0, 0, 0, 0, 0, 0, 0, 0, 0, 0, 0, 0, 0, 0, 0, 0, 0, 0, 0, 0, 0, 0, 0, 0, 0, 0, 0, 0, 0, 0, 0, 0, 0, 0, 0, 0, 0, 0, 0, 0, 0, 0, 0, 0, 0, 0, 0, 0, 0, 0, 0, 0, 0, 0, 0, 0, 0, 0, 0, 0, 0, 0, 0, 0, 0, 0, 0, 0, 0, 0, 0, 0, 0, 0, 0, 0, 0, 0, 0, 0, 0, 0, 0, 0, 0, 0, 0, 0, 0, 0, 0, 0, 0, 0, 0, 0, 0, 0, 0, 0, 0, 0, 0, 0, 0, 0, 0, 0, 0, 0, 0, 0, 0, 0, 0, 0, 0, 0, 0, 0, 0, 0, 0, 0, 0, 0, 0, 0, 0, 0, 0, 0, 0, 0, 0, 0, 0, 0, 0, 0, 0, 0, 0, 0, 0, 0, 0, 0, 0, 0, 0, 0, 0, 0, 0, 0, 0, 0, 0, 0, 0, 0, 0, 0, 0, 0, 0, 0, 0, 0, 0, 0, 0, 0, 0, 0, 0, 0, 0, 0, 0, 0, 0, 0, 0, 0, 0, 0, 0, 0, 0, 0, 0, 0, 0, 0, 0, 0, 0, 0, 0, 0, 0, 0, 0, 0, 0, 0, 0, 0, 0, 0, 0, 0, 0, 0, 0, 0, 0, 0, 0, 0, 0, 0, 0, 0, 0, 0, 0, 0, 0, 0, 0, 0, 0, 0, 0, 0, 0, 0, 0, 0, 0, 0, 0, 0, 0, 0, 0, 0, 0, 0, 0, 0, 0, 0, 0, 0, 0, 0, 0, 0, 0, 0, 0, 0, 0, 0, 0, 0, 0, 0, 0, 0, 0, 0, 0, 0, 0, 0, 0, 0, 0, 0, 0, 0, 0, 0, 0, 0, 0, 0, 0, 0, 0, 0, 0, 0, 0, 0, 0, 0, 0, 0, 0, 0, 0, 0, 0, 0, 0, 0, 0, 0, 0, 0, 0, 0, 0, 0, 0, 0, 0, 0, 0, 0, 0, 0, 0, 0, 0, 0, 0, 0, 0, 0, 0, 0, 0, 0, 0, 0, 0, 0, 0, 0, 0, 0, 0, 0, 0, 0, 0, 0, 0, 0, 0, 0, 0, 0, 0, 0, 0, 0, 0, 0, 0, 0, 0, 0, 0, 0, 0, 0, 0, 0, 0, 0, 0, 0, 0, 0, 0, 0, 0, 0, 0, 0, 0, 0, 0, 0, 0, 0, 0, 0, 0, 0, 0, 0, 0, 0, 0, 0, 0, 0, 0, 0, 0, 0, 0, 0, 0, 0, 0, 0, 0, 0, 0, 0, 0, 0, 0, 0, 0, 0, 0, 0, 0, 0, 0, 0, 0, 0, 0, 0, 0, 0, 0, 0, 0, 0, 0, 0, 0, 0, 0, 0, 0, 0, 0, 0, 0, 0, 0, 0, 0, 0, 0, 0, 0, 0, 0, 0, 0, 0, 0, 0, 0, 0, 0, 0, 0, 0, 0, 0, 0, 0, 0, 0, 0, 0, 0, 0, 0, 0, 0, 0, 0, 0, 0, 0, 0, 0, 0, 0, 0, 0, 0, 0, 0, 0, 0, 0, 0, 0, 0, 0, 0, 0, 0, 0, 0, 0, 0, 0, 0, 0, 0, 0, 0, 0, 0, 0, 0, 0, 0, 0, 0, 0, 0, 0, 0, 0, 0, 0, 0, 0, 0, 0, 0, 0, 0, 0, 0, 0, 0, 0, 0, 0, 0, 0, 0, 0, 0, 0, 0, 0, 0, 0, 0, 0, 0, 0, 0, 0, 0, 0, 0, 0, 0, 0, 0, 0, 0, 0, 0, 0, 0, 0, 0, 0, 0, 0, 0, 0, 0, 0, 0, 0, 0, 0, 0, 0, 0, 0, 0, 0, 0, 0, 0, 0, 0, 0, 0, 0, 0, 0, 0, 0, 0, 0, 0, 0, 0, 0, 0, 0, 0, 0, 0, 0, 0, 0, 0, 0, 0, 0, 0, 0, 0, 0, 0, 0, 0, 0, 0, 0, 0, 0, 0, 0, 0, 0, 0, 0, 0, 0, 0, 0, 0, 0, 0, 0, 0, 0, 0, 0, 0, 0, 0, 0, 0, 0, 0, 0, 0, 0, 0, 0, 0, 0, 0, 0, 0, 0, 0, 0, 0, 0, 0, 0, 0, 0, 0, 0, 0, 0, 0, 0, 0, 0, 0, 0, 0, 0, 0, 0, 0, 0, 0, 0, 0, 0, 0, 0, 0, 0, 0, 0, 0, 0, 0, 0, 0, 0, 0, 0, 0, 0, 0, 0, 0, 0, 0, 0, 0, 0, 0, 0, 0, 0, 0, 0, 0, 0, 0, 0, 0, 0, 0, 0, 0, 0, 0, 0, 0, 0, 0, 0, 0, 0, 0, 0, 0, 0, 0, 0, 0, 0, 0, 0, 0, 0, 0, 0, 0, 0, 0, 0, 0, 0, 0, 0, 0, 0, 0, 0, 0, 0, 0, 0, 0, 0, 0, 0, 0, 0, 0, 0, 0, 0, 0, 0, 0, 0, 0, 0, 0, 0, 0, 0, 0, 0, 0, 0, 0, 0, 0, 0, 0, 0, 0, 0, 0, 0, 0, 0, 0, 0, 0, 0, 0, 0, 0, 0, 0, 0, 0, 0, 0, 0, 0, 0, 0, 0, 0, 0, 0, 0, 0, 0, 0, 0, 0, 0, 0, 0, 0, 0, 0, 0, 0, 0, 0, 0, 0, 0, 0, 0, 0, 0, 0, 0, 0, 0, 0, 0, 0, 0, 0, 0, 0, 0, 0, 0, 0, 0, 0, 0, 0, 0, 0, 0, 0, 0, 0, 0, 0, 0, 0, 0, 0, 0, 0, 0, 0, 0, 0, 0, 0, 0, 0, 0, 0, 0, 0, 0, 0, 0, 0, 0, 0, 0, 0, 0, 0, 0, 0, 0, 0, 0, 0, 0, 0, 0, 0, 0, 0, 0, 0, 0, 0, 0, 0, 0, 0, 0, 0, 0, 0, 0, 0, 0, 0, 0, 0, 0, 0, 0, 0, 0, 0, 0, 0, 0, 0, 0, 0, 0, 0, 0, 0, 0, 0, 0, 0, 0, 0, 0, 0, 0, 0, 0, 0, 0, 0, 0, 0, 0, 0, 0, 0, 0, 0, 0, 0, 0, 0, 0, 0, 0, 0, 0, 0, 0, 0, 0, 0, 0, 0, 0, 0, 0, 0, 0, 0, 0, 0, 0, 0, 0, 0, 0, 0, 0, 0, 0, 0, 0, 0, 0, 0, 0, 0, 0, 0, 0, 0, 0, 0, 0, 0, 0, 0, 0, 0, 0, 0, 0, 0, 0, 0, 0, 0, 0, 0, 0, 0, 0, 0, 0, 0, 0, 0, 0, 0, 0, 0, 0, 0, 0, 0, 0, 0, 0, 0, 0, 0, 0, 0, 0, 0, 0, 0, 0, 0, 0, 0, 0, 0, 0, 0, 0, 0, 0, 0, 0, 0, 0, 0, 0, 0, 0, 0, 0, 0, 0, 0, 0, 0, 0, 0, 0, 0, 0, 0, 0, 0, 0, 0, 0, 0, 0, 0, 0, 0, 0, 0, 0, 0, 0, 0, 0, 0, 0, 0, 0, 0, 0, 0, 0, 0, 0, 0, 0, 0, 0, 0, 0, 0, 0, 0, 0, 0, 0, 0, 0, 0, 0, 0, 0, 0, 0, 0, 0, 0, 0, 0, 0, 0, 0, 0, 0, 0, 0, 0, 0, 0, 0, 0, 0, 0, 0, 0, 0, 0, 0, 0, 0, 0, 0, 0, 0, 0, 0, 0, 0, 0, 0, 0, 0, 0, 0, 0, 0, 0, 0, 0, 0, 0, 0, 0, 0, 0, 0, 0, 0, 0, 0, 0, 0, 0, 0, 0, 0, 0, 0, 0, 0, 0, 0, 0, 0, 0, 0, 0, 0, 0, 0, 0, 0, 0, 0, 0, 0, 0, 0, 0, 0, 0, 0, 0, 0, 0, 0, 0, 0, 0, 0, 0, 0, 0, 0, 0, 0, 0, 0, 0, 0, 0, 0, 0, 0, 0, 0, 0, 0, 0, 0, 0, 0, 0, 0, 0, 0, 0, 0, 0, 0, 0, 0, 0, 0, 0, 0, 0, 0, 0, 0, 0, 0, 0, 0, 0, 0, 0, 0, 0, 0, 0, 0, 0, 0, 0, 0, 0, 0, 0, 0, 0, 0, 0, 0, 0, 0, 0, 0, 0, 0, 0, 0, 0, 0, 0, 0, 0, 0, 0, 0, 0, 0, 0, 0, 0, 0, 0, 0, 0, 0, 0, 0, 0, 0, 0, 0, 0, 0, 0, 0, 0, 0, 0, 0, 0, 0, 0, 0, 0, 0, 0, 0, 0, 0, 0, 0, 0, 0, 0, 0, 0, 0, 0, 0, 0, 0, 0, 0, 0, 0, 0, 0, 0, 0, 0, 0, 0, 0, 0, 0, 0, 0, 0, 0, 0, 0, 0, 0, 0, 0, 0, 0, 0, 0, 0]\n"
          ],
          "name": "stdout"
        }
      ]
    },
    {
      "cell_type": "code",
      "metadata": {
        "colab": {
          "base_uri": "https://localhost:8080/"
        },
        "id": "kx8jBGHmcLfh",
        "outputId": "da206bc0-1920-4d6e-d2ef-32259f4e7e04"
      },
      "source": [
        "print(len(data))"
      ],
      "execution_count": 40,
      "outputs": [
        {
          "output_type": "stream",
          "text": [
            "3900\n"
          ],
          "name": "stdout"
        }
      ]
    },
    {
      "cell_type": "code",
      "metadata": {
        "colab": {
          "base_uri": "https://localhost:8080/"
        },
        "id": "VOejg657cm0H",
        "outputId": "2e409b52-79f7-42f0-ad6a-119ce438172c"
      },
      "source": [
        "print(len(data[0]))"
      ],
      "execution_count": 41,
      "outputs": [
        {
          "output_type": "stream",
          "text": [
            "7732\n"
          ],
          "name": "stdout"
        }
      ]
    },
    {
      "cell_type": "markdown",
      "metadata": {
        "id": "M3zNvhbIiivJ"
      },
      "source": [
        "# **Calculating Class Probabilithy for Each words**"
      ]
    },
    {
      "cell_type": "code",
      "metadata": {
        "id": "7ZI9gJCKcztR"
      },
      "source": [
        "#spam = 1\r\n",
        "#ham = 0\r\n",
        "\r\n",
        "row_count = len(data)\r\n",
        "\r\n",
        "word_spam_map = {}\r\n",
        "word_ham_map = {}\r\n",
        "\r\n",
        "for word in word_token:\r\n",
        "    word_index = word_token[word]\r\n",
        "\r\n",
        "    temp_spam_count = 0\r\n",
        "    temp_ham_count = 0\r\n",
        "    \r\n",
        "    for i in range(row_count):\r\n",
        "        if(data[i][index] == 0):\r\n",
        "            continue\r\n",
        "        if(trainSet['v1'][i] == 'spam'):\r\n",
        "            temp_spam_count += 1\r\n",
        "        else:\r\n",
        "            temp_ham_count += 1\r\n",
        "    \r\n",
        "    word_spam_map[word] = (temp_spam_count+1)/(spam_count+2)\r\n",
        "    word_ham_map[word] = (temp_ham_count+1)/(ham_count+2)"
      ],
      "execution_count": 43,
      "outputs": []
    },
    {
      "cell_type": "code",
      "metadata": {
        "id": "S4AST0ehgGMo"
      },
      "source": [
        "pSpam = spam_count / (spam_count + ham_count)\r\n",
        "pHam = ham_count / (spam_count + ham_count)"
      ],
      "execution_count": 44,
      "outputs": []
    },
    {
      "cell_type": "markdown",
      "metadata": {
        "id": "FZ77-5wRiqwI"
      },
      "source": [
        "# **Probability of Mail being Spam**"
      ]
    },
    {
      "cell_type": "code",
      "metadata": {
        "id": "cMGeEY3wg96v"
      },
      "source": [
        "def spamProb(wordList):\r\n",
        "    wordSpamProb = []\r\n",
        "    for word in word_token:\r\n",
        "        if word in wordList:\r\n",
        "            wordSpamProb.append(word_spam_map[word])\r\n",
        "        else:\r\n",
        "            wordSpamProb.append(1-word_spam_map[word])\r\n",
        "    prob = pSpam\r\n",
        "    for item in wordSpamProb:\r\n",
        "        prob*=item\r\n",
        "    return prob"
      ],
      "execution_count": 45,
      "outputs": []
    },
    {
      "cell_type": "markdown",
      "metadata": {
        "id": "DSoiA-w8iunz"
      },
      "source": [
        "# **Probability of Mail being Ham**"
      ]
    },
    {
      "cell_type": "code",
      "metadata": {
        "id": "wp7JdkyihdJI"
      },
      "source": [
        "def hamProb(wordList):\r\n",
        "    wordHamProb = []\r\n",
        "    for word in word_token:\r\n",
        "        if word in wordList:\r\n",
        "            wordHamProb.append(word_ham_map[word])\r\n",
        "        else:\r\n",
        "            wordHamProb.append(1-word_ham_map[word])\r\n",
        "    prob = pHam\r\n",
        "    for item in wordHamProb:\r\n",
        "        prob*=item\r\n",
        "    return prob"
      ],
      "execution_count": 46,
      "outputs": []
    },
    {
      "cell_type": "markdown",
      "metadata": {
        "id": "-n86ILRAiwO4"
      },
      "source": [
        "# **Testing of Model over Test Data**"
      ]
    },
    {
      "cell_type": "code",
      "metadata": {
        "colab": {
          "base_uri": "https://localhost:8080/"
        },
        "id": "daYrl_VHhrCl",
        "outputId": "c2e01c74-b158-4fcc-dc79-94f6b9ae372f"
      },
      "source": [
        "actual = np.zeros(len(testSet.index), dtype=int)\r\n",
        "predicted = np.zeros(len(testSet.index), dtype=int)\r\n",
        "for index, row in testSet.iterrows():\r\n",
        "    if str(row['v1'])=='spam':\r\n",
        "        actual[index] = 1\r\n",
        "    else:\r\n",
        "        actual[index] = 0\r\n",
        "    \r\n",
        "    mail = str(row['v2'])\r\n",
        "    wordList = str(mail).split()\r\n",
        "    wordList = [(word.translate(str.maketrans('', '', string.punctuation))).lower() for word in wordList]\r\n",
        "    wordList = [word for word in wordList if word != '']\r\n",
        "    \r\n",
        "    pSpamMail = spamProb(wordList)\r\n",
        "    pHamMail = hamProb(wordList)\r\n",
        "    \r\n",
        "    if pSpamMail > pHamMail:\r\n",
        "        predicted[index] = 1\r\n",
        "    else:\r\n",
        "        predicted[index] = 0\r\n",
        "        \r\n",
        "print('TOTAL SAMPLES : ' + str(len(testSet.index)))\r\n",
        "print('SAMPLES CLASSIFIED CORRECTLY : ' + str(np.sum(actual == predicted)))\r\n",
        "print('SAMPLES CLASSIFIED INCORRECTLY : ' + str(len(testSet.index) - np.sum(actual == predicted)))\r\n",
        "print('MODEL ACCURACY : ' + str(((np.sum(actual == predicted))/(len(testSet.index)))*100))"
      ],
      "execution_count": 47,
      "outputs": [
        {
          "output_type": "stream",
          "text": [
            "TOTAL SAMPLES : 1672\n",
            "SAMPLES CLASSIFIED CORRECTLY : 1324\n",
            "SAMPLES CLASSIFIED INCORRECTLY : 348\n",
            "MODEL ACCURACY : 79.18660287081339\n"
          ],
          "name": "stdout"
        }
      ]
    },
    {
      "cell_type": "markdown",
      "metadata": {
        "id": "Dt6c_cYGi1gs"
      },
      "source": [
        "# **Accuracy Parameters of the Model over Test Data**"
      ]
    },
    {
      "cell_type": "code",
      "metadata": {
        "colab": {
          "base_uri": "https://localhost:8080/"
        },
        "id": "LmRnntCVh4dM",
        "outputId": "89725e92-b434-44f2-c989-a7be53032a26"
      },
      "source": [
        "tp=0\r\n",
        "tn=0\r\n",
        "fp=0\r\n",
        "fn=0\r\n",
        "for i in range(1672):\r\n",
        "    if actual[i]==predicted[i]and actual[i]==0:\r\n",
        "        tp+=1\r\n",
        "    if actual[i]!=predicted[i]and actual[i]==0:\r\n",
        "        fp+=1\r\n",
        "    if actual[i]==predicted[i]and actual[i]==1:\r\n",
        "        tn+=1\r\n",
        "    if actual[i]!=predicted[i]and actual[i]==1:\r\n",
        "        fn+=1\r\n",
        "\r\n",
        "print(\"CONFUSION MATRIX\")\r\n",
        "print(tp,\" \",fp)\r\n",
        "print(fn,\" \",tn)"
      ],
      "execution_count": 48,
      "outputs": [
        {
          "output_type": "stream",
          "text": [
            "CONFUSION MATRIX\n",
            "1152   292\n",
            "56   172\n"
          ],
          "name": "stdout"
        }
      ]
    },
    {
      "cell_type": "code",
      "metadata": {
        "colab": {
          "base_uri": "https://localhost:8080/"
        },
        "id": "ffRO9Mybh-0A",
        "outputId": "627aceba-0421-4c4f-b7eb-7bc912558740"
      },
      "source": [
        "print(\"Accuracy : \",str((tp+tn)/(tp+fp+tn+fn)))\r\n",
        "print(\"Precision : \",str((tp)/(tp+fp)))\r\n",
        "print(\"Sensitivity : \",str((tp)/(tp+fn)))\r\n",
        "print(\"Specificity : \",str((tn)/(fp+tn)))"
      ],
      "execution_count": 49,
      "outputs": [
        {
          "output_type": "stream",
          "text": [
            "Accuracy :  0.7918660287081339\n",
            "Precision :  0.7977839335180056\n",
            "Sensitivity :  0.9536423841059603\n",
            "Specificity :  0.3706896551724138\n"
          ],
          "name": "stdout"
        }
      ]
    },
    {
      "cell_type": "code",
      "metadata": {
        "id": "VSddI9xYiBF0"
      },
      "source": [
        ""
      ],
      "execution_count": null,
      "outputs": []
    }
  ]
}