{
  "nbformat": 4,
  "nbformat_minor": 0,
  "metadata": {
    "colab": {
      "name": "Assignment_4_Part_3.ipynb",
      "provenance": [],
      "toc_visible": true
    },
    "kernelspec": {
      "name": "python3",
      "display_name": "Python 3"
    }
  },
  "cells": [
    {
      "cell_type": "markdown",
      "metadata": {
        "id": "FkYcTwOPOe_V"
      },
      "source": [
        "# **Name - Prabhakar Kumar**\r\n",
        "# **Roll - IRM2017008**\r\n",
        "# **Assignment 4 Question 2**"
      ]
    },
    {
      "cell_type": "code",
      "metadata": {
        "id": "Qa-oicnMNKdI"
      },
      "source": [
        "import numpy as np\r\n",
        "import pandas as pd\r\n",
        "import csv"
      ],
      "execution_count": 1,
      "outputs": []
    },
    {
      "cell_type": "markdown",
      "metadata": {
        "id": "LbKOVBewOlb6"
      },
      "source": [
        "# **Loading the Dataset**"
      ]
    },
    {
      "cell_type": "code",
      "metadata": {
        "colab": {
          "base_uri": "https://localhost:8080/"
        },
        "id": "-drOOT46Nnme",
        "outputId": "8dbe4423-3fa2-4790-b4ec-68a395acd3e1"
      },
      "source": [
        "data = pd.DataFrame(pd.read_csv('Microchip.csv',delimiter=','))\r\n",
        "data.info()"
      ],
      "execution_count": 14,
      "outputs": [
        {
          "output_type": "stream",
          "text": [
            "<class 'pandas.core.frame.DataFrame'>\n",
            "RangeIndex: 118 entries, 0 to 117\n",
            "Data columns (total 3 columns):\n",
            " #   Column  Non-Null Count  Dtype  \n",
            "---  ------  --------------  -----  \n",
            " 0   X1      118 non-null    float64\n",
            " 1   X2      118 non-null    float64\n",
            " 2   Y       118 non-null    int64  \n",
            "dtypes: float64(2), int64(1)\n",
            "memory usage: 2.9 KB\n"
          ],
          "name": "stdout"
        }
      ]
    },
    {
      "cell_type": "code",
      "metadata": {
        "colab": {
          "base_uri": "https://localhost:8080/",
          "height": 204
        },
        "id": "BiLsRpQ4NyRl",
        "outputId": "2a8b5c60-508a-46e4-c032-015259d84408"
      },
      "source": [
        "data.head()"
      ],
      "execution_count": 15,
      "outputs": [
        {
          "output_type": "execute_result",
          "data": {
            "text/html": [
              "<div>\n",
              "<style scoped>\n",
              "    .dataframe tbody tr th:only-of-type {\n",
              "        vertical-align: middle;\n",
              "    }\n",
              "\n",
              "    .dataframe tbody tr th {\n",
              "        vertical-align: top;\n",
              "    }\n",
              "\n",
              "    .dataframe thead th {\n",
              "        text-align: right;\n",
              "    }\n",
              "</style>\n",
              "<table border=\"1\" class=\"dataframe\">\n",
              "  <thead>\n",
              "    <tr style=\"text-align: right;\">\n",
              "      <th></th>\n",
              "      <th>X1</th>\n",
              "      <th>X2</th>\n",
              "      <th>Y</th>\n",
              "    </tr>\n",
              "  </thead>\n",
              "  <tbody>\n",
              "    <tr>\n",
              "      <th>0</th>\n",
              "      <td>0.051267</td>\n",
              "      <td>0.69956</td>\n",
              "      <td>1</td>\n",
              "    </tr>\n",
              "    <tr>\n",
              "      <th>1</th>\n",
              "      <td>-0.092742</td>\n",
              "      <td>0.68494</td>\n",
              "      <td>1</td>\n",
              "    </tr>\n",
              "    <tr>\n",
              "      <th>2</th>\n",
              "      <td>-0.213710</td>\n",
              "      <td>0.69225</td>\n",
              "      <td>1</td>\n",
              "    </tr>\n",
              "    <tr>\n",
              "      <th>3</th>\n",
              "      <td>-0.375000</td>\n",
              "      <td>0.50219</td>\n",
              "      <td>1</td>\n",
              "    </tr>\n",
              "    <tr>\n",
              "      <th>4</th>\n",
              "      <td>-0.513250</td>\n",
              "      <td>0.46564</td>\n",
              "      <td>1</td>\n",
              "    </tr>\n",
              "  </tbody>\n",
              "</table>\n",
              "</div>"
            ],
            "text/plain": [
              "         X1       X2  Y\n",
              "0  0.051267  0.69956  1\n",
              "1 -0.092742  0.68494  1\n",
              "2 -0.213710  0.69225  1\n",
              "3 -0.375000  0.50219  1\n",
              "4 -0.513250  0.46564  1"
            ]
          },
          "metadata": {
            "tags": []
          },
          "execution_count": 15
        }
      ]
    },
    {
      "cell_type": "code",
      "metadata": {
        "id": "6NGQNEtgN0Cq"
      },
      "source": [
        "x = data[['X1','X2']].values\r\n",
        "y = data['Y'].values"
      ],
      "execution_count": 16,
      "outputs": []
    },
    {
      "cell_type": "markdown",
      "metadata": {
        "id": "wL0Qg-X3T5TI"
      },
      "source": [
        "# **Applying Box Muller Transformation**"
      ]
    },
    {
      "cell_type": "code",
      "metadata": {
        "id": "-zQwf_50PrEH"
      },
      "source": [
        "np.seterr(divide = 'ignore')\r\n",
        "def gauss_func(distribution1,distribution2):\r\n",
        "  normal_1=np.sqrt(-2*np.log(distribution1))*np.cos(2*np.pi*distribution2)\r\n",
        "  normal_2=np.sqrt(-2*np.log(distribution1))*np.sin(2*np.pi*distribution2)\r\n",
        "  return normal_1,normal_2"
      ],
      "execution_count": 18,
      "outputs": []
    },
    {
      "cell_type": "code",
      "metadata": {
        "colab": {
          "base_uri": "https://localhost:8080/"
        },
        "id": "Mco81uwjP-ki",
        "outputId": "55aca68a-4c7f-480c-ffce-31757f403a4e"
      },
      "source": [
        "x0=[]\r\n",
        "x1=[]\r\n",
        "min_x0=x[0][0]\r\n",
        "max_x0=x[i][0]\r\n",
        "min_x1=x[i][1]\r\n",
        "max_x1=x[i][1]\r\n",
        "\r\n",
        "n=y.shape[0]\r\n",
        "\r\n",
        "for i in range(n):\r\n",
        "  x0.append(x[i][0])\r\n",
        "  x1.append(x[i][1])\r\n",
        "  if(x[i][0]>max_x0):\r\n",
        "    max_x0=x[i][0]\r\n",
        "  if(x[i][0]<min_x0):\r\n",
        "    min_x0=x[i][0]\r\n",
        "  if(x[i][1]>max_x1):\r\n",
        "    max_x1=x[i][1]\r\n",
        "  if(x[i][1]<min_x1):\r\n",
        "    min_x1=x[i][1]\r\n",
        "\r\n",
        "for i in range(n):\r\n",
        "  x0[i]=(x0[i]-min_x0)/(max_x0-min_x0)\r\n",
        "  x1[i]=(x1[i]-min_x1)/(max_x1-min_x1)\r\n",
        "\r\n",
        "x0=np.array(x0)\r\n",
        "x1=np.array(x1)\r\n",
        "\r\n",
        "print(\"Here\")\r\n",
        "\r\n",
        "norm1,norm2 = gauss_func(x0,x1)"
      ],
      "execution_count": 20,
      "outputs": [
        {
          "output_type": "stream",
          "text": [
            "Here\n"
          ],
          "name": "stdout"
        }
      ]
    },
    {
      "cell_type": "markdown",
      "metadata": {
        "id": "_m3Q2UuxOn-x"
      },
      "source": [
        "# **Splitting Dataset into Training and Test data**"
      ]
    },
    {
      "cell_type": "code",
      "metadata": {
        "id": "7SVLxECUN11s"
      },
      "source": [
        "import random\r\n",
        "n=y.shape[0]\r\n",
        "temp_list=[]\r\n",
        "for i in range(n):\r\n",
        "  temp_list.append(i)\r\n",
        "\r\n",
        "\r\n",
        "random.shuffle(temp_list)\r\n",
        "train_limit=int(0.7*n)\r\n",
        "\r\n",
        "temp_X=[]\r\n",
        "temp_Y=[]\r\n",
        "temp_test_X=[]\r\n",
        "temp_test_Y=[]\r\n",
        "for i in range(n):\r\n",
        "  x0=x[temp_list[i]][0]\r\n",
        "  x1=x[temp_list[i]][1]\r\n",
        "  if(i<=train_limit):\r\n",
        "    temp_append=x[temp_list[i],:]\r\n",
        "    temp_X.append(temp_append)\r\n",
        "    temp_Y.append(y[temp_list[i]])\r\n",
        "  else:\r\n",
        "    temp_append=x[temp_list[i],:]\r\n",
        "    temp_test_X.append(temp_append)\r\n",
        "    temp_test_Y.append(y[temp_list[i]])\r\n"
      ],
      "execution_count": 21,
      "outputs": []
    },
    {
      "cell_type": "code",
      "metadata": {
        "id": "n91_lefMN5zo"
      },
      "source": [
        "X=np.array(temp_X)\r\n",
        "Y=np.array(temp_Y)\r\n",
        "X_test=np.array(temp_test_X)\r\n",
        "Y_test=np.array(temp_test_Y)"
      ],
      "execution_count": 22,
      "outputs": []
    },
    {
      "cell_type": "code",
      "metadata": {
        "colab": {
          "base_uri": "https://localhost:8080/"
        },
        "id": "FtLQgj-WN7w3",
        "outputId": "05f083b9-7f33-4613-de61-82b26a6080b8"
      },
      "source": [
        "print(X.shape)\r\n",
        "print(X_test.shape)"
      ],
      "execution_count": 23,
      "outputs": [
        {
          "output_type": "stream",
          "text": [
            "(83, 2)\n",
            "(35, 2)\n"
          ],
          "name": "stdout"
        }
      ]
    },
    {
      "cell_type": "code",
      "metadata": {
        "colab": {
          "base_uri": "https://localhost:8080/"
        },
        "id": "bidm7IDYN_j1",
        "outputId": "4491f423-f64e-47a8-eb20-814559759782"
      },
      "source": [
        "type(X)"
      ],
      "execution_count": 24,
      "outputs": [
        {
          "output_type": "execute_result",
          "data": {
            "text/plain": [
              "numpy.ndarray"
            ]
          },
          "metadata": {
            "tags": []
          },
          "execution_count": 24
        }
      ]
    },
    {
      "cell_type": "markdown",
      "metadata": {
        "id": "GjoSjkg-OuLr"
      },
      "source": [
        "# **Calculation of Phi Parameter**"
      ]
    },
    {
      "cell_type": "code",
      "metadata": {
        "colab": {
          "base_uri": "https://localhost:8080/"
        },
        "id": "Md1Tf0IwOBA2",
        "outputId": "53975d17-b3bb-4ca2-874c-a3267b6775c5"
      },
      "source": [
        "def get_phi():\r\n",
        "  n = Y.shape[0]\r\n",
        "  global count_0\r\n",
        "  global count_1\r\n",
        "  for i in range(n):\r\n",
        "    if(Y[i]==1):\r\n",
        "      count_1+=1\r\n",
        "    else:\r\n",
        "      count_0+=1\r\n",
        "  return count_1/n\r\n",
        "\r\n",
        "count_0=0\r\n",
        "count_1=0\r\n",
        "phi = get_phi()\r\n",
        "print(phi)"
      ],
      "execution_count": 25,
      "outputs": [
        {
          "output_type": "stream",
          "text": [
            "0.4939759036144578\n"
          ],
          "name": "stdout"
        }
      ]
    },
    {
      "cell_type": "markdown",
      "metadata": {
        "id": "gW_c0U1gOwR8"
      },
      "source": [
        "# **Mean Parameter for Class 0**"
      ]
    },
    {
      "cell_type": "code",
      "metadata": {
        "colab": {
          "base_uri": "https://localhost:8080/"
        },
        "id": "5nQcR9NiOCWx",
        "outputId": "f482fe1f-4607-4afd-ff92-a6ee600fe2e7"
      },
      "source": [
        "def get_mu0():\r\n",
        "  global count_0\r\n",
        "  n=Y.shape[0]\r\n",
        "  sum=np.zeros_like(X[0,:])\r\n",
        "  for i in range(n):\r\n",
        "    if(Y[i]==1):\r\n",
        "      continue\r\n",
        "    sum=sum+X[i,:]\r\n",
        "  print(count_0)\r\n",
        "  print(sum)\r\n",
        "  ret=sum/count_0\r\n",
        "  return ret\r\n",
        "\r\n",
        "mu0 = get_mu0()\r\n",
        "print(mu0)"
      ],
      "execution_count": 26,
      "outputs": [
        {
          "output_type": "stream",
          "text": [
            "42\n",
            "[ 4.7795896 10.895514 ]\n",
            "[0.11379975 0.259417  ]\n"
          ],
          "name": "stdout"
        }
      ]
    },
    {
      "cell_type": "markdown",
      "metadata": {
        "id": "8JLEvdQHOyG3"
      },
      "source": [
        "# **Mean Parameter for Class 1**"
      ]
    },
    {
      "cell_type": "code",
      "metadata": {
        "colab": {
          "base_uri": "https://localhost:8080/"
        },
        "id": "IyqQYNAZOD8z",
        "outputId": "2ef6f214-dff1-4906-a1b5-ef880985677b"
      },
      "source": [
        "def get_mu1():\r\n",
        "  global count_1\r\n",
        "  n=Y.shape[0]\r\n",
        "  sum=np.zeros_like(X[0,:])\r\n",
        "  for i in range(n):\r\n",
        "    if(Y[i]==0):\r\n",
        "      continue\r\n",
        "    sum=sum+X[i,:]\r\n",
        "  print(count_1)\r\n",
        "  print(sum)\r\n",
        "  ret=sum/count_1\r\n",
        "  return ret\r\n",
        "\r\n",
        "mu1 = get_mu1()\r\n",
        "print(mu1)"
      ],
      "execution_count": 27,
      "outputs": [
        {
          "output_type": "stream",
          "text": [
            "41\n",
            "[1.8427446 6.781388 ]\n",
            "[0.04494499 0.16539971]\n"
          ],
          "name": "stdout"
        }
      ]
    },
    {
      "cell_type": "markdown",
      "metadata": {
        "id": "PSomvsoZO0Dw"
      },
      "source": [
        "# **Calculation of Sigma**"
      ]
    },
    {
      "cell_type": "code",
      "metadata": {
        "colab": {
          "base_uri": "https://localhost:8080/"
        },
        "id": "cWVM7pHIOFNE",
        "outputId": "db4d7dfb-642c-47a6-f31e-a0687447688f"
      },
      "source": [
        "def get_sigma():\r\n",
        "  global mu0\r\n",
        "  global mu1\r\n",
        "  n=Y.shape[0]\r\n",
        "  sum = np.zeros((X.shape[1],X.shape[1]))\r\n",
        "  print(sum)\r\n",
        "  for i in range(n):\r\n",
        "    xi = X[i,:]\r\n",
        "    xi = xi.reshape((-1,1))\r\n",
        "    yi = Y[i]\r\n",
        "    if(yi==0):\r\n",
        "      temp_sum = ((xi-mu0).T)*(xi-mu0)\r\n",
        "    else:\r\n",
        "      temp_sum = ((xi-mu1).T)*(xi-mu1)\r\n",
        "    sum = sum + temp_sum\r\n",
        "  return sum/n\r\n",
        "\r\n",
        "sigma = get_sigma()\r\n",
        "print(sigma)\r\n"
      ],
      "execution_count": 28,
      "outputs": [
        {
          "output_type": "stream",
          "text": [
            "[[0. 0.]\n",
            " [0. 0.]]\n",
            "[[ 0.23085504 -0.06132183]\n",
            " [-0.06132183  0.28786302]]\n"
          ],
          "name": "stdout"
        }
      ]
    },
    {
      "cell_type": "markdown",
      "metadata": {
        "id": "oPAt7OcuO2lf"
      },
      "source": [
        "# **Prediction over Test Data**"
      ]
    },
    {
      "cell_type": "code",
      "metadata": {
        "id": "it1PW615OGpV"
      },
      "source": [
        "def get_p_of_x_given_y(x, mu):\r\n",
        "  pi = 3.14\r\n",
        "  dim = mu.shape[0]\r\n",
        "  #exp(-0.5*(x-mu)'*inv(sigma)*(x-mu))\r\n",
        "  temp1=np.exp(-0.5*((x-mu).T)*np.linalg.inv(sigma)*(x-mu))\r\n",
        "  #np.linalg.det(a)\r\n",
        "  temp2=(1/(2*pi)**(dim/2))*np.sqrt(np.linalg.det(sigma))\r\n",
        "  ret=temp1*temp2\r\n",
        "  return ret[0]"
      ],
      "execution_count": 29,
      "outputs": []
    },
    {
      "cell_type": "code",
      "metadata": {
        "colab": {
          "base_uri": "https://localhost:8080/"
        },
        "id": "hVav4DgbOIR6",
        "outputId": "8427ae38-313f-4301-b536-e36ebac741fc"
      },
      "source": [
        "def get_post_prob(y):\r\n",
        "  global phi\r\n",
        "  return (phi**y)*((1-phi)**(1-y))\r\n",
        "\r\n",
        "n=Y_test.shape[0]\r\n",
        "\r\n",
        "tp=0\r\n",
        "tn=0\r\n",
        "fp=0\r\n",
        "fn=0\r\n",
        "\r\n",
        "print(\"Total = \",n)\r\n",
        "for index in range(n):\r\n",
        "  temp_prob=get_post_prob(Y_test[index])\r\n",
        "  p0=get_p_of_x_given_y(X_test[index,:],mu0)\r\n",
        "  p1=get_p_of_x_given_y(X_test[index,:],mu1)\r\n",
        "\r\n",
        "  prob0 = p0[0]*temp_prob\r\n",
        "  prob1 = p1[0]*temp_prob\r\n",
        "  ans=1\r\n",
        "  if(prob0>prob1):\r\n",
        "    ans=0\r\n",
        "  else:\r\n",
        "    ans=1\r\n",
        "  if(ans==Y_test[index]):\r\n",
        "    if(ans==1):\r\n",
        "      tp+=1\r\n",
        "    else:\r\n",
        "      tn+=1\r\n",
        "  else:\r\n",
        "    if(Y_test[index]==1):\r\n",
        "      fn+=1\r\n",
        "    else:\r\n",
        "      fp+=1"
      ],
      "execution_count": 30,
      "outputs": [
        {
          "output_type": "stream",
          "text": [
            "Total =  35\n"
          ],
          "name": "stdout"
        }
      ]
    },
    {
      "cell_type": "markdown",
      "metadata": {
        "id": "9DKRYWtpO4pQ"
      },
      "source": [
        "# **Model Accuracy Analysis**"
      ]
    },
    {
      "cell_type": "code",
      "metadata": {
        "colab": {
          "base_uri": "https://localhost:8080/"
        },
        "id": "_m-UJ7h_OJbQ",
        "outputId": "95575887-2b06-4c7b-c803-b35bb7babac5"
      },
      "source": [
        "print(\"True Positive = \",tp)\r\n",
        "print(\"True Negative = \",tn)\r\n",
        "print(\"False Positive = \",fp)\r\n",
        "print(\"False Negative = \",fn)"
      ],
      "execution_count": 31,
      "outputs": [
        {
          "output_type": "stream",
          "text": [
            "True Positive =  11\n",
            "True Negative =  7\n",
            "False Positive =  11\n",
            "False Negative =  6\n"
          ],
          "name": "stdout"
        }
      ]
    },
    {
      "cell_type": "code",
      "metadata": {
        "colab": {
          "base_uri": "https://localhost:8080/"
        },
        "id": "zLsr-8FQOKyh",
        "outputId": "712aa333-b2e3-450f-f9c9-99005db2af57"
      },
      "source": [
        "accuracy = (tp+tn)/(tp+tn+fp+fn)\r\n",
        "sensitivity = tp/(tp+fn)\r\n",
        "precision = tp/(tp+fp)\r\n",
        "specificity = tn/(tn+fp)\r\n",
        "\r\n",
        "print(\"accuracy = \",accuracy)\r\n",
        "print(\"sensitivity = \",sensitivity)\r\n",
        "print(\"precision = \",precision)\r\n",
        "print(\"specificity = \",specificity)"
      ],
      "execution_count": 32,
      "outputs": [
        {
          "output_type": "stream",
          "text": [
            "accuracy =  0.5142857142857142\n",
            "sensitivity =  0.6470588235294118\n",
            "precision =  0.5\n",
            "specificity =  0.3888888888888889\n"
          ],
          "name": "stdout"
        }
      ]
    },
    {
      "cell_type": "code",
      "metadata": {
        "id": "-GJsQoG4ONLY"
      },
      "source": [
        ""
      ],
      "execution_count": null,
      "outputs": []
    }
  ]
}