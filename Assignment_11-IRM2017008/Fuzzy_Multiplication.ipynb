{
  "nbformat": 4,
  "nbformat_minor": 0,
  "metadata": {
    "colab": {
      "name": "Fuzzy_Multiplication.ipynb",
      "provenance": []
    },
    "kernelspec": {
      "name": "python3",
      "display_name": "Python 3"
    },
    "language_info": {
      "name": "python"
    }
  },
  "cells": [
    {
      "cell_type": "code",
      "metadata": {
        "id": "DsRIud9GiDIz"
      },
      "source": [
        "A = [[1, 0.3], [2, 0.6], [3, 1], [4, 0.7], [5, 0.2]]\n",
        "B = [[10, 0.5], [11, 1], [12, 0.5]]"
      ],
      "execution_count": 8,
      "outputs": []
    },
    {
      "cell_type": "code",
      "metadata": {
        "colab": {
          "base_uri": "https://localhost:8080/"
        },
        "id": "Q2lA-7ccjnlv",
        "outputId": "8cd09eb2-e65a-40fd-aaa3-0fcd05c13354"
      },
      "source": [
        "res = {}\n",
        "\n",
        "for k1, v1 in A:\n",
        "    for k2, v2 in B:\n",
        "        key = k1 * k2\n",
        "        if key in res:\n",
        "            res[key].append(min(v1, v2))\n",
        "        else:\n",
        "            res[key] = [min(v1, v2)]\n",
        "\n",
        "print(res)"
      ],
      "execution_count": 9,
      "outputs": [
        {
          "output_type": "stream",
          "text": [
            "{10: [0.3], 11: [0.3], 12: [0.3], 20: [0.5], 22: [0.6], 24: [0.5], 30: [0.5], 33: [1], 36: [0.5], 40: [0.5], 44: [0.7], 48: [0.5], 50: [0.2], 55: [0.2], 60: [0.2]}\n"
          ],
          "name": "stdout"
        }
      ]
    },
    {
      "cell_type": "code",
      "metadata": {
        "colab": {
          "base_uri": "https://localhost:8080/"
        },
        "id": "x7tJlUMekGq9",
        "outputId": "728815c3-6d3b-47ec-924b-b4a40999bba4"
      },
      "source": [
        "for key, value in res.items():\n",
        "    res[key] = max(value)\n",
        "\n",
        "res_arr = [ [k,v] for k, v in res.items() ]\n",
        "print(res_arr)"
      ],
      "execution_count": 10,
      "outputs": [
        {
          "output_type": "stream",
          "text": [
            "[[10, 0.3], [11, 0.3], [12, 0.3], [20, 0.5], [22, 0.6], [24, 0.5], [30, 0.5], [33, 1], [36, 0.5], [40, 0.5], [44, 0.7], [48, 0.5], [50, 0.2], [55, 0.2], [60, 0.2]]\n"
          ],
          "name": "stdout"
        }
      ]
    },
    {
      "cell_type": "code",
      "metadata": {
        "id": "dSfS72MmkHyG"
      },
      "source": [
        ""
      ],
      "execution_count": null,
      "outputs": []
    }
  ]
}