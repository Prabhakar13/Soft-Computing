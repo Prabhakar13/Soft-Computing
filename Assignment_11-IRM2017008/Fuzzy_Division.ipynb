{
  "nbformat": 4,
  "nbformat_minor": 0,
  "metadata": {
    "colab": {
      "name": "Fuzzy_Division.ipynb",
      "provenance": []
    },
    "kernelspec": {
      "name": "python3",
      "display_name": "Python 3"
    },
    "language_info": {
      "name": "python"
    }
  },
  "cells": [
    {
      "cell_type": "code",
      "metadata": {
        "id": "DsRIud9GiDIz"
      },
      "source": [
        "A = [[1, 0.3], [2, 0.6], [3, 1], [4, 0.7], [5, 0.2]]\n",
        "B = [[10, 0.5], [11, 1], [12, 0.5]]"
      ],
      "execution_count": 11,
      "outputs": []
    },
    {
      "cell_type": "code",
      "metadata": {
        "colab": {
          "base_uri": "https://localhost:8080/"
        },
        "id": "Q2lA-7ccjnlv",
        "outputId": "b64464cd-bf38-45d9-9790-dad1546d52d3"
      },
      "source": [
        "res = {}\n",
        "\n",
        "for k1, v1 in A:\n",
        "    for k2, v2 in B:\n",
        "        key = k1 / k2\n",
        "        if key in res:\n",
        "            res[key].append(min(v1, v2))\n",
        "        else:\n",
        "            res[key] = [min(v1, v2)]\n",
        "\n",
        "print(res)"
      ],
      "execution_count": 12,
      "outputs": [
        {
          "output_type": "stream",
          "text": [
            "{0.1: [0.3], 0.09090909090909091: [0.3], 0.08333333333333333: [0.3], 0.2: [0.5], 0.18181818181818182: [0.6], 0.16666666666666666: [0.5], 0.3: [0.5], 0.2727272727272727: [1], 0.25: [0.5], 0.4: [0.5], 0.36363636363636365: [0.7], 0.3333333333333333: [0.5], 0.5: [0.2], 0.45454545454545453: [0.2], 0.4166666666666667: [0.2]}\n"
          ],
          "name": "stdout"
        }
      ]
    },
    {
      "cell_type": "code",
      "metadata": {
        "colab": {
          "base_uri": "https://localhost:8080/"
        },
        "id": "x7tJlUMekGq9",
        "outputId": "b5c67b46-77ec-4a1b-8f08-7c0753680a0a"
      },
      "source": [
        "for key, value in res.items():\n",
        "    res[key] = max(value)\n",
        "\n",
        "res_arr = [ [k,v] for k, v in res.items() ]\n",
        "print(res_arr)"
      ],
      "execution_count": 13,
      "outputs": [
        {
          "output_type": "stream",
          "text": [
            "[[0.1, 0.3], [0.09090909090909091, 0.3], [0.08333333333333333, 0.3], [0.2, 0.5], [0.18181818181818182, 0.6], [0.16666666666666666, 0.5], [0.3, 0.5], [0.2727272727272727, 1], [0.25, 0.5], [0.4, 0.5], [0.36363636363636365, 0.7], [0.3333333333333333, 0.5], [0.5, 0.2], [0.45454545454545453, 0.2], [0.4166666666666667, 0.2]]\n"
          ],
          "name": "stdout"
        }
      ]
    },
    {
      "cell_type": "code",
      "metadata": {
        "id": "dSfS72MmkHyG"
      },
      "source": [
        ""
      ],
      "execution_count": null,
      "outputs": []
    }
  ]
}