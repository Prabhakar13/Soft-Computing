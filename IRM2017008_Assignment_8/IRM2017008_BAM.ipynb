{
  "nbformat": 4,
  "nbformat_minor": 0,
  "metadata": {
    "colab": {
      "name": "IRM2017008_BAM.ipynb",
      "provenance": []
    },
    "kernelspec": {
      "name": "python3",
      "display_name": "Python 3"
    },
    "language_info": {
      "name": "python"
    }
  },
  "cells": [
    {
      "cell_type": "markdown",
      "metadata": {
        "id": "Px0ViTRRDWm_"
      },
      "source": [
        "# **Name - PRABHAKAR KUMAR**\n",
        "# **Roll - IRM2017008**\n",
        "# **Assignment 8 - Bidirectional Associative Memory**"
      ]
    },
    {
      "cell_type": "code",
      "metadata": {
        "id": "3W7u7H7nGB2J"
      },
      "source": [
        "import numpy as np\n",
        "import pandas as pd\n",
        "import matplotlib as plt"
      ],
      "execution_count": 1,
      "outputs": []
    },
    {
      "cell_type": "markdown",
      "metadata": {
        "id": "h8t1RgBwHo-5"
      },
      "source": [
        "# **Preparing the Given Data for BAM**"
      ]
    },
    {
      "cell_type": "code",
      "metadata": {
        "id": "6DKoBGphDo8Q"
      },
      "source": [
        "A = [[1,1,1,1,1,1],[-1,-1,-1,-1,-1,-1],[1,-1,-1,1,1,1],[1,1,-1,-1,-1,-1]]\n",
        "A = np.asarray(A)"
      ],
      "execution_count": 2,
      "outputs": []
    },
    {
      "cell_type": "code",
      "metadata": {
        "colab": {
          "base_uri": "https://localhost:8080/"
        },
        "id": "e--bGy0aDtkw",
        "outputId": "7b7268f1-3d35-497f-dbfb-7e94485c36cc"
      },
      "source": [
        "print(A)"
      ],
      "execution_count": 3,
      "outputs": [
        {
          "output_type": "stream",
          "text": [
            "[[ 1  1  1  1  1  1]\n",
            " [-1 -1 -1 -1 -1 -1]\n",
            " [ 1 -1 -1  1  1  1]\n",
            " [ 1  1 -1 -1 -1 -1]]\n"
          ],
          "name": "stdout"
        }
      ]
    },
    {
      "cell_type": "code",
      "metadata": {
        "id": "zabx0ltPDunM"
      },
      "source": [
        "B = [[1,1,1],[-1,-1,-1],[-1,1,1],[1,-1,1]]\n",
        "B = np.asarray(B)"
      ],
      "execution_count": 4,
      "outputs": []
    },
    {
      "cell_type": "code",
      "metadata": {
        "colab": {
          "base_uri": "https://localhost:8080/"
        },
        "id": "yu6Ew9wDDwGr",
        "outputId": "e741587b-22f0-4e77-f551-822f6a129f1c"
      },
      "source": [
        "print(B)"
      ],
      "execution_count": 5,
      "outputs": [
        {
          "output_type": "stream",
          "text": [
            "[[ 1  1  1]\n",
            " [-1 -1 -1]\n",
            " [-1  1  1]\n",
            " [ 1 -1  1]]\n"
          ],
          "name": "stdout"
        }
      ]
    },
    {
      "cell_type": "code",
      "metadata": {
        "id": "2Z87LE2IDxMt"
      },
      "source": [
        "W = np.zeros((A[0].shape[0],B[0].shape[0]))"
      ],
      "execution_count": 6,
      "outputs": []
    },
    {
      "cell_type": "code",
      "metadata": {
        "colab": {
          "base_uri": "https://localhost:8080/"
        },
        "id": "9uYrLMECD2jF",
        "outputId": "b24875bc-c36a-4a1b-b02d-6fb5abd3fd0b"
      },
      "source": [
        "print(W)"
      ],
      "execution_count": 7,
      "outputs": [
        {
          "output_type": "stream",
          "text": [
            "[[0. 0. 0.]\n",
            " [0. 0. 0.]\n",
            " [0. 0. 0.]\n",
            " [0. 0. 0.]\n",
            " [0. 0. 0.]\n",
            " [0. 0. 0.]]\n"
          ],
          "name": "stdout"
        }
      ]
    },
    {
      "cell_type": "code",
      "metadata": {
        "id": "yiFTsMC_D32l"
      },
      "source": [
        "for i in range(A.shape[0]):\n",
        "    X = A[i].reshape(A[i].shape[0],1)\n",
        "    Y = B[i].reshape(B[i].shape[0],1)\n",
        "    W += np.matmul(X,Y.T)"
      ],
      "execution_count": 8,
      "outputs": []
    },
    {
      "cell_type": "code",
      "metadata": {
        "colab": {
          "base_uri": "https://localhost:8080/"
        },
        "id": "LTbMj1AfEAm3",
        "outputId": "083ffab1-76de-45bd-ee75-76a5e29f4813"
      },
      "source": [
        "print(W)"
      ],
      "execution_count": 9,
      "outputs": [
        {
          "output_type": "stream",
          "text": [
            "[[2. 2. 4.]\n",
            " [4. 0. 2.]\n",
            " [2. 2. 0.]\n",
            " [0. 4. 2.]\n",
            " [0. 4. 2.]\n",
            " [0. 4. 2.]]\n"
          ],
          "name": "stdout"
        }
      ]
    },
    {
      "cell_type": "markdown",
      "metadata": {
        "id": "2TnRoWzqHh90"
      },
      "source": [
        "# **Validation of the Weight Matrix**"
      ]
    },
    {
      "cell_type": "code",
      "metadata": {
        "colab": {
          "base_uri": "https://localhost:8080/"
        },
        "id": "mpTkVZYiEBwL",
        "outputId": "29ddff30-6bf9-4224-dd58-89ab04f6d57c"
      },
      "source": [
        "count = 2*(A.shape[0])\n",
        "\n",
        "for i in range(A.shape[0]):\n",
        "    X = A[i].reshape(A[i].shape[0],1)\n",
        "    Y = B[i].reshape(B[i].shape[0],1)\n",
        "    \n",
        "    Y_pred = np.matmul(W.T,X)\n",
        "    Y_pred = Y_pred.reshape(Y_pred.shape[0],)\n",
        "    for j in range(Y_pred.shape[0]):\n",
        "        if Y_pred[j] < 0:\n",
        "            Y_pred[j] = -1\n",
        "        elif Y_pred[j] >= 0:\n",
        "            Y_pred[j] = 1\n",
        "    Y_pred = Y_pred.reshape(Y_pred.shape[0],1)\n",
        "    \n",
        "    X_pred = np.matmul(W,Y)\n",
        "    X_pred = X_pred.reshape(X_pred.shape[0],)\n",
        "    for j in range(X_pred.shape[0]):\n",
        "        if X_pred[j] <= 0:\n",
        "            X_pred[j] = -1\n",
        "        elif X_pred[j] > 0:\n",
        "            X_pred[j] = 1\n",
        "    X_pred = X_pred.reshape(X_pred.shape[0],1)\n",
        "    \n",
        "    if (Y_pred==Y).all():\n",
        "        count -=1\n",
        "    else:\n",
        "        print(\"X\"+str(i+1)+\" fails to recall Y\"+str(i+1))\n",
        "        break\n",
        "    \n",
        "    if (X_pred==X).all():\n",
        "        count -=1\n",
        "    else:\n",
        "        print(\"Y\"+str(i+1)+\" fails to recall X\"+str(i+1))\n",
        "        break\n",
        "\n",
        "if count == 0:\n",
        "    print(\"All pairs correctly associated.\\nTesting Result: Successful\")\n",
        "else:\n",
        "    print(\"Testing Result: Failed\")"
      ],
      "execution_count": 11,
      "outputs": [
        {
          "output_type": "stream",
          "text": [
            "All pairs correctly associated.\n",
            "Testing Result: Successful\n"
          ],
          "name": "stdout"
        }
      ]
    },
    {
      "cell_type": "code",
      "metadata": {
        "colab": {
          "base_uri": "https://localhost:8080/"
        },
        "id": "Ua4o7uvtGY5W",
        "outputId": "84627b03-ec26-4280-c153-1239369f309f"
      },
      "source": [
        "print(\"Weight Matrix Mapping X's to Y's : \")\n",
        "print(W)"
      ],
      "execution_count": 12,
      "outputs": [
        {
          "output_type": "stream",
          "text": [
            "Weight Matrix Mapping X's to Y's : \n",
            "[[2. 2. 4.]\n",
            " [4. 0. 2.]\n",
            " [2. 2. 0.]\n",
            " [0. 4. 2.]\n",
            " [0. 4. 2.]\n",
            " [0. 4. 2.]]\n"
          ],
          "name": "stdout"
        }
      ]
    },
    {
      "cell_type": "markdown",
      "metadata": {
        "id": "LLQrBjuDHb3a"
      },
      "source": [
        "# **Example of Weight Correction by BAM**"
      ]
    },
    {
      "cell_type": "code",
      "metadata": {
        "id": "wMpyWem8GzkG"
      },
      "source": [
        "# corrupted version of X1 (changing 1st bit)\n",
        "givenX = [-1,1,1,1,1,1]\n",
        "givenX = np.asarray(givenX)"
      ],
      "execution_count": 13,
      "outputs": []
    },
    {
      "cell_type": "code",
      "metadata": {
        "colab": {
          "base_uri": "https://localhost:8080/"
        },
        "id": "-veCqv4tHKqK",
        "outputId": "ca346b6d-c511-487c-d753-859c37381279"
      },
      "source": [
        "oldX = givenX.reshape(givenX.shape[0],1)\n",
        "retrivedX = oldX\n",
        "i = 0\n",
        "\n",
        "while i==0 or (oldX!=retrivedX).any():\n",
        "    oldX = retrivedX\n",
        "    i+=1\n",
        "    tempY = np.matmul(W.T,oldX)\n",
        "    tempY = tempY.reshape(tempY.shape[0],)\n",
        "    for j in range(tempY.shape[0]):\n",
        "        if tempY[j] < 0:\n",
        "            tempY[j] = -1\n",
        "        elif tempY[j] >= 0:\n",
        "            tempY[j] = 1\n",
        "    tempY = tempY.reshape(tempY.shape[0],1)\n",
        "    \n",
        "    retrivedX = np.matmul(W,tempY)\n",
        "    retrivedX = retrivedX.reshape(retrivedX.shape[0],)\n",
        "    for j in range(retrivedX.shape[0]):\n",
        "        if retrivedX[j] <= 0:\n",
        "            retrivedX[j] = -1\n",
        "        elif retrivedX[j] > 0:\n",
        "            retrivedX[j] = 1\n",
        "    retrivedX = retrivedX.reshape(retrivedX.shape[0],1)\n",
        "\n",
        "retrivedX = np.asarray(retrivedX,dtype=int)\n",
        "print(\"Corrupted Pattern\")\n",
        "print(givenX)\n",
        "print(\"Retrived Pattern\")\n",
        "print(retrivedX.reshape(retrivedX.shape[0],))\n",
        "print(\"Iterations taken: \"+str(i))"
      ],
      "execution_count": 14,
      "outputs": [
        {
          "output_type": "stream",
          "text": [
            "Corrupted Pattern\n",
            "[-1  1  1  1  1  1]\n",
            "Retrived Pattern\n",
            "[1 1 1 1 1 1]\n",
            "Iterations taken: 2\n"
          ],
          "name": "stdout"
        }
      ]
    },
    {
      "cell_type": "code",
      "metadata": {
        "id": "rzzfoLMwHTFo"
      },
      "source": [
        ""
      ],
      "execution_count": null,
      "outputs": []
    }
  ]
}