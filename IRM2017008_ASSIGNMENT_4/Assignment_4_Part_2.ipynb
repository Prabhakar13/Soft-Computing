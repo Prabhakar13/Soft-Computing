{
  "nbformat": 4,
  "nbformat_minor": 0,
  "metadata": {
    "colab": {
      "name": "Assignment_4_Part_2.ipynb",
      "provenance": [],
      "collapsed_sections": []
    },
    "kernelspec": {
      "name": "python3",
      "display_name": "Python 3"
    }
  },
  "cells": [
    {
      "cell_type": "markdown",
      "metadata": {
        "id": "nlRoK41XH3vQ"
      },
      "source": [
        "# **Name - Prabhakar Kumar**\r\n",
        "# **Roll - IRM2017008**\r\n",
        "# **Assignment 4 Question 1**"
      ]
    },
    {
      "cell_type": "code",
      "metadata": {
        "id": "bnviouwBBntN"
      },
      "source": [
        "import numpy as np\r\n",
        "import pandas as pd\r\n",
        "import csv"
      ],
      "execution_count": 79,
      "outputs": []
    },
    {
      "cell_type": "markdown",
      "metadata": {
        "id": "-ge_7r4WICFc"
      },
      "source": [
        "# **Loading the Dataset**"
      ]
    },
    {
      "cell_type": "code",
      "metadata": {
        "colab": {
          "base_uri": "https://localhost:8080/"
        },
        "id": "DXTdxmEJBtUr",
        "outputId": "ea41df20-10dc-45a0-9c4b-168c143bf2e9"
      },
      "source": [
        "data = pd.DataFrame(pd.read_csv('Microchip.csv',delimiter=','))\r\n",
        "data.info()"
      ],
      "execution_count": 80,
      "outputs": [
        {
          "output_type": "stream",
          "text": [
            "<class 'pandas.core.frame.DataFrame'>\n",
            "RangeIndex: 118 entries, 0 to 117\n",
            "Data columns (total 3 columns):\n",
            " #   Column  Non-Null Count  Dtype  \n",
            "---  ------  --------------  -----  \n",
            " 0   X1      118 non-null    float64\n",
            " 1   X2      118 non-null    float64\n",
            " 2   Y       118 non-null    int64  \n",
            "dtypes: float64(2), int64(1)\n",
            "memory usage: 2.9 KB\n"
          ],
          "name": "stdout"
        }
      ]
    },
    {
      "cell_type": "code",
      "metadata": {
        "colab": {
          "base_uri": "https://localhost:8080/",
          "height": 204
        },
        "id": "EEAhEiYqB3cR",
        "outputId": "20d0a65e-3065-4993-fce4-68ef79a2e764"
      },
      "source": [
        "data.head()"
      ],
      "execution_count": 81,
      "outputs": [
        {
          "output_type": "execute_result",
          "data": {
            "text/html": [
              "<div>\n",
              "<style scoped>\n",
              "    .dataframe tbody tr th:only-of-type {\n",
              "        vertical-align: middle;\n",
              "    }\n",
              "\n",
              "    .dataframe tbody tr th {\n",
              "        vertical-align: top;\n",
              "    }\n",
              "\n",
              "    .dataframe thead th {\n",
              "        text-align: right;\n",
              "    }\n",
              "</style>\n",
              "<table border=\"1\" class=\"dataframe\">\n",
              "  <thead>\n",
              "    <tr style=\"text-align: right;\">\n",
              "      <th></th>\n",
              "      <th>X1</th>\n",
              "      <th>X2</th>\n",
              "      <th>Y</th>\n",
              "    </tr>\n",
              "  </thead>\n",
              "  <tbody>\n",
              "    <tr>\n",
              "      <th>0</th>\n",
              "      <td>0.051267</td>\n",
              "      <td>0.69956</td>\n",
              "      <td>1</td>\n",
              "    </tr>\n",
              "    <tr>\n",
              "      <th>1</th>\n",
              "      <td>-0.092742</td>\n",
              "      <td>0.68494</td>\n",
              "      <td>1</td>\n",
              "    </tr>\n",
              "    <tr>\n",
              "      <th>2</th>\n",
              "      <td>-0.213710</td>\n",
              "      <td>0.69225</td>\n",
              "      <td>1</td>\n",
              "    </tr>\n",
              "    <tr>\n",
              "      <th>3</th>\n",
              "      <td>-0.375000</td>\n",
              "      <td>0.50219</td>\n",
              "      <td>1</td>\n",
              "    </tr>\n",
              "    <tr>\n",
              "      <th>4</th>\n",
              "      <td>-0.513250</td>\n",
              "      <td>0.46564</td>\n",
              "      <td>1</td>\n",
              "    </tr>\n",
              "  </tbody>\n",
              "</table>\n",
              "</div>"
            ],
            "text/plain": [
              "         X1       X2  Y\n",
              "0  0.051267  0.69956  1\n",
              "1 -0.092742  0.68494  1\n",
              "2 -0.213710  0.69225  1\n",
              "3 -0.375000  0.50219  1\n",
              "4 -0.513250  0.46564  1"
            ]
          },
          "metadata": {
            "tags": []
          },
          "execution_count": 81
        }
      ]
    },
    {
      "cell_type": "code",
      "metadata": {
        "id": "YrhqDmbqB5UV"
      },
      "source": [
        "x = data[['X1','X2']].values\r\n",
        "y = data['Y'].values"
      ],
      "execution_count": 82,
      "outputs": []
    },
    {
      "cell_type": "markdown",
      "metadata": {
        "id": "URiWWgZXIFQd"
      },
      "source": [
        "# **Splitting Dataset into Training and Test data with Feature Engineering**"
      ]
    },
    {
      "cell_type": "code",
      "metadata": {
        "id": "GjT_WRMlB75S"
      },
      "source": [
        "import random\r\n",
        "n=y.shape[0]\r\n",
        "temp_list=[]\r\n",
        "for i in range(n):\r\n",
        "  temp_list.append(i)\r\n",
        "\r\n",
        "\r\n",
        "random.shuffle(temp_list)\r\n",
        "train_limit=int(0.7*n)\r\n",
        "\r\n",
        "temp_X=[]\r\n",
        "temp_Y=[]\r\n",
        "temp_test_X=[]\r\n",
        "temp_test_Y=[]\r\n",
        "for i in range(n):\r\n",
        "  x0=x[temp_list[i]][0]\r\n",
        "  x1=x[temp_list[i]][1]\r\n",
        "  x2=x0*x1\r\n",
        "  x3=(x0**2)*x1\r\n",
        "  x4=x0*(x1**2)\r\n",
        "  if(i<=train_limit):\r\n",
        "    temp_append=x[temp_list[i],:]\r\n",
        "    temp_append=np.append(temp_append,[x2])\r\n",
        "    temp_append=np.append(temp_append,[x3])\r\n",
        "    temp_append=np.append(temp_append,[x4])\r\n",
        "    temp_X.append(temp_append)\r\n",
        "    temp_Y.append(y[temp_list[i]])\r\n",
        "  else:\r\n",
        "    temp_append=x[temp_list[i],:]\r\n",
        "    temp_append=np.append(temp_append,[x2])\r\n",
        "    temp_append=np.append(temp_append,[x3])\r\n",
        "    temp_append=np.append(temp_append,[x4])\r\n",
        "    temp_test_X.append(temp_append)\r\n",
        "    temp_test_Y.append(y[temp_list[i]])\r\n"
      ],
      "execution_count": 83,
      "outputs": []
    },
    {
      "cell_type": "code",
      "metadata": {
        "id": "b_MQRVN7CuhK"
      },
      "source": [
        "X=np.array(temp_X)\r\n",
        "Y=np.array(temp_Y)\r\n",
        "X_test=np.array(temp_test_X)\r\n",
        "Y_test=np.array(temp_test_Y)"
      ],
      "execution_count": 84,
      "outputs": []
    },
    {
      "cell_type": "code",
      "metadata": {
        "colab": {
          "base_uri": "https://localhost:8080/"
        },
        "id": "rT1HEZWeDMTQ",
        "outputId": "672ca9a9-23db-4627-e114-d7293e32b18c"
      },
      "source": [
        "print(X.shape)\r\n",
        "print(X_test.shape)"
      ],
      "execution_count": 85,
      "outputs": [
        {
          "output_type": "stream",
          "text": [
            "(83, 5)\n",
            "(35, 5)\n"
          ],
          "name": "stdout"
        }
      ]
    },
    {
      "cell_type": "code",
      "metadata": {
        "colab": {
          "base_uri": "https://localhost:8080/"
        },
        "id": "ZWdljWaLExnC",
        "outputId": "59576a92-0597-4f33-9941-2b25c64e6dc2"
      },
      "source": [
        "type(X)"
      ],
      "execution_count": 86,
      "outputs": [
        {
          "output_type": "execute_result",
          "data": {
            "text/plain": [
              "numpy.ndarray"
            ]
          },
          "metadata": {
            "tags": []
          },
          "execution_count": 86
        }
      ]
    },
    {
      "cell_type": "markdown",
      "metadata": {
        "id": "BYwOZ_v3IKW1"
      },
      "source": [
        "# **Calculation of Phi Parameter**"
      ]
    },
    {
      "cell_type": "code",
      "metadata": {
        "colab": {
          "base_uri": "https://localhost:8080/"
        },
        "id": "g5kZ-IKEE64S",
        "outputId": "de9a77c8-20bb-41da-fa8d-0b9fef2a9d69"
      },
      "source": [
        "def get_phi():\r\n",
        "  n = Y.shape[0]\r\n",
        "  global count_0\r\n",
        "  global count_1\r\n",
        "  for i in range(n):\r\n",
        "    if(Y[i]==1):\r\n",
        "      count_1+=1\r\n",
        "    else:\r\n",
        "      count_0+=1\r\n",
        "  return count_1/n\r\n",
        "\r\n",
        "count_0=0\r\n",
        "count_1=0\r\n",
        "phi = get_phi()\r\n",
        "print(phi)"
      ],
      "execution_count": 87,
      "outputs": [
        {
          "output_type": "stream",
          "text": [
            "0.42168674698795183\n"
          ],
          "name": "stdout"
        }
      ]
    },
    {
      "cell_type": "markdown",
      "metadata": {
        "id": "qlMKycDYIPk6"
      },
      "source": [
        "# **Mean Parameter for Class 0**"
      ]
    },
    {
      "cell_type": "code",
      "metadata": {
        "colab": {
          "base_uri": "https://localhost:8080/"
        },
        "id": "FlsM_JfqE_1P",
        "outputId": "2b12c50e-c08a-4748-a99b-fcf9b6db8528"
      },
      "source": [
        "def get_mu0():\r\n",
        "  global count_0\r\n",
        "  n=Y.shape[0]\r\n",
        "  sum=np.zeros_like(X[0,:])\r\n",
        "  for i in range(n):\r\n",
        "    if(Y[i]==1):\r\n",
        "      continue\r\n",
        "    sum=sum+X[i,:]\r\n",
        "  print(count_0)\r\n",
        "  print(sum)\r\n",
        "  ret=sum/count_0\r\n",
        "  return ret\r\n",
        "\r\n",
        "mu0 = get_mu0()\r\n",
        "print(mu0)"
      ],
      "execution_count": 88,
      "outputs": [
        {
          "output_type": "stream",
          "text": [
            "48\n",
            "[6.6659516  7.175406   0.67361749 1.75728079 2.37350698]\n",
            "[0.13887399 0.14948763 0.0140337  0.03661002 0.04944806]\n"
          ],
          "name": "stdout"
        }
      ]
    },
    {
      "cell_type": "markdown",
      "metadata": {
        "id": "imm0omogITtO"
      },
      "source": [
        "# **Mean Parameter for Class 1**"
      ]
    },
    {
      "cell_type": "code",
      "metadata": {
        "colab": {
          "base_uri": "https://localhost:8080/"
        },
        "id": "wGCVJjN8FBuk",
        "outputId": "682b830e-b1a2-4d76-877e-c2b49c851be6"
      },
      "source": [
        "def get_mu1():\r\n",
        "  global count_1\r\n",
        "  n=Y.shape[0]\r\n",
        "  sum=np.zeros_like(X[0,:])\r\n",
        "  for i in range(n):\r\n",
        "    if(Y[i]==0):\r\n",
        "      continue\r\n",
        "    sum=sum+X[i,:]\r\n",
        "  print(count_1)\r\n",
        "  print(sum)\r\n",
        "  ret=sum/count_1\r\n",
        "  return ret\r\n",
        "\r\n",
        "mu1 = get_mu1()\r\n",
        "print(mu1)"
      ],
      "execution_count": 89,
      "outputs": [
        {
          "output_type": "stream",
          "text": [
            "35\n",
            "[-0.6710784   6.597191   -1.83845268  0.67455608 -0.17605549]\n",
            "[-0.01917367  0.18849117 -0.05252722  0.01927303 -0.00503016]\n"
          ],
          "name": "stdout"
        }
      ]
    },
    {
      "cell_type": "markdown",
      "metadata": {
        "id": "GsR88ErOIVNj"
      },
      "source": [
        "# **Calculation of Sigma**"
      ]
    },
    {
      "cell_type": "code",
      "metadata": {
        "colab": {
          "base_uri": "https://localhost:8080/"
        },
        "id": "4p_n44U6FDoO",
        "outputId": "4866eab1-b509-42f7-bab2-ae5e71e51ce6"
      },
      "source": [
        "def get_sigma():\r\n",
        "  global mu0\r\n",
        "  global mu1\r\n",
        "  n=Y.shape[0]\r\n",
        "  sum = np.zeros((X.shape[1],X.shape[1]))\r\n",
        "  print(sum)\r\n",
        "  for i in range(n):\r\n",
        "    xi = X[i,:]\r\n",
        "    xi = xi.reshape((-1,1))\r\n",
        "    yi = Y[i]\r\n",
        "    if(yi==0):\r\n",
        "      temp_sum = ((xi-mu0).T)*(xi-mu0)\r\n",
        "    else:\r\n",
        "      temp_sum = ((xi-mu1).T)*(xi-mu1)\r\n",
        "    sum = sum + temp_sum\r\n",
        "  return sum/n\r\n",
        "\r\n",
        "sigma = get_sigma()\r\n",
        "print(sigma)\r\n"
      ],
      "execution_count": 90,
      "outputs": [
        {
          "output_type": "stream",
          "text": [
            "[[0. 0. 0. 0. 0.]\n",
            " [0. 0. 0. 0. 0.]\n",
            " [0. 0. 0. 0. 0.]\n",
            " [0. 0. 0. 0. 0.]\n",
            " [0. 0. 0. 0. 0.]]\n",
            "[[ 0.25249273 -0.04276616  0.01826528 -0.0140105   0.04567975]\n",
            " [-0.04276616  0.28066757 -0.0056693   0.03026058 -0.02910884]\n",
            " [ 0.01826528 -0.0056693   0.05312347  0.0119323   0.01420326]\n",
            " [-0.0140105   0.03026058  0.0119323   0.02092369 -0.00193726]\n",
            " [ 0.04567975 -0.02910884  0.01420326 -0.00193726  0.02163738]]\n"
          ],
          "name": "stdout"
        }
      ]
    },
    {
      "cell_type": "markdown",
      "metadata": {
        "id": "NYK3tBMkIZeO"
      },
      "source": [
        "# **Prediction over Test Data**"
      ]
    },
    {
      "cell_type": "code",
      "metadata": {
        "id": "DndwnHrSFH9p"
      },
      "source": [
        "def get_p_of_x_given_y(x, mu):\r\n",
        "  pi = 3.14\r\n",
        "  dim = mu.shape[0]\r\n",
        "  #exp(-0.5*(x-mu)'*inv(sigma)*(x-mu))\r\n",
        "  temp1=np.exp(-0.5*((x-mu).T)*np.linalg.inv(sigma)*(x-mu))\r\n",
        "  #np.linalg.det(a)\r\n",
        "  temp2=(1/(2*pi)**(dim/2))*np.sqrt(np.linalg.det(sigma))\r\n",
        "  ret=temp1*temp2\r\n",
        "  return ret[0]"
      ],
      "execution_count": 91,
      "outputs": []
    },
    {
      "cell_type": "code",
      "metadata": {
        "colab": {
          "base_uri": "https://localhost:8080/"
        },
        "id": "tNd0mk9lFN6r",
        "outputId": "d21523ec-16cf-4ae3-93c5-cc65dd6d90ce"
      },
      "source": [
        "def get_post_prob(y):\r\n",
        "  global phi\r\n",
        "  return (phi**y)*((1-phi)**(1-y))\r\n",
        "\r\n",
        "n=Y_test.shape[0]\r\n",
        "\r\n",
        "tp=0\r\n",
        "tn=0\r\n",
        "fp=0\r\n",
        "fn=0\r\n",
        "\r\n",
        "print(\"Total = \",n)\r\n",
        "for index in range(n):\r\n",
        "  temp_prob=get_post_prob(Y_test[index])\r\n",
        "  p0=get_p_of_x_given_y(X_test[index,:],mu0)\r\n",
        "  p1=get_p_of_x_given_y(X_test[index,:],mu1)\r\n",
        "\r\n",
        "  prob0 = p0[0]*temp_prob\r\n",
        "  prob1 = p1[0]*temp_prob\r\n",
        "  ans=1\r\n",
        "  if(prob0>prob1):\r\n",
        "    ans=0\r\n",
        "  else:\r\n",
        "    ans=1\r\n",
        "  if(ans==Y_test[index]):\r\n",
        "    if(ans==1):\r\n",
        "      tp+=1\r\n",
        "    else:\r\n",
        "      tn+=1\r\n",
        "  else:\r\n",
        "    if(Y_test[index]==1):\r\n",
        "      fn+=1\r\n",
        "    else:\r\n",
        "      fp+=1"
      ],
      "execution_count": 92,
      "outputs": [
        {
          "output_type": "stream",
          "text": [
            "Total =  35\n"
          ],
          "name": "stdout"
        }
      ]
    },
    {
      "cell_type": "markdown",
      "metadata": {
        "id": "vJCrJ4P5Ic6H"
      },
      "source": [
        "# **Model Accuracy Analysis**"
      ]
    },
    {
      "cell_type": "code",
      "metadata": {
        "colab": {
          "base_uri": "https://localhost:8080/"
        },
        "id": "fayw0bqtFOpE",
        "outputId": "dc783dc3-6092-4df4-dcd8-bddb622cd470"
      },
      "source": [
        "print(\"True Positive = \",tp)\r\n",
        "print(\"True Negative = \",tn)\r\n",
        "print(\"False Positive = \",fp)\r\n",
        "print(\"False Negative = \",fn)"
      ],
      "execution_count": 93,
      "outputs": [
        {
          "output_type": "stream",
          "text": [
            "True Positive =  12\n",
            "True Negative =  5\n",
            "False Positive =  7\n",
            "False Negative =  11\n"
          ],
          "name": "stdout"
        }
      ]
    },
    {
      "cell_type": "code",
      "metadata": {
        "colab": {
          "base_uri": "https://localhost:8080/"
        },
        "id": "waZN1Tq7HI3i",
        "outputId": "462b90bc-2ad8-44c9-93f6-79b55045792d"
      },
      "source": [
        "accuracy = (tp+tn)/(tp+tn+fp+fn)\r\n",
        "sensitivity = tp/(tp+fn)\r\n",
        "precision = tp/(tp+fp)\r\n",
        "specificity = tn/(tn+fp)\r\n",
        "\r\n",
        "print(\"accuracy = \",accuracy)\r\n",
        "print(\"sensitivity = \",sensitivity)\r\n",
        "print(\"precision = \",precision)\r\n",
        "print(\"specificity = \",specificity)"
      ],
      "execution_count": 94,
      "outputs": [
        {
          "output_type": "stream",
          "text": [
            "accuracy =  0.4857142857142857\n",
            "sensitivity =  0.5217391304347826\n",
            "precision =  0.631578947368421\n",
            "specificity =  0.4166666666666667\n"
          ],
          "name": "stdout"
        }
      ]
    },
    {
      "cell_type": "code",
      "metadata": {
        "id": "EQZZWfuKH1I7"
      },
      "source": [
        ""
      ],
      "execution_count": null,
      "outputs": []
    }
  ]
}