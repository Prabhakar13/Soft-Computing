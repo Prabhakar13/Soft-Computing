{
  "nbformat": 4,
  "nbformat_minor": 0,
  "metadata": {
    "kernelspec": {
      "display_name": "Python 3.8.1 64-bit ('mainenv': venv)",
      "language": "python",
      "name": "python38164bitmainenvvenv6a1fc0f210ea4cbbb68fb8cb1636c504"
    },
    "language_info": {
      "codemirror_mode": {
        "name": "ipython",
        "version": 3
      },
      "file_extension": ".py",
      "mimetype": "text/x-python",
      "name": "python",
      "nbconvert_exporter": "python",
      "pygments_lexer": "ipython3",
      "version": "3.8.2"
    },
    "colab": {
      "name": "3_Input_AND.ipynb",
      "provenance": []
    }
  },
  "cells": [
    {
      "cell_type": "markdown",
      "metadata": {
        "id": "qGmyDL4OXgFx"
      },
      "source": [
        "# **Name - PRABHAKAR KUMAR**\n",
        "# **Roll - IRM2017008**\n",
        "# **3 Input AND Gate using Prceptron**\n",
        "\n",
        "Note - The number of Epochs is high and the perceptron takes few minutes to train to give a perfect accuracy.\n"
      ]
    },
    {
      "cell_type": "code",
      "metadata": {
        "id": "UaiVTr8YXgGB"
      },
      "source": [
        "import numpy as np\n",
        "from matplotlib import pyplot as plt"
      ],
      "execution_count": 6,
      "outputs": []
    },
    {
      "cell_type": "markdown",
      "metadata": {
        "id": "BFVGxf2sXgGC"
      },
      "source": [
        "### Data for AND Logic\n",
        "> First two columns are inputs and third is the desired output."
      ]
    },
    {
      "cell_type": "code",
      "metadata": {
        "colab": {
          "base_uri": "https://localhost:8080/"
        },
        "id": "H5eqw0pPXgGD",
        "outputId": "f6668e64-2383-462f-d936-446f94242d22"
      },
      "source": [
        "dataset = [[0,0,0,0],[0,0,1,0],[0,1,0,0],[0,1,1,0],[1,0,0,0],[1,0,1,0],[1,1,0,0],[1,1,1,1]]\n",
        "dataset = np.asarray(dataset)\n",
        "print(dataset)"
      ],
      "execution_count": 7,
      "outputs": [
        {
          "output_type": "stream",
          "text": [
            "[[0 0 0 0]\n",
            " [0 0 1 0]\n",
            " [0 1 0 0]\n",
            " [0 1 1 0]\n",
            " [1 0 0 0]\n",
            " [1 0 1 0]\n",
            " [1 1 0 0]\n",
            " [1 1 1 1]]\n"
          ],
          "name": "stdout"
        }
      ]
    },
    {
      "cell_type": "markdown",
      "metadata": {
        "id": "hwfHjS0IXgGF"
      },
      "source": [
        "### Making input vectors and initializing weight vector (W), threshold (theta) and learning rate (alpha)."
      ]
    },
    {
      "cell_type": "code",
      "metadata": {
        "colab": {
          "base_uri": "https://localhost:8080/"
        },
        "id": "snNMeThGXgGF",
        "outputId": "64aa0c5a-ef54-4d77-fbb7-3aa3c08a5802"
      },
      "source": [
        "X1 = dataset[:,0]\n",
        "X2 = dataset[:,1]\n",
        "X3 = dataset[:,2]\n",
        "Yd = dataset[:,3]\n",
        "W = np.random.rand(3,)\n",
        "theta = 0.5\n",
        "alpha = 0.1\n",
        "print(W)"
      ],
      "execution_count": 17,
      "outputs": [
        {
          "output_type": "stream",
          "text": [
            "[0.11097166 0.82912895 0.47723167]\n"
          ],
          "name": "stdout"
        }
      ]
    },
    {
      "cell_type": "markdown",
      "metadata": {
        "id": "60JrOj50XgGG"
      },
      "source": [
        "### Training"
      ]
    },
    {
      "cell_type": "code",
      "metadata": {
        "colab": {
          "base_uri": "https://localhost:8080/"
        },
        "id": "sEulOHZTXgGH",
        "outputId": "5c53a606-237c-4b5e-eee4-df215ab382a6"
      },
      "source": [
        "epoch_count = 10000000\n",
        "epoch_iter = 0\n",
        "change = True\n",
        "while epoch_iter < epoch_count:\n",
        "    change = False\n",
        "    for i in range(Yd.shape[0]):\n",
        "        y = (X1[i]*W[0]) + (X2[i]*W[1]) + (X3[i]*W[2]) - theta\n",
        "        if y >= 0:\n",
        "            y = 1\n",
        "        else:\n",
        "            y = 0\n",
        "        error = Yd[i] - y\n",
        "        delta =[alpha*X1[i]*error,alpha*X2[i]*error,alpha*X3[i]*error]\n",
        "        delta = np.asarray(delta)\n",
        "        newW = W + delta\n",
        "        if not (newW == W).all():\n",
        "            W = newW\n",
        "        epoch_iter += 1\n",
        "\n",
        "print(\"Final Weight Vector \" + str(W))"
      ],
      "execution_count": 18,
      "outputs": [
        {
          "output_type": "stream",
          "text": [
            "Final Weight Vector [0.11097166 0.22912895 0.17723167]\n"
          ],
          "name": "stdout"
        }
      ]
    },
    {
      "cell_type": "markdown",
      "metadata": {
        "id": "ZPw6_ux4XgGJ"
      },
      "source": [
        "### Predicting the Values and Model Accuracy"
      ]
    },
    {
      "cell_type": "code",
      "metadata": {
        "id": "6NP7m1G_bCOt"
      },
      "source": [
        "def predict(x1,x2,x3):\n",
        "  y = (x1*W[0]) + (x2*W[1]) + (x3*W[2]) - theta\n",
        "  if y>=0 :\n",
        "     y = 1\n",
        "  else:\n",
        "     y = 0\n",
        "  return y"
      ],
      "execution_count": 19,
      "outputs": []
    },
    {
      "cell_type": "code",
      "metadata": {
        "colab": {
          "base_uri": "https://localhost:8080/"
        },
        "id": "xv8V-IgtbQGP",
        "outputId": "f31445b4-369a-4243-c68d-59f3aad509f5"
      },
      "source": [
        "correct = 0\n",
        "total = 0\n",
        "for i in range(len(X1)):\n",
        "  Y_pred=predict(X1[i],X2[i],X3[i])\n",
        "  print(\"Actual - \",X1[i],\" \",X2[i],\" \",X3[i],\" \",Yd[i])\n",
        "  print(\"Predicted - \",X1[i],\" \",X2[i],\" \",X3[i],\" \",Y_pred)\n",
        "  total += 1\n",
        "  if(Yd[i]==Y_pred):\n",
        "     correct += 1\n",
        "\n",
        "print(\"Accuracy = \",(correct/total))"
      ],
      "execution_count": 20,
      "outputs": [
        {
          "output_type": "stream",
          "text": [
            "Actual -  0   0   0   0\n",
            "Predicted -  0   0   0   0\n",
            "Actual -  0   0   1   0\n",
            "Predicted -  0   0   1   0\n",
            "Actual -  0   1   0   0\n",
            "Predicted -  0   1   0   0\n",
            "Actual -  0   1   1   0\n",
            "Predicted -  0   1   1   0\n",
            "Actual -  1   0   0   0\n",
            "Predicted -  1   0   0   0\n",
            "Actual -  1   0   1   0\n",
            "Predicted -  1   0   1   0\n",
            "Actual -  1   1   0   0\n",
            "Predicted -  1   1   0   0\n",
            "Actual -  1   1   1   1\n",
            "Predicted -  1   1   1   1\n",
            "Accuracy =  1.0\n"
          ],
          "name": "stdout"
        }
      ]
    }
  ]
}