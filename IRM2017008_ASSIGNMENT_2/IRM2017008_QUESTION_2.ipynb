{
  "nbformat": 4,
  "nbformat_minor": 0,
  "metadata": {
    "colab": {
      "name": "QUESTION_2.ipynb",
      "provenance": [],
      "collapsed_sections": []
    },
    "kernelspec": {
      "name": "python3",
      "display_name": "Python 3"
    }
  },
  "cells": [
    {
      "cell_type": "markdown",
      "metadata": {
        "id": "3a-ALmA-zSTp"
      },
      "source": [
        "# **Name - PRABHAKAR KUMAR**\r\n",
        "# **Roll - IRM2017008**\r\n",
        "# **Assignment 2 - Question 2**\r\n",
        "\r\n",
        "\r\n"
      ]
    },
    {
      "cell_type": "code",
      "metadata": {
        "id": "UYQhZHkZtx0J",
        "colab": {
          "base_uri": "https://localhost:8080/"
        },
        "outputId": "f9f8ec86-abc6-4efb-b487-5b2a50c0b1fb"
      },
      "source": [
        "import csv\r\n",
        "import numpy as np\r\n",
        "import matplotlib.pyplot as plt\r\n",
        "\r\n",
        "daily_cases=[]\r\n",
        "daily_death=[]\r\n",
        "with open('/content/India_Corona_Data') as csv_file:\r\n",
        "    csv_reader = csv.reader(csv_file, delimiter=',')\r\n",
        "    line_count = 0\r\n",
        "    for row in csv_reader:\r\n",
        "        if line_count == 0:\r\n",
        "            line_count += 1\r\n",
        "        else:\r\n",
        "            daily_cases.append(int(row[0]))\r\n",
        "            daily_death.append(int(row[1]))\r\n",
        "            line_count += 1\r\n",
        "\r\n",
        "print(daily_cases)"
      ],
      "execution_count": 12,
      "outputs": [
        {
          "output_type": "stream",
          "text": [
            "[0, 0, 0, 0, 0, 0, 0, 0, 0, 0, 0, 0, 0, 0, 0, 0, 3, 1, 22, 1, 1, 3, 6, 7, 15, 0, 12, 8, 18, 14, 15, 14, 26, 25, 55, 83, 64, 103, 37, 121, 70, 160, 100, 37, 227, 146, 601, 545, 516, 529, 701, 489, 573, 565, 809, 875, 846, 759, 1248, 1034, 883, 1060, 922, 2013, 1250, 924, 1541, 1290, 1669, 1408, 1836, 1607, 1561, 1873, 1738, 1801, 2394, 2442, 2806, 3932, 2963, 3587, 3364, 3344, 3113, 4353, 3607, 3524, 3763, 3942, 3787, 4864, 5050, 4630, 6147, 5553, 6198, 6568, 6629, 7113, 6414, 5843, 7293, 7300, 8105, 8336, 8782, 7761, 8821, 9633, 9889, 9471, 10438, 10864, 8442, 8852, 12375, 11128, 11320, 12023, 11157, 10243, 11135, 13103, 13827, 14721, 15915, 15183, 13540, 15665, 16870, 18185, 18276, 20131, 19620, 18339, 18256, 19428, 21948, 22721, 24015, 23932, 22510, 23135, 25571, 25790, 27761, 27755, 29108, 28179, 29842, 32682, 35468, 34820, 37407, 40243, 36810, 39168, 45599, 48446, 48892, 48472, 50525, 46484, 49632, 52249, 54966, 57704, 54865, 52783, 50629, 51282, 56626, 62170, 61455, 65156, 62117, 53016, 61252, 67066, 64142, 65609, 63986, 58108, 54288, 65022, 69196, 68507, 69039, 70068, 61749, 59696, 66873, 75995, 76826, 76665, 78472, 79457, 68770, 78169, 82860, 84156, 87115, 90600, 91723, 75022, 89852, 95529, 96760, 97654, 94409, 93215, 81911, 91120, 97859, 96793, 92789, 92755, 87382, 74493, 80391, 89688, 85919, 85468, 89010, 82767, 69671, 80500, 86748, 81693, 79974, 75479, 74767, 59893, 72106, 78809, 70824, 73196, 74535, 67757, 54265, 63517, 67988, 60439, 65126, 62092, 55511, 46498, 54422, 56000, 54482, 54028, 50224, 45158, 36838, 42965, 49912, 49281, 48120, 46715, 46441, 37592, 46033, 50465, 47622, 49851, 46318, 46661, 37211, 44679, 48285, 43861, 45343, 41659, 30715, 28555, 38532, 45439, 46182, 46288, 45295, 44404, 37410, 44276, 44699, 43174, 41353, 41815, 39036, 31179, 36456, 33761, 38309, 36638, 36111, 32272, 27107, 32067, 26351, 34666, 30034, 30354, 27336, 21791, 26401, 18164, 26762, 26991, 26834, 24589, 19174, 23886, 24236, 23924, 22350, 18574, 20333, 16072, 20529, 21957, 19046, 17080, 21222, 16660, 16278, 17909, 20460, 18106, 18482, 18820, 16085, 12482, 15903, 17015, 15677, 15151, 15051, 13962, 9975, 13795, 15277, 14481, 14344, 14891, 13239, 9036, 12569, 11752, 18940, 13055, 13065, 11528, 8587, 11000, 12917, 12410, 11689, 11948, 11673, 8947, 10510, 12760, 9353, 12137, 12188, 11434, 9139, 11795, 12440, 12643, 14587, 14315]\n"
          ],
          "name": "stdout"
        }
      ]
    },
    {
      "cell_type": "code",
      "metadata": {
        "colab": {
          "base_uri": "https://localhost:8080/"
        },
        "id": "S8Ns2yNPuePz",
        "outputId": "57671af3-c16a-4b99-a6d1-37b49880a11f"
      },
      "source": [
        "X=np.array(daily_cases[-60:])\r\n",
        "Y=np.array(daily_death[-60:])\r\n",
        "\r\n",
        "print(X)"
      ],
      "execution_count": 16,
      "outputs": [
        {
          "output_type": "stream",
          "text": [
            "[24236 23924 22350 18574 20333 16072 20529 21957 19046 17080 21222 16660\n",
            " 16278 17909 20460 18106 18482 18820 16085 12482 15903 17015 15677 15151\n",
            " 15051 13962  9975 13795 15277 14481 14344 14891 13239  9036 12569 11752\n",
            " 18940 13055 13065 11528  8587 11000 12917 12410 11689 11948 11673  8947\n",
            " 10510 12760  9353 12137 12188 11434  9139 11795 12440 12643 14587 14315]\n"
          ],
          "name": "stdout"
        }
      ]
    },
    {
      "cell_type": "code",
      "metadata": {
        "colab": {
          "base_uri": "https://localhost:8080/",
          "height": 282
        },
        "id": "-SPfBbq-vNmb",
        "outputId": "2e45d2c2-6c8f-49ab-b164-151030620b8e"
      },
      "source": [
        "plt.scatter(X,Y)"
      ],
      "execution_count": 17,
      "outputs": [
        {
          "output_type": "execute_result",
          "data": {
            "text/plain": [
              "<matplotlib.collections.PathCollection at 0x7f09ccb49588>"
            ]
          },
          "metadata": {
            "tags": []
          },
          "execution_count": 17
        },
        {
          "output_type": "display_data",
          "data": {
            "image/png": "[encoded data removed]",
            "text/plain": [
              "<Figure size 432x288 with 1 Axes>"
            ]
          },
          "metadata": {
            "tags": [],
            "needs_background": "light"
          }
        }
      ]
    },
    {
      "cell_type": "code",
      "metadata": {
        "id": "gnsKc5qovivG"
      },
      "source": [
        "n=len(X)\r\n",
        "X_bias=np.ones((n,1))"
      ],
      "execution_count": 18,
      "outputs": []
    },
    {
      "cell_type": "code",
      "metadata": {
        "colab": {
          "base_uri": "https://localhost:8080/"
        },
        "id": "98v_oNz_wjrY",
        "outputId": "ff4c4a42-2e59-4fb8-f529-981c81f9d013"
      },
      "source": [
        "print(X_bias.shape)"
      ],
      "execution_count": 19,
      "outputs": [
        {
          "output_type": "stream",
          "text": [
            "(60, 1)\n"
          ],
          "name": "stdout"
        }
      ]
    },
    {
      "cell_type": "code",
      "metadata": {
        "colab": {
          "base_uri": "https://localhost:8080/"
        },
        "id": "3vpGeA32wnv1",
        "outputId": "f8c184e8-1d16-473b-f73c-efda7182176f"
      },
      "source": [
        "X_new=np.reshape(X,X_bias.shape)\r\n",
        "print(X_new.shape)"
      ],
      "execution_count": 20,
      "outputs": [
        {
          "output_type": "stream",
          "text": [
            "(60, 1)\n"
          ],
          "name": "stdout"
        }
      ]
    },
    {
      "cell_type": "code",
      "metadata": {
        "id": "E5xlCXcxw2AQ"
      },
      "source": [
        "X_new=np.append(X_bias,X_new,axis=1)\r\n",
        "X_new_transpose=np.transpose(X_new)"
      ],
      "execution_count": 22,
      "outputs": []
    },
    {
      "cell_type": "code",
      "metadata": {
        "colab": {
          "base_uri": "https://localhost:8080/"
        },
        "id": "JYKqk6lBw9MM",
        "outputId": "48bcb1e2-d775-4523-a111-5417f376eaa0"
      },
      "source": [
        "X_new_transpose_dot_X_new=X_new_transpose.dot(X_new)\r\n",
        "temp1=np.linalg.pinv(X_new_transpose_dot_X_new)\r\n",
        "print(temp1)"
      ],
      "execution_count": 24,
      "outputs": [
        {
          "output_type": "stream",
          "text": [
            "[[ 6.63104105e-02  6.63104105e-02 -8.36217921e-06]\n",
            " [ 6.63104105e-02  6.63104105e-02 -8.36217921e-06]\n",
            " [-8.36217921e-06 -8.36217921e-06  1.12523058e-09]]\n"
          ],
          "name": "stdout"
        }
      ]
    },
    {
      "cell_type": "code",
      "metadata": {
        "id": "s5mvvsELxTzV"
      },
      "source": [
        "temp2=X_new_transpose.dot(Y)"
      ],
      "execution_count": 27,
      "outputs": []
    },
    {
      "cell_type": "code",
      "metadata": {
        "id": "hDpSVbDZxnhc"
      },
      "source": [
        "theta=temp1.dot(temp2)"
      ],
      "execution_count": 28,
      "outputs": []
    },
    {
      "cell_type": "code",
      "metadata": {
        "colab": {
          "base_uri": "https://localhost:8080/"
        },
        "id": "_KzdEP5Txut0",
        "outputId": "db90b9aa-60f5-48fe-ac53-ed36e296cd6c"
      },
      "source": [
        "Intercept=theta[0]\r\n",
        "Slope=theta[1]\r\n",
        "print(\"Intercept - \",Intercept)\r\n",
        "print(\"Slope - \",Slope)"
      ],
      "execution_count": 29,
      "outputs": [
        {
          "output_type": "stream",
          "text": [
            "Intercept -  -40.07228951169019\n",
            "Slope -  -40.07228951250608\n"
          ],
          "name": "stdout"
        }
      ]
    },
    {
      "cell_type": "code",
      "metadata": {
        "colab": {
          "base_uri": "https://localhost:8080/",
          "height": 293
        },
        "id": "l2W6Ft4ox4aN",
        "outputId": "e87c1e96-78b7-40b9-fdc5-b5d792acb85b"
      },
      "source": [
        "plt.scatter(X,Y)\r\n",
        "plt.plot(X,Slope*X+Intercept,color=\"red\")"
      ],
      "execution_count": 30,
      "outputs": [
        {
          "output_type": "execute_result",
          "data": {
            "text/plain": [
              "[<matplotlib.lines.Line2D at 0x7f09ccbe6630>]"
            ]
          },
          "metadata": {
            "tags": []
          },
          "execution_count": 30
        },
        {
          "output_type": "display_data",
          "data": {
            "image/png": "[encoded data removed]",
            "text/plain": [
              "<Figure size 432x288 with 1 Axes>"
            ]
          },
          "metadata": {
            "tags": [],
            "needs_background": "light"
          }
        }
      ]
    },
    {
      "cell_type": "code",
      "metadata": {
        "colab": {
          "base_uri": "https://localhost:8080/"
        },
        "id": "h_cqitp5yAWb",
        "outputId": "adb565fd-1f79-4344-a6c3-17c56be88093"
      },
      "source": [
        "mean_x = np.mean(X)\r\n",
        "mean_y = np.mean(Y)\r\n",
        "\r\n",
        "print(mean_x,\" \",mean_y)\r\n",
        " \r\n",
        "n = len(X)"
      ],
      "execution_count": 32,
      "outputs": [
        {
          "output_type": "stream",
          "text": [
            "14863.05   164.38333333333333\n"
          ],
          "name": "stdout"
        }
      ]
    },
    {
      "cell_type": "code",
      "metadata": {
        "colab": {
          "base_uri": "https://localhost:8080/"
        },
        "id": "mORpnhKSy0X9",
        "outputId": "25e33001-a415-4a55-b8df-2324d76b8aad"
      },
      "source": [
        "num=0\r\n",
        "den=0\r\n",
        "for i in range(n):\r\n",
        "  a=(X[i]-mean_x)*(Y[i]-mean_y)\r\n",
        "  b=(X[i]-mean_x)**2\r\n",
        "  num+=(X[i]-mean_x)*(Y[i]-mean_y)\r\n",
        "  den+=(X[i]-mean_x)**2\r\n",
        "  print(a,\" \",b)\r\n",
        "print(num,\" - \",den)\r\n",
        "m=num/den\r\n",
        "c=mean_y-(m*mean_x)\r\n",
        " \r\n",
        "print(\"Coefficients\")\r\n",
        "print(m, c)"
      ],
      "execution_count": 33,
      "outputs": [
        {
          "output_type": "stream",
          "text": [
            "1289874.1358333335   87852191.70250002\n",
            "1681863.3358333334   82100814.90250002\n",
            "648494.6525000001   56054420.30250001\n",
            "429047.6691666668   13771149.902500005\n",
            "637887.3358333334   29920353.00250001\n",
            "103506.26916666674   1461560.1025000017\n",
            "683408.0025000002   32102989.402500007\n",
            "954963.9025000002   50324126.602500014\n",
            "333032.53583333344   17497070.702500004\n",
            "50140.0191666667   4914867.302500003\n",
            "646175.3025000001   40436245.10250001\n",
            "90955.61916666671   3229029.3025000026\n",
            "50395.802500000034   2002083.502500002\n",
            "306473.33583333343   9277811.402500004\n",
            "316880.6525000001   31325849.30250001\n",
            "225763.36916666673   10516724.702500004\n",
            "233844.4858333334   13096799.102500005\n",
            "192373.71916666673   15657453.302500006\n",
            "-17575.71416666667   1493161.8025000019\n",
            "-3849.3641666666836   5669399.102499996\n",
            "37039.552500000034   1081496.0025000016\n",
            "78797.23583333338   4630888.802500003\n",
            "20036.735833333358   662514.6025000012\n",
            "3345.0191666666774   82915.20250000042\n",
            "3123.1025000000136   35325.202500000276\n",
            "17465.35249999998   811891.1024999986\n",
            "133851.10249999995   23893032.802499995\n",
            "3613.569166666656   1140730.8024999984\n",
            "-5126.080833333339   171354.6025000006\n",
            "1292.6024999999947   145962.20249999943\n",
            "5389.469166666655   269412.90249999927\n",
            "-262.2641666666733   781.2025000000407\n",
            "52592.15249999997   2637538.4024999975\n",
            "281932.1024999999   33954511.70249999\n",
            "85759.2358333333   5262665.402499997\n",
            "94524.06916666662   9678632.102499995\n",
            "-9716.730833333304   16621521.302500006\n",
            "49510.4358333333   3269044.8024999974\n",
            "65419.05249999996   3232983.8024999974\n",
            "161360.8358333333   11122558.502499996\n",
            "441729.3191666666   39388803.60249999\n",
            "198496.38583333328   14923155.302499995\n",
            "111670.83583333327   3787110.6024999972\n",
            "108874.53583333328   6017454.3024999965\n",
            "223400.2191666666   10074593.402499996\n",
            "269302.03583333327   8497516.502499996\n",
            "250046.75249999992   10176419.002499996\n",
            "493299.96916666656   34999647.60249999\n",
            "345559.6191666666   18949044.302499995\n",
            "95443.41916666662   4422819.3024999965\n",
            "437406.13583333325   30360651.00249999\n",
            "164607.98583333328   7431348.602499996\n",
            "212354.38583333325   7155892.502499996\n",
            "251635.11916666658   11758383.902499994\n",
            "505910.6191666666   32764748.402499992\n",
            "169918.83583333326   9412930.802499995\n",
            "182657.58583333326   5871171.3024999965\n",
            "176234.9691666666   4928622.002499997\n",
            "13080.16916666663   76203.6024999996\n",
            "35833.33583333328   300358.8024999992\n",
            "14621063.849999996  -  888706736.8499998\n",
            "Coefficients\n",
            "0.01645206820623867 -80.1445790194023\n"
          ],
          "name": "stdout"
        }
      ]
    },
    {
      "cell_type": "code",
      "metadata": {
        "colab": {
          "base_uri": "https://localhost:8080/",
          "height": 279
        },
        "id": "dflx2V-qy_Wr",
        "outputId": "3b1c4801-e1c2-41bf-9614-aa8887e4781f"
      },
      "source": [
        "max_x=np.max(X)+5\r\n",
        "min_x=np.min(X)-5\r\n",
        " \r\n",
        "x=np.linspace(min_x, max_x, 1000)\r\n",
        "y=c+m*x\r\n",
        " \r\n",
        "plt.plot(x,y,color='#58b970', label='Regression Line')\r\n",
        "plt.scatter(X,Y,c='#ef5423', label='Scatter Plot')\r\n",
        " \r\n",
        "plt.xlabel('-- Daily New Cases --')\r\n",
        "plt.ylabel('-- Daily Deaths --')\r\n",
        "plt.legend()\r\n",
        "plt.show()"
      ],
      "execution_count": 36,
      "outputs": [
        {
          "output_type": "display_data",
          "data": {
            "image/png": "[encoded data removed]",
            "text/plain": [
              "<Figure size 432x288 with 1 Axes>"
            ]
          },
          "metadata": {
            "tags": [],
            "needs_background": "light"
          }
        }
      ]
    },
    {
      "cell_type": "code",
      "metadata": {
        "id": "slOVscGYzFde"
      },
      "source": [
        ""
      ],
      "execution_count": null,
      "outputs": []
    }
  ]
}