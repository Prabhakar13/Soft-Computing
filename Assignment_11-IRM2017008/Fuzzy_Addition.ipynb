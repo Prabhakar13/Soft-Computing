{
  "nbformat": 4,
  "nbformat_minor": 0,
  "metadata": {
    "colab": {
      "name": "Fuzzy_Addition.ipynb",
      "provenance": []
    },
    "kernelspec": {
      "name": "python3",
      "display_name": "Python 3"
    },
    "language_info": {
      "name": "python"
    }
  },
  "cells": [
    {
      "cell_type": "code",
      "metadata": {
        "id": "DsRIud9GiDIz"
      },
      "source": [
        "A = [[1, 0.3], [2, 0.6], [3, 1], [4, 0.7], [5, 0.2]]\n",
        "B = [[10, 0.5], [11, 1], [12, 0.5]]"
      ],
      "execution_count": 2,
      "outputs": []
    },
    {
      "cell_type": "code",
      "metadata": {
        "colab": {
          "base_uri": "https://localhost:8080/"
        },
        "id": "Q2lA-7ccjnlv",
        "outputId": "9f6eccb2-1401-46db-dbb1-cb9d2a98fd15"
      },
      "source": [
        "res = {}\n",
        "\n",
        "for k1, v1 in A:\n",
        "    for k2, v2 in B:\n",
        "        key = k1 + k2\n",
        "        if key in res:\n",
        "            res[key].append(min(v1, v2))\n",
        "        else:\n",
        "            res[key] = [min(v1, v2)]\n",
        "\n",
        "print(res)"
      ],
      "execution_count": 3,
      "outputs": [
        {
          "output_type": "stream",
          "text": [
            "{11: [0.3], 12: [0.3, 0.5], 13: [0.3, 0.6, 0.5], 14: [0.5, 1, 0.5], 15: [0.5, 0.7, 0.2], 16: [0.5, 0.2], 17: [0.2]}\n"
          ],
          "name": "stdout"
        }
      ]
    },
    {
      "cell_type": "code",
      "metadata": {
        "colab": {
          "base_uri": "https://localhost:8080/"
        },
        "id": "x7tJlUMekGq9",
        "outputId": "3981f5af-0548-49bf-bcfa-422ba9dbf566"
      },
      "source": [
        "for key, value in res.items():\n",
        "    res[key] = max(value)\n",
        "\n",
        "res_arr = [ [k,v] for k, v in res.items() ]\n",
        "print(res_arr)"
      ],
      "execution_count": 4,
      "outputs": [
        {
          "output_type": "stream",
          "text": [
            "[[11, 0.3], [12, 0.5], [13, 0.6], [14, 1], [15, 0.7], [16, 0.5], [17, 0.2]]\n"
          ],
          "name": "stdout"
        }
      ]
    },
    {
      "cell_type": "code",
      "metadata": {
        "id": "dSfS72MmkHyG"
      },
      "source": [
        ""
      ],
      "execution_count": null,
      "outputs": []
    }
  ]
}