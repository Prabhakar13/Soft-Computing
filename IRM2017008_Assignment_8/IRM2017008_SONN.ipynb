{
  "nbformat": 4,
  "nbformat_minor": 0,
  "metadata": {
    "colab": {
      "name": "IRM2017008_SONN.ipynb",
      "provenance": []
    },
    "kernelspec": {
      "name": "python3",
      "display_name": "Python 3"
    },
    "language_info": {
      "name": "python"
    }
  },
  "cells": [
    {
      "cell_type": "markdown",
      "metadata": {
        "id": "0tlNItSpH3dM"
      },
      "source": [
        "# **Name - PRABHAKAR KUMAR**\n",
        "# **Roll - IRM2017008**\n",
        "# **Assignment 8 - Self Organizing Neural Network**"
      ]
    },
    {
      "cell_type": "code",
      "metadata": {
        "id": "86YKTPwjH0hD"
      },
      "source": [
        "import numpy as np\n",
        "import pandas as pd\n",
        "from matplotlib import pyplot as plt"
      ],
      "execution_count": 1,
      "outputs": []
    },
    {
      "cell_type": "markdown",
      "metadata": {
        "id": "ypwcxinEIPbC"
      },
      "source": [
        "# **Training Data - 1500 two-dimensional input vectors generated randomly in a square region in the interval between -1 and +1**"
      ]
    },
    {
      "cell_type": "code",
      "metadata": {
        "colab": {
          "base_uri": "https://localhost:8080/"
        },
        "id": "O-NBxVWEIIM7",
        "outputId": "833ce173-cd55-431e-ed57-5b0bb6e21ac2"
      },
      "source": [
        "X = np.random.uniform(-1,1,(1500,2))\n",
        "print(X.shape)\n",
        "print(X)"
      ],
      "execution_count": 2,
      "outputs": [
        {
          "output_type": "stream",
          "text": [
            "(1500, 2)\n",
            "[[-0.3027771  -0.34014863]\n",
            " [-0.86527756 -0.35323805]\n",
            " [-0.9271204   0.50151329]\n",
            " ...\n",
            " [ 0.72616983 -0.75137901]\n",
            " [ 0.36111274  0.88179663]\n",
            " [-0.08430664 -0.87560041]]\n"
          ],
          "name": "stdout"
        }
      ]
    },
    {
      "cell_type": "markdown",
      "metadata": {
        "id": "ktH5DLjfIdFA"
      },
      "source": [
        "# **Generating Kohonen Layer containing 100 neurons, with initial synaptic weights randomly in the interval -1 to +1**"
      ]
    },
    {
      "cell_type": "code",
      "metadata": {
        "colab": {
          "base_uri": "https://localhost:8080/"
        },
        "id": "rR9_FSJXIZBl",
        "outputId": "02db1d10-9ffa-48f3-cd85-fb245f65eaf0"
      },
      "source": [
        "W = np.random.uniform(-1,1,(100,2))\n",
        "print(W.shape)"
      ],
      "execution_count": 4,
      "outputs": [
        {
          "output_type": "stream",
          "text": [
            "(100, 2)\n"
          ],
          "name": "stdout"
        }
      ]
    },
    {
      "cell_type": "code",
      "metadata": {
        "colab": {
          "base_uri": "https://localhost:8080/"
        },
        "id": "E-ajDFZ8IcmI",
        "outputId": "7419887a-4193-45cd-f03e-5df1177bc35d"
      },
      "source": [
        "print(W)"
      ],
      "execution_count": 5,
      "outputs": [
        {
          "output_type": "stream",
          "text": [
            "[[-5.57882212e-01  4.12812383e-01]\n",
            " [-2.58221229e-01 -1.54270350e-01]\n",
            " [-1.22092093e-01  7.70709136e-01]\n",
            " [-1.63796135e-01  5.80992180e-01]\n",
            " [-8.50538805e-01  5.34246829e-02]\n",
            " [ 3.76536471e-01 -5.00078593e-01]\n",
            " [-6.33074831e-01 -4.07233921e-01]\n",
            " [ 4.37265805e-01 -6.96975988e-01]\n",
            " [ 9.16362695e-02  7.62080979e-01]\n",
            " [ 6.24619473e-01  8.67031332e-01]\n",
            " [-6.27366922e-01  3.08508596e-01]\n",
            " [ 6.58410362e-03  9.17165792e-01]\n",
            " [ 1.81647460e-01  6.34010897e-01]\n",
            " [ 3.99999749e-02  2.34474389e-01]\n",
            " [-1.22765303e-01 -8.21180086e-01]\n",
            " [ 8.25259626e-01 -3.08131305e-01]\n",
            " [-7.15369957e-01  7.56406353e-01]\n",
            " [ 8.54623249e-01 -7.70773125e-01]\n",
            " [-9.01858546e-01 -9.29602939e-01]\n",
            " [-6.30998153e-01 -1.14338841e-01]\n",
            " [-8.12489271e-01 -5.47125126e-01]\n",
            " [-3.42988226e-01  3.11194142e-01]\n",
            " [-1.28926772e-01 -4.35284185e-01]\n",
            " [ 5.13677698e-01 -6.16370633e-01]\n",
            " [ 8.94603282e-01  8.48137497e-01]\n",
            " [ 2.15732539e-01  5.68860048e-01]\n",
            " [-5.95666036e-01 -4.85072397e-01]\n",
            " [ 5.23188329e-01 -3.01560939e-01]\n",
            " [ 2.51235444e-01  9.38733576e-01]\n",
            " [-3.45853988e-01  5.10546767e-01]\n",
            " [ 2.25584485e-01  1.05146220e-01]\n",
            " [-3.39502149e-01 -9.32071231e-02]\n",
            " [-4.58073685e-01  6.39593700e-01]\n",
            " [-2.00466015e-01 -9.16191883e-01]\n",
            " [ 7.16822509e-01 -2.11271290e-01]\n",
            " [ 8.00894756e-01  1.06264935e-01]\n",
            " [ 9.08165139e-01  4.28706774e-01]\n",
            " [-9.59780622e-01  4.13472015e-01]\n",
            " [-7.85184344e-01  2.78962575e-01]\n",
            " [-4.13049528e-01 -3.61831175e-01]\n",
            " [-8.87013893e-01  2.04546101e-01]\n",
            " [-5.24870428e-01 -4.08620329e-01]\n",
            " [ 2.46314421e-01 -4.35207442e-01]\n",
            " [-8.54425506e-02  1.18923633e-01]\n",
            " [-1.82482545e-01 -5.67950601e-02]\n",
            " [-6.61958683e-01 -8.68402002e-01]\n",
            " [-9.00279589e-04 -9.25487327e-01]\n",
            " [-3.56773196e-01 -6.29985052e-01]\n",
            " [-1.85341811e-02 -1.23239902e-01]\n",
            " [ 2.69875915e-01 -3.48294705e-02]\n",
            " [ 2.01598287e-01  1.81717788e-01]\n",
            " [-4.08037902e-01  9.68435744e-01]\n",
            " [ 9.02010770e-01  3.10751948e-01]\n",
            " [ 7.76988835e-01 -1.10731841e-01]\n",
            " [-3.90500908e-01 -4.76721946e-01]\n",
            " [ 7.59326437e-01 -1.98916495e-01]\n",
            " [ 1.32208730e-01 -4.27901194e-02]\n",
            " [ 3.92382219e-01  5.22985581e-01]\n",
            " [ 9.26101208e-01 -5.61721721e-01]\n",
            " [-6.10901957e-01 -1.21372613e-01]\n",
            " [-9.04489314e-01 -2.34109335e-01]\n",
            " [ 2.72561322e-01  4.05339629e-01]\n",
            " [ 5.76820523e-01  3.72486587e-01]\n",
            " [ 4.81752593e-01  8.63696785e-01]\n",
            " [ 1.62370066e-01  7.08556988e-01]\n",
            " [-9.91767016e-01 -5.22921654e-01]\n",
            " [ 3.10083964e-01  2.99627379e-01]\n",
            " [-8.81939016e-02 -9.84443564e-01]\n",
            " [ 1.69683382e-01 -4.16786164e-01]\n",
            " [-5.66865011e-01  9.32526375e-01]\n",
            " [-3.64198425e-02  9.62352964e-01]\n",
            " [ 4.93470165e-01  7.27802534e-02]\n",
            " [ 4.51712019e-01 -5.30682535e-02]\n",
            " [-9.22549333e-01 -8.95030160e-01]\n",
            " [ 6.11590376e-01  4.81199374e-02]\n",
            " [ 8.15218147e-01  9.76058919e-01]\n",
            " [ 5.12698112e-02  1.55846064e-01]\n",
            " [ 7.11924681e-01  1.33163201e-01]\n",
            " [ 7.75028904e-01  3.09423044e-01]\n",
            " [-6.84849912e-01  7.32588752e-01]\n",
            " [ 5.43516441e-01 -1.51024841e-01]\n",
            " [ 8.84505657e-01  6.05570407e-01]\n",
            " [-5.07888226e-01  3.46343818e-01]\n",
            " [ 6.55480694e-01  7.41298942e-01]\n",
            " [ 6.97675157e-01 -7.37972801e-01]\n",
            " [-2.29050388e-01 -4.18501473e-01]\n",
            " [-3.51469305e-01 -3.58503987e-01]\n",
            " [ 9.09581042e-02  9.23940842e-01]\n",
            " [ 8.40101634e-01 -7.76436677e-01]\n",
            " [ 2.74796673e-01 -6.16121040e-01]\n",
            " [ 9.38650148e-01  7.71141057e-01]\n",
            " [ 1.08820024e-01  1.58169837e-01]\n",
            " [-3.43680958e-02 -4.40358939e-01]\n",
            " [-2.27152871e-01 -5.48428262e-01]\n",
            " [ 9.07378663e-01  9.43354619e-01]\n",
            " [ 8.77258302e-01  9.65356621e-01]\n",
            " [-7.04053939e-01  8.80385955e-01]\n",
            " [-3.73210683e-01 -5.57886341e-01]\n",
            " [-8.13981251e-01 -6.91418047e-01]\n",
            " [ 2.19574317e-02 -5.58493836e-01]]\n"
          ],
          "name": "stdout"
        }
      ]
    },
    {
      "cell_type": "markdown",
      "metadata": {
        "id": "Dz-Ry9z6I35r"
      },
      "source": [
        "# **Learning Rate Parameter = 0.1**\n",
        "# **Neighbourhood Radius = 0.2**"
      ]
    },
    {
      "cell_type": "code",
      "metadata": {
        "id": "IZ4AgMkRIz4G"
      },
      "source": [
        "alpha = 0.1\n",
        "r = 0.2"
      ],
      "execution_count": 7,
      "outputs": []
    },
    {
      "cell_type": "markdown",
      "metadata": {
        "id": "auva-tVwJMNB"
      },
      "source": [
        "# **Distribution of Randomly Genrated Initial Synaptic Weights**"
      ]
    },
    {
      "cell_type": "code",
      "metadata": {
        "colab": {
          "base_uri": "https://localhost:8080/",
          "height": 279
        },
        "id": "hun8Zv8GI2-t",
        "outputId": "b2c43766-cf11-490a-dfdd-3eb3c090c8e0"
      },
      "source": [
        "plt.plot(W[:,0], W[:,1], 'bo')\n",
        "plt.xticks(np.arange(-1, 1, step=0.1))\n",
        "plt.yticks(np.arange(-1, 1, step=0.1))\n",
        "plt.xlabel(\"W(1,j)\")\n",
        "plt.ylabel(\"W(2,j)\")\n",
        "plt.show()"
      ],
      "execution_count": 8,
      "outputs": [
        {
          "output_type": "display_data",
          "data": {
            "image/png": "[encoded data removed]",
            "text/plain": [
              "<Figure size 432x288 with 1 Axes>"
            ]
          },
          "metadata": {
            "tags": [],
            "needs_background": "light"
          }
        }
      ]
    },
    {
      "cell_type": "markdown",
      "metadata": {
        "id": "pE3EpaFfJZM7"
      },
      "source": [
        "# **Training**"
      ]
    },
    {
      "cell_type": "code",
      "metadata": {
        "id": "L3YBgYYTJLNO"
      },
      "source": [
        "def inNeighbour(winner,other):\n",
        "    if (other[0]>winner[0]-r and other[0]<winner[0]+r) and (other[1]>winner[1]-r and other[1]<winner[1]+r):\n",
        "        return True\n",
        "    else:\n",
        "        return False"
      ],
      "execution_count": 9,
      "outputs": []
    },
    {
      "cell_type": "code",
      "metadata": {
        "id": "5ujeOs3mJdd3"
      },
      "source": [
        "epochs = 100"
      ],
      "execution_count": 10,
      "outputs": []
    },
    {
      "cell_type": "code",
      "metadata": {
        "id": "DJZB4bYOJf5b"
      },
      "source": [
        "for i in range(epochs):\n",
        "    for inputVector in X:\n",
        "        minDis = 99\n",
        "        winnerNeuron = 0\n",
        "        for j in range(W.shape[0]):\n",
        "            dis = (((inputVector[0]-W[j][0])**2)+((inputVector[1]-W[j][1])**2))**0.5\n",
        "            if dis < minDis:\n",
        "                winnerNeuron = j\n",
        "                minDis = dis\n",
        "        for k in range(W.shape[0]):\n",
        "            if k!=winnerNeuron and inNeighbour(W[winnerNeuron],W[k]):\n",
        "                W[k][0] += alpha*(inputVector[0]-W[k][0])\n",
        "                W[k][1] += alpha*(inputVector[1]-W[k][1])\n",
        "        W[winnerNeuron][0] += alpha*(inputVector[0]-W[winnerNeuron][0])\n",
        "        W[winnerNeuron][1] += alpha*(inputVector[1]-W[winnerNeuron][1])"
      ],
      "execution_count": 11,
      "outputs": []
    },
    {
      "cell_type": "code",
      "metadata": {
        "colab": {
          "base_uri": "https://localhost:8080/"
        },
        "id": "m57aTU9jJhCJ",
        "outputId": "ed702c4b-2689-4921-bf8a-d0ef09febea6"
      },
      "source": [
        "print(W)"
      ],
      "execution_count": 12,
      "outputs": [
        {
          "output_type": "stream",
          "text": [
            "[[-0.48480891  0.21030329]\n",
            " [-0.25492048 -0.12065185]\n",
            " [ 0.04439768  0.85018159]\n",
            " [-0.27280988  0.47366988]\n",
            " [-0.8571507  -0.14426215]\n",
            " [ 0.36261869 -0.76032732]\n",
            " [-0.39287123 -0.782236  ]\n",
            " [ 0.36261869 -0.76032732]\n",
            " [ 0.04439768  0.85018159]\n",
            " [ 0.46968789  0.82051195]\n",
            " [-0.85175013  0.3545431 ]\n",
            " [ 0.04439768  0.85018159]\n",
            " [ 0.04439768  0.85018159]\n",
            " [-0.13217283  0.15338992]\n",
            " [-0.0376432  -0.81894343]\n",
            " [ 0.828775   -0.3816163 ]\n",
            " [-0.74424937  0.74795159]\n",
            " [ 0.81174434 -0.76612424]\n",
            " [-0.7166892  -0.85329033]\n",
            " [-0.57882235 -0.24036486]\n",
            " [-0.8196299  -0.57653082]\n",
            " [-0.48480891  0.21030329]\n",
            " [-0.0376432  -0.81894343]\n",
            " [ 0.36261869 -0.76032732]\n",
            " [ 0.82130126  0.84440046]\n",
            " [ 0.04439768  0.85018159]\n",
            " [-0.39287123 -0.782236  ]\n",
            " [ 0.40696881 -0.38036391]\n",
            " [ 0.04439768  0.85018159]\n",
            " [-0.48480891  0.21030329]\n",
            " [ 0.25511426 -0.03310151]\n",
            " [-0.25492048 -0.12065185]\n",
            " [-0.74424937  0.74795159]\n",
            " [-0.0376432  -0.81894343]\n",
            " [ 0.828775   -0.3816163 ]\n",
            " [ 0.72906825 -0.05003889]\n",
            " [ 0.84752023  0.42035522]\n",
            " [-0.85175013  0.3545431 ]\n",
            " [-0.85175013  0.3545431 ]\n",
            " [-0.0376432  -0.81894343]\n",
            " [-0.85175013  0.3545431 ]\n",
            " [-0.39287123 -0.782236  ]\n",
            " [-0.03523496 -0.46731645]\n",
            " [-0.13217283  0.15338992]\n",
            " [-0.25492048 -0.12065185]\n",
            " [-0.7166892  -0.85329033]\n",
            " [-0.0376432  -0.81894343]\n",
            " [-0.0376432  -0.81894343]\n",
            " [-0.25492048 -0.12065185]\n",
            " [ 0.25511426 -0.03310151]\n",
            " [ 0.14458311  0.38895968]\n",
            " [-0.34155941  0.83497482]\n",
            " [ 0.84752023  0.42035522]\n",
            " [ 0.828775   -0.3816163 ]\n",
            " [-0.0376432  -0.81894343]\n",
            " [ 0.828775   -0.3816163 ]\n",
            " [ 0.25511426 -0.03310151]\n",
            " [ 0.47048712  0.31108954]\n",
            " [ 0.81174434 -0.76612424]\n",
            " [-0.57882235 -0.24036486]\n",
            " [-0.57882235 -0.24036486]\n",
            " [ 0.14458311  0.38895968]\n",
            " [ 0.47048712  0.31108954]\n",
            " [ 0.46968789  0.82051195]\n",
            " [ 0.04439768  0.85018159]\n",
            " [-0.8196299  -0.57653082]\n",
            " [ 0.14458311  0.38895968]\n",
            " [-0.0376432  -0.81894343]\n",
            " [-0.03523496 -0.46731645]\n",
            " [-0.74424937  0.74795159]\n",
            " [ 0.04439768  0.85018159]\n",
            " [ 0.25511426 -0.03310151]\n",
            " [ 0.25511426 -0.03310151]\n",
            " [-0.7166892  -0.85329033]\n",
            " [ 0.72906825 -0.05003889]\n",
            " [ 0.82130126  0.84440046]\n",
            " [-0.13217283  0.15338992]\n",
            " [ 0.72906825 -0.05003889]\n",
            " [ 0.72906825 -0.05003889]\n",
            " [-0.74424937  0.74795159]\n",
            " [ 0.40696881 -0.38036391]\n",
            " [ 0.84752023  0.42035522]\n",
            " [-0.48480891  0.21030329]\n",
            " [ 0.46968789  0.82051195]\n",
            " [ 0.81174434 -0.76612424]\n",
            " [-0.0376432  -0.81894343]\n",
            " [-0.0376432  -0.81894343]\n",
            " [ 0.04439768  0.85018159]\n",
            " [ 0.81174434 -0.76612424]\n",
            " [ 0.36261869 -0.76032732]\n",
            " [ 0.82130126  0.84440046]\n",
            " [ 0.14458311  0.38895968]\n",
            " [-0.03523496 -0.46731645]\n",
            " [-0.0376432  -0.81894343]\n",
            " [ 0.82130126  0.84440046]\n",
            " [ 0.82130126  0.84440046]\n",
            " [-0.74424937  0.74795159]\n",
            " [-0.0376432  -0.81894343]\n",
            " [-0.7166892  -0.85329033]\n",
            " [-0.03523496 -0.46731645]]\n"
          ],
          "name": "stdout"
        }
      ]
    },
    {
      "cell_type": "markdown",
      "metadata": {
        "id": "9Un5xWOJJ7Do"
      },
      "source": [
        "# **Distribution of Synaptic Weightis after Training**"
      ]
    },
    {
      "cell_type": "code",
      "metadata": {
        "colab": {
          "base_uri": "https://localhost:8080/",
          "height": 279
        },
        "id": "O35dDxkPJ1DK",
        "outputId": "9693f938-006e-4080-f806-7bfe89ff5748"
      },
      "source": [
        "plt.plot(W[:,0], W[:,1], 'ro')\n",
        "plt.xticks(np.arange(-1, 1, step=0.1))\n",
        "plt.yticks(np.arange(-1, 1, step=0.1))\n",
        "plt.xlabel(\"W(1,j)\")\n",
        "plt.ylabel(\"W(2,j)\")\n",
        "plt.show()"
      ],
      "execution_count": 13,
      "outputs": [
        {
          "output_type": "display_data",
          "data": {
            "image/png": "[encoded data removed]",
            "text/plain": [
              "<Figure size 432x288 with 1 Axes>"
            ]
          },
          "metadata": {
            "tags": [],
            "needs_background": "light"
          }
        }
      ]
    },
    {
      "cell_type": "code",
      "metadata": {
        "colab": {
          "base_uri": "https://localhost:8080/"
        },
        "id": "esVBSs6DKAkF",
        "outputId": "97626a28-5086-4036-a4e4-88ff588d50f5"
      },
      "source": [
        "np.unique(W,axis=0).shape"
      ],
      "execution_count": 14,
      "outputs": [
        {
          "output_type": "execute_result",
          "data": {
            "text/plain": [
              "(26, 2)"
            ]
          },
          "metadata": {
            "tags": []
          },
          "execution_count": 14
        }
      ]
    },
    {
      "cell_type": "markdown",
      "metadata": {
        "id": "h3pmuLmvKeBy"
      },
      "source": [
        "Here, we can see that 100 points on map got reduced to 26 points after traning."
      ]
    },
    {
      "cell_type": "markdown",
      "metadata": {
        "id": "Fu9js0GxKQWI"
      },
      "source": [
        "# **Testing**"
      ]
    },
    {
      "cell_type": "code",
      "metadata": {
        "id": "0D6oH90AKIs5"
      },
      "source": [
        "testData = [[0.1,0.8],[0.5,-0.2],[-0.8,-0.9],[-0.6,0.9]]\n",
        "testData = np.asarray(testData)\n",
        "outputNeuron = []\n",
        "for inputVector in testData:\n",
        "    minDis = 99\n",
        "    winnerNeuron = 0\n",
        "    for j in range(W.shape[0]):\n",
        "        dis = (((inputVector[0]-W[j][0])**2)+((inputVector[1]-W[j][1])**2))**0.5\n",
        "        if dis < minDis:\n",
        "            winnerNeuron = j\n",
        "            minDis = dis\n",
        "    outputNeuron.append(W[winnerNeuron])\n",
        "outputNeuron = np.asarray(outputNeuron)"
      ],
      "execution_count": 16,
      "outputs": []
    },
    {
      "cell_type": "code",
      "metadata": {
        "colab": {
          "base_uri": "https://localhost:8080/",
          "height": 279
        },
        "id": "Ow7QussgKSaM",
        "outputId": "2f0fb320-65c1-4cb5-9edf-9b1a3197eb66"
      },
      "source": [
        "colour = {0:'b',1:'g',2:'y',3:'m'}\n",
        "\n",
        "plt.plot(W[:,0], W[:,1], 'ro')\n",
        "for i in range(testData.shape[0]):\n",
        "    plt.plot(testData[i][0],testData[i][1],colour[i]+'^',label='X'+str(i+1))\n",
        "    plt.plot(outputNeuron[i][0],outputNeuron[i][1],colour[i]+'o')\n",
        "plt.xticks(np.arange(-1, 1, step=0.1))\n",
        "plt.yticks(np.arange(-1, 1, step=0.1))\n",
        "plt.legend(loc=1)\n",
        "plt.xlabel(\"W(1,j)\")\n",
        "plt.ylabel(\"W(2,j)\")\n",
        "plt.show()"
      ],
      "execution_count": 17,
      "outputs": [
        {
          "output_type": "display_data",
          "data": {
            "image/png": "[encoded data removed]",
            "text/plain": [
              "<Figure size 432x288 with 1 Axes>"
            ]
          },
          "metadata": {
            "tags": [],
            "needs_background": "light"
          }
        }
      ]
    },
    {
      "cell_type": "code",
      "metadata": {
        "id": "9NttPOrZKXxV"
      },
      "source": [
        ""
      ],
      "execution_count": null,
      "outputs": []
    }
  ]
}