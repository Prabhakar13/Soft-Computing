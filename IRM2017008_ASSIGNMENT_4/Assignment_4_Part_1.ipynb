{
  "nbformat": 4,
  "nbformat_minor": 0,
  "metadata": {
    "colab": {
      "name": "Assignment_4_Part_1.ipynb",
      "provenance": []
    },
    "kernelspec": {
      "name": "python3",
      "display_name": "Python 3"
    }
  },
  "cells": [
    {
      "cell_type": "markdown",
      "metadata": {
        "id": "FkYcTwOPOe_V"
      },
      "source": [
        "# **Name - Prabhakar Kumar**\r\n",
        "# **Roll - IRM2017008**\r\n",
        "# **Assignment 4 Question 1 without  Feature Engineering**"
      ]
    },
    {
      "cell_type": "code",
      "metadata": {
        "id": "Qa-oicnMNKdI"
      },
      "source": [
        "import numpy as np\r\n",
        "import pandas as pd\r\n",
        "import csv"
      ],
      "execution_count": 1,
      "outputs": []
    },
    {
      "cell_type": "markdown",
      "metadata": {
        "id": "LbKOVBewOlb6"
      },
      "source": [
        "# **Loading the Dataset**"
      ]
    },
    {
      "cell_type": "code",
      "metadata": {
        "colab": {
          "base_uri": "https://localhost:8080/"
        },
        "id": "-drOOT46Nnme",
        "outputId": "f55dc0d0-dff4-41a0-e3f5-be43bd4934f2"
      },
      "source": [
        "data = pd.DataFrame(pd.read_csv('Microchip.csv',delimiter=','))\r\n",
        "data.info()"
      ],
      "execution_count": 2,
      "outputs": [
        {
          "output_type": "stream",
          "text": [
            "<class 'pandas.core.frame.DataFrame'>\n",
            "RangeIndex: 118 entries, 0 to 117\n",
            "Data columns (total 3 columns):\n",
            " #   Column  Non-Null Count  Dtype  \n",
            "---  ------  --------------  -----  \n",
            " 0   X1      118 non-null    float64\n",
            " 1   X2      118 non-null    float64\n",
            " 2   Y       118 non-null    int64  \n",
            "dtypes: float64(2), int64(1)\n",
            "memory usage: 2.9 KB\n"
          ],
          "name": "stdout"
        }
      ]
    },
    {
      "cell_type": "code",
      "metadata": {
        "colab": {
          "base_uri": "https://localhost:8080/",
          "height": 204
        },
        "id": "BiLsRpQ4NyRl",
        "outputId": "80440889-29e7-469e-c6af-fb87c30cdb0f"
      },
      "source": [
        "data.head()"
      ],
      "execution_count": 3,
      "outputs": [
        {
          "output_type": "execute_result",
          "data": {
            "text/html": [
              "<div>\n",
              "<style scoped>\n",
              "    .dataframe tbody tr th:only-of-type {\n",
              "        vertical-align: middle;\n",
              "    }\n",
              "\n",
              "    .dataframe tbody tr th {\n",
              "        vertical-align: top;\n",
              "    }\n",
              "\n",
              "    .dataframe thead th {\n",
              "        text-align: right;\n",
              "    }\n",
              "</style>\n",
              "<table border=\"1\" class=\"dataframe\">\n",
              "  <thead>\n",
              "    <tr style=\"text-align: right;\">\n",
              "      <th></th>\n",
              "      <th>X1</th>\n",
              "      <th>X2</th>\n",
              "      <th>Y</th>\n",
              "    </tr>\n",
              "  </thead>\n",
              "  <tbody>\n",
              "    <tr>\n",
              "      <th>0</th>\n",
              "      <td>0.051267</td>\n",
              "      <td>0.69956</td>\n",
              "      <td>1</td>\n",
              "    </tr>\n",
              "    <tr>\n",
              "      <th>1</th>\n",
              "      <td>-0.092742</td>\n",
              "      <td>0.68494</td>\n",
              "      <td>1</td>\n",
              "    </tr>\n",
              "    <tr>\n",
              "      <th>2</th>\n",
              "      <td>-0.213710</td>\n",
              "      <td>0.69225</td>\n",
              "      <td>1</td>\n",
              "    </tr>\n",
              "    <tr>\n",
              "      <th>3</th>\n",
              "      <td>-0.375000</td>\n",
              "      <td>0.50219</td>\n",
              "      <td>1</td>\n",
              "    </tr>\n",
              "    <tr>\n",
              "      <th>4</th>\n",
              "      <td>-0.513250</td>\n",
              "      <td>0.46564</td>\n",
              "      <td>1</td>\n",
              "    </tr>\n",
              "  </tbody>\n",
              "</table>\n",
              "</div>"
            ],
            "text/plain": [
              "         X1       X2  Y\n",
              "0  0.051267  0.69956  1\n",
              "1 -0.092742  0.68494  1\n",
              "2 -0.213710  0.69225  1\n",
              "3 -0.375000  0.50219  1\n",
              "4 -0.513250  0.46564  1"
            ]
          },
          "metadata": {
            "tags": []
          },
          "execution_count": 3
        }
      ]
    },
    {
      "cell_type": "code",
      "metadata": {
        "id": "6NGQNEtgN0Cq"
      },
      "source": [
        "x = data[['X1','X2']].values\r\n",
        "y = data['Y'].values"
      ],
      "execution_count": 4,
      "outputs": []
    },
    {
      "cell_type": "markdown",
      "metadata": {
        "id": "_m3Q2UuxOn-x"
      },
      "source": [
        "# **Splitting Dataset into Training and Test data**"
      ]
    },
    {
      "cell_type": "code",
      "metadata": {
        "id": "7SVLxECUN11s"
      },
      "source": [
        "import random\r\n",
        "n=y.shape[0]\r\n",
        "temp_list=[]\r\n",
        "for i in range(n):\r\n",
        "  temp_list.append(i)\r\n",
        "\r\n",
        "\r\n",
        "random.shuffle(temp_list)\r\n",
        "train_limit=int(0.7*n)\r\n",
        "\r\n",
        "temp_X=[]\r\n",
        "temp_Y=[]\r\n",
        "temp_test_X=[]\r\n",
        "temp_test_Y=[]\r\n",
        "for i in range(n):\r\n",
        "  x0=x[temp_list[i]][0]\r\n",
        "  x1=x[temp_list[i]][1]\r\n",
        "  x2=x0*x1\r\n",
        "  x3=(x0**2)*x1\r\n",
        "  x4=x0*(x1**2)\r\n",
        "  if(i<=train_limit):\r\n",
        "    temp_append=x[temp_list[i],:]\r\n",
        "    temp_X.append(temp_append)\r\n",
        "    temp_Y.append(y[temp_list[i]])\r\n",
        "  else:\r\n",
        "    temp_append=x[temp_list[i],:]\r\n",
        "    temp_test_X.append(temp_append)\r\n",
        "    temp_test_Y.append(y[temp_list[i]])\r\n"
      ],
      "execution_count": 5,
      "outputs": []
    },
    {
      "cell_type": "code",
      "metadata": {
        "id": "n91_lefMN5zo"
      },
      "source": [
        "X=np.array(temp_X)\r\n",
        "Y=np.array(temp_Y)\r\n",
        "X_test=np.array(temp_test_X)\r\n",
        "Y_test=np.array(temp_test_Y)"
      ],
      "execution_count": 6,
      "outputs": []
    },
    {
      "cell_type": "code",
      "metadata": {
        "colab": {
          "base_uri": "https://localhost:8080/"
        },
        "id": "FtLQgj-WN7w3",
        "outputId": "8ba714a3-2a93-4c51-954d-e3dde325484d"
      },
      "source": [
        "print(X.shape)\r\n",
        "print(X_test.shape)"
      ],
      "execution_count": 7,
      "outputs": [
        {
          "output_type": "stream",
          "text": [
            "(83, 2)\n",
            "(35, 2)\n"
          ],
          "name": "stdout"
        }
      ]
    },
    {
      "cell_type": "code",
      "metadata": {
        "colab": {
          "base_uri": "https://localhost:8080/"
        },
        "id": "bidm7IDYN_j1",
        "outputId": "25e8c9fd-382e-4d79-ce5d-9002153cc264"
      },
      "source": [
        "type(X)"
      ],
      "execution_count": 8,
      "outputs": [
        {
          "output_type": "execute_result",
          "data": {
            "text/plain": [
              "numpy.ndarray"
            ]
          },
          "metadata": {
            "tags": []
          },
          "execution_count": 8
        }
      ]
    },
    {
      "cell_type": "markdown",
      "metadata": {
        "id": "GjoSjkg-OuLr"
      },
      "source": [
        "# **Calculation of Phi Parameter**"
      ]
    },
    {
      "cell_type": "code",
      "metadata": {
        "colab": {
          "base_uri": "https://localhost:8080/"
        },
        "id": "Md1Tf0IwOBA2",
        "outputId": "928cd5e9-1217-423e-8e9d-ceba9f66183a"
      },
      "source": [
        "def get_phi():\r\n",
        "  n = Y.shape[0]\r\n",
        "  global count_0\r\n",
        "  global count_1\r\n",
        "  for i in range(n):\r\n",
        "    if(Y[i]==1):\r\n",
        "      count_1+=1\r\n",
        "    else:\r\n",
        "      count_0+=1\r\n",
        "  return count_1/n\r\n",
        "\r\n",
        "count_0=0\r\n",
        "count_1=0\r\n",
        "phi = get_phi()\r\n",
        "print(phi)"
      ],
      "execution_count": 9,
      "outputs": [
        {
          "output_type": "stream",
          "text": [
            "0.40963855421686746\n"
          ],
          "name": "stdout"
        }
      ]
    },
    {
      "cell_type": "markdown",
      "metadata": {
        "id": "gW_c0U1gOwR8"
      },
      "source": [
        "# **Mean Parameter for Class 0**"
      ]
    },
    {
      "cell_type": "code",
      "metadata": {
        "colab": {
          "base_uri": "https://localhost:8080/"
        },
        "id": "5nQcR9NiOCWx",
        "outputId": "2cad24f5-b535-4b95-da5a-8b667d4fa50c"
      },
      "source": [
        "def get_mu0():\r\n",
        "  global count_0\r\n",
        "  n=Y.shape[0]\r\n",
        "  sum=np.zeros_like(X[0,:])\r\n",
        "  for i in range(n):\r\n",
        "    if(Y[i]==1):\r\n",
        "      continue\r\n",
        "    sum=sum+X[i,:]\r\n",
        "  print(count_0)\r\n",
        "  print(sum)\r\n",
        "  ret=sum/count_0\r\n",
        "  return ret\r\n",
        "\r\n",
        "mu0 = get_mu0()\r\n",
        "print(mu0)"
      ],
      "execution_count": 10,
      "outputs": [
        {
          "output_type": "stream",
          "text": [
            "49\n",
            "[4.7179426 8.862636 ]\n",
            "[0.09628454 0.18087012]\n"
          ],
          "name": "stdout"
        }
      ]
    },
    {
      "cell_type": "markdown",
      "metadata": {
        "id": "8JLEvdQHOyG3"
      },
      "source": [
        "# **Mean Parameter for Class 1**"
      ]
    },
    {
      "cell_type": "code",
      "metadata": {
        "colab": {
          "base_uri": "https://localhost:8080/"
        },
        "id": "IyqQYNAZOD8z",
        "outputId": "f9646311-4e91-4b1f-c228-6d749e872683"
      },
      "source": [
        "def get_mu1():\r\n",
        "  global count_1\r\n",
        "  n=Y.shape[0]\r\n",
        "  sum=np.zeros_like(X[0,:])\r\n",
        "  for i in range(n):\r\n",
        "    if(Y[i]==0):\r\n",
        "      continue\r\n",
        "    sum=sum+X[i,:]\r\n",
        "  print(count_1)\r\n",
        "  print(sum)\r\n",
        "  ret=sum/count_1\r\n",
        "  return ret\r\n",
        "\r\n",
        "mu1 = get_mu1()\r\n",
        "print(mu1)"
      ],
      "execution_count": 11,
      "outputs": [
        {
          "output_type": "stream",
          "text": [
            "34\n",
            "[1.05758  6.058451]\n",
            "[0.03110529 0.17818974]\n"
          ],
          "name": "stdout"
        }
      ]
    },
    {
      "cell_type": "markdown",
      "metadata": {
        "id": "PSomvsoZO0Dw"
      },
      "source": [
        "# **Calculation of Sigma**"
      ]
    },
    {
      "cell_type": "code",
      "metadata": {
        "colab": {
          "base_uri": "https://localhost:8080/"
        },
        "id": "cWVM7pHIOFNE",
        "outputId": "92f4afca-3f60-4b52-d2eb-4c59d076930f"
      },
      "source": [
        "def get_sigma():\r\n",
        "  global mu0\r\n",
        "  global mu1\r\n",
        "  n=Y.shape[0]\r\n",
        "  sum = np.zeros((X.shape[1],X.shape[1]))\r\n",
        "  print(sum)\r\n",
        "  for i in range(n):\r\n",
        "    xi = X[i,:]\r\n",
        "    xi = xi.reshape((-1,1))\r\n",
        "    yi = Y[i]\r\n",
        "    if(yi==0):\r\n",
        "      temp_sum = ((xi-mu0).T)*(xi-mu0)\r\n",
        "    else:\r\n",
        "      temp_sum = ((xi-mu1).T)*(xi-mu1)\r\n",
        "    sum = sum + temp_sum\r\n",
        "  return sum/n\r\n",
        "\r\n",
        "sigma = get_sigma()\r\n",
        "print(sigma)\r\n"
      ],
      "execution_count": 12,
      "outputs": [
        {
          "output_type": "stream",
          "text": [
            "[[0. 0.]\n",
            " [0. 0.]]\n",
            "[[ 0.25678193 -0.03597272]\n",
            " [-0.03597272  0.27430755]]\n"
          ],
          "name": "stdout"
        }
      ]
    },
    {
      "cell_type": "markdown",
      "metadata": {
        "id": "oPAt7OcuO2lf"
      },
      "source": [
        "# **Prediction over Test Data**"
      ]
    },
    {
      "cell_type": "code",
      "metadata": {
        "id": "it1PW615OGpV"
      },
      "source": [
        "def get_p_of_x_given_y(x, mu):\r\n",
        "  pi = 3.14\r\n",
        "  dim = mu.shape[0]\r\n",
        "  #exp(-0.5*(x-mu)'*inv(sigma)*(x-mu))\r\n",
        "  temp1=np.exp(-0.5*((x-mu).T)*np.linalg.inv(sigma)*(x-mu))\r\n",
        "  #np.linalg.det(a)\r\n",
        "  temp2=(1/(2*pi)**(dim/2))*np.sqrt(np.linalg.det(sigma))\r\n",
        "  ret=temp1*temp2\r\n",
        "  return ret[0]"
      ],
      "execution_count": 13,
      "outputs": []
    },
    {
      "cell_type": "code",
      "metadata": {
        "colab": {
          "base_uri": "https://localhost:8080/"
        },
        "id": "hVav4DgbOIR6",
        "outputId": "b2978c3b-b140-41f9-d4a3-16b235f93ea8"
      },
      "source": [
        "def get_post_prob(y):\r\n",
        "  global phi\r\n",
        "  return (phi**y)*((1-phi)**(1-y))\r\n",
        "\r\n",
        "n=Y_test.shape[0]\r\n",
        "\r\n",
        "tp=0\r\n",
        "tn=0\r\n",
        "fp=0\r\n",
        "fn=0\r\n",
        "\r\n",
        "print(\"Total = \",n)\r\n",
        "for index in range(n):\r\n",
        "  temp_prob=get_post_prob(Y_test[index])\r\n",
        "  p0=get_p_of_x_given_y(X_test[index,:],mu0)\r\n",
        "  p1=get_p_of_x_given_y(X_test[index,:],mu1)\r\n",
        "\r\n",
        "  prob0 = p0[0]*temp_prob\r\n",
        "  prob1 = p1[0]*temp_prob\r\n",
        "  ans=1\r\n",
        "  if(prob0>prob1):\r\n",
        "    ans=0\r\n",
        "  else:\r\n",
        "    ans=1\r\n",
        "  if(ans==Y_test[index]):\r\n",
        "    if(ans==1):\r\n",
        "      tp+=1\r\n",
        "    else:\r\n",
        "      tn+=1\r\n",
        "  else:\r\n",
        "    if(Y_test[index]==1):\r\n",
        "      fn+=1\r\n",
        "    else:\r\n",
        "      fp+=1"
      ],
      "execution_count": 14,
      "outputs": [
        {
          "output_type": "stream",
          "text": [
            "Total =  35\n"
          ],
          "name": "stdout"
        }
      ]
    },
    {
      "cell_type": "markdown",
      "metadata": {
        "id": "9DKRYWtpO4pQ"
      },
      "source": [
        "# **Model Accuracy Analysis**"
      ]
    },
    {
      "cell_type": "code",
      "metadata": {
        "colab": {
          "base_uri": "https://localhost:8080/"
        },
        "id": "_m-UJ7h_OJbQ",
        "outputId": "3eadb334-cba8-496c-d649-e0a6d4c01fac"
      },
      "source": [
        "print(\"True Positive = \",tp)\r\n",
        "print(\"True Negative = \",tn)\r\n",
        "print(\"False Positive = \",fp)\r\n",
        "print(\"False Negative = \",fn)"
      ],
      "execution_count": 15,
      "outputs": [
        {
          "output_type": "stream",
          "text": [
            "True Positive =  16\n",
            "True Negative =  5\n",
            "False Positive =  6\n",
            "False Negative =  8\n"
          ],
          "name": "stdout"
        }
      ]
    },
    {
      "cell_type": "code",
      "metadata": {
        "colab": {
          "base_uri": "https://localhost:8080/"
        },
        "id": "zLsr-8FQOKyh",
        "outputId": "c2060a51-a1dd-4d16-ba7d-768d6c58cdf2"
      },
      "source": [
        "accuracy = (tp+tn)/(tp+tn+fp+fn)\r\n",
        "sensitivity = tp/(tp+fn)\r\n",
        "precision = tp/(tp+fp)\r\n",
        "specificity = tn/(tn+fp)\r\n",
        "\r\n",
        "print(\"accuracy = \",accuracy)\r\n",
        "print(\"sensitivity = \",sensitivity)\r\n",
        "print(\"precision = \",precision)\r\n",
        "print(\"specificity = \",specificity)"
      ],
      "execution_count": 16,
      "outputs": [
        {
          "output_type": "stream",
          "text": [
            "accuracy =  0.6\n",
            "sensitivity =  0.6666666666666666\n",
            "precision =  0.7272727272727273\n",
            "specificity =  0.45454545454545453\n"
          ],
          "name": "stdout"
        }
      ]
    },
    {
      "cell_type": "code",
      "metadata": {
        "id": "-GJsQoG4ONLY"
      },
      "source": [
        ""
      ],
      "execution_count": null,
      "outputs": []
    }
  ]
}