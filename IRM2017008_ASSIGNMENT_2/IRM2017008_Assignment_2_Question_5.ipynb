{
  "nbformat": 4,
  "nbformat_minor": 0,
  "metadata": {
    "colab": {
      "name": "IRM2017008_Assignment_2_Question_5.ipynb",
      "provenance": []
    },
    "kernelspec": {
      "name": "python3",
      "display_name": "Python 3"
    }
  },
  "cells": [
    {
      "cell_type": "markdown",
      "metadata": {
        "id": "vA2w5P6TuLsB"
      },
      "source": [
        "# **Name - PRABHAKAR KUMAR**\r\n",
        "# **Roll - IRM2017008**\r\n",
        "# **Assignment 2 - Question 5**"
      ]
    },
    {
      "cell_type": "code",
      "metadata": {
        "id": "RpQeXvJPt7-U"
      },
      "source": [
        "import numpy as np\r\n",
        "import matplotlib.pyplot as plt"
      ],
      "execution_count": 1,
      "outputs": []
    },
    {
      "cell_type": "code",
      "metadata": {
        "id": "To20TSM_uP6c"
      },
      "source": [
        "# FILLING THE DATA\r\n",
        "\r\n",
        "V=[54.3,61.8,72.4,88.7,118.6,194]\r\n",
        "P=[61.2,49.5,37.5,28.4,19.2,10.1]"
      ],
      "execution_count": 2,
      "outputs": []
    },
    {
      "cell_type": "code",
      "metadata": {
        "id": "buEOHWj9urp8"
      },
      "source": [
        "X=[]\r\n",
        "Y=[]\r\n",
        "n = len(V)\r\n",
        "\r\n",
        "for i in range(n):\r\n",
        "  Y.append(V[i]*P[i])\r\n",
        "  X.append(V[i])\r\n",
        "\r\n",
        "mean_x = np.mean(X)\r\n",
        "mean_y = np.mean(Y)"
      ],
      "execution_count": 17,
      "outputs": []
    },
    {
      "cell_type": "code",
      "metadata": {
        "colab": {
          "base_uri": "https://localhost:8080/"
        },
        "id": "wDQErQZsu9KK",
        "outputId": "c7e56461-c848-4af2-8c0a-6562c154c9a9"
      },
      "source": [
        "num=0\r\n",
        "den=0\r\n",
        "for i in range(n):\r\n",
        "  num+=(X[i]-mean_x)*(Y[i]-mean_y)\r\n",
        "  den+=(X[i]-mean_x)**2\r\n",
        "m=num/den\r\n",
        "c=mean_y-(m*mean_x)\r\n",
        " \r\n",
        "print(\"Coefficients\")\r\n",
        "print(m, c)"
      ],
      "execution_count": 18,
      "outputs": [
        {
          "output_type": "stream",
          "text": [
            "Coefficients\n",
            "-8.722208972341896 3499.5364753145413\n"
          ],
          "name": "stdout"
        }
      ]
    },
    {
      "cell_type": "code",
      "metadata": {
        "colab": {
          "base_uri": "https://localhost:8080/",
          "height": 279
        },
        "id": "aSKcHUJyvNh2",
        "outputId": "f7926ddd-0b82-4bc9-efce-fe1df57247b1"
      },
      "source": [
        "max_x=np.max(X)+2\r\n",
        "min_x=np.min(X)-2\r\n",
        " \r\n",
        "x=np.linspace(min_x, max_x, 1000)\r\n",
        "y=c+m*x\r\n",
        " \r\n",
        "plt.plot(x,y,color='#58b970', label='Regression Line')\r\n",
        "plt.scatter(X,Y,c='#ef5423', label='Scatter Plot')\r\n",
        " \r\n",
        "plt.xlabel('-- Value of V --')\r\n",
        "plt.ylabel('-- Value of P*V --')\r\n",
        "plt.legend()\r\n",
        "plt.show()"
      ],
      "execution_count": 19,
      "outputs": [
        {
          "output_type": "display_data",
          "data": {
            "image/png": "[encoded data removed]",
            "text/plain": [
              "<Figure size 432x288 with 1 Axes>"
            ]
          },
          "metadata": {
            "tags": [],
            "needs_background": "light"
          }
        }
      ]
    },
    {
      "cell_type": "code",
      "metadata": {
        "colab": {
          "base_uri": "https://localhost:8080/"
        },
        "id": "KH6eVdgUvii-",
        "outputId": "b00cd040-32f6-4474-b51e-1fb1a2ff537f"
      },
      "source": [
        "def get_P(val):\r\n",
        "  ret=m*val+c\r\n",
        "  return ret/val\r\n",
        "\r\n",
        "print(\"Value of P when V=100 - \",get_P(100))"
      ],
      "execution_count": 21,
      "outputs": [
        {
          "output_type": "stream",
          "text": [
            "Value of P when V=100 -  26.273155780803517\n"
          ],
          "name": "stdout"
        }
      ]
    },
    {
      "cell_type": "code",
      "metadata": {
        "id": "T1kMAeE_xT0i"
      },
      "source": [
        ""
      ],
      "execution_count": null,
      "outputs": []
    }
  ]
}