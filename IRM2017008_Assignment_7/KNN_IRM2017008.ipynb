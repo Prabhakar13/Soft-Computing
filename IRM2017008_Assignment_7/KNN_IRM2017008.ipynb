{
  "nbformat": 4,
  "nbformat_minor": 0,
  "metadata": {
    "colab": {
      "name": "KNN_IRM2017008.ipynb",
      "provenance": [],
      "toc_visible": true
    },
    "kernelspec": {
      "name": "python3",
      "display_name": "Python 3"
    },
    "language_info": {
      "name": "python"
    }
  },
  "cells": [
    {
      "cell_type": "markdown",
      "metadata": {
        "id": "WeoLP6CVTdwZ"
      },
      "source": [
        "# **Name - PRABHAKAR KUMAR**\n",
        "# **Roll - IRM2017008**\n",
        "# **Assignment 7 - KNN Algorithm**"
      ]
    },
    {
      "cell_type": "markdown",
      "metadata": {
        "id": "anBEOiXgYn71"
      },
      "source": [
        "## **Loading Dataset**"
      ]
    },
    {
      "cell_type": "code",
      "metadata": {
        "id": "evJ4U557TZe3"
      },
      "source": [
        "import numpy as np\n",
        "import pandas as pd"
      ],
      "execution_count": 1,
      "outputs": []
    },
    {
      "cell_type": "code",
      "metadata": {
        "colab": {
          "base_uri": "https://localhost:8080/"
        },
        "id": "ZjkBvUXjUBo2",
        "outputId": "07179270-8728-4870-afe6-7108d6e27698"
      },
      "source": [
        "data = pd.DataFrame(pd.read_csv('data.csv',delimiter=','))\n",
        "data.info()"
      ],
      "execution_count": 2,
      "outputs": [
        {
          "output_type": "stream",
          "text": [
            "<class 'pandas.core.frame.DataFrame'>\n",
            "RangeIndex: 100 entries, 0 to 99\n",
            "Data columns (total 3 columns):\n",
            " #   Column  Non-Null Count  Dtype  \n",
            "---  ------  --------------  -----  \n",
            " 0   Value1  100 non-null    float64\n",
            " 1   Value2  100 non-null    float64\n",
            " 2   Class   100 non-null    int64  \n",
            "dtypes: float64(2), int64(1)\n",
            "memory usage: 2.5 KB\n"
          ],
          "name": "stdout"
        }
      ]
    },
    {
      "cell_type": "code",
      "metadata": {
        "colab": {
          "base_uri": "https://localhost:8080/",
          "height": 204
        },
        "id": "WqBNpYI4UcM5",
        "outputId": "55ac8093-670e-46d7-9ef4-d236c46ffc06"
      },
      "source": [
        "data.head()"
      ],
      "execution_count": 3,
      "outputs": [
        {
          "output_type": "execute_result",
          "data": {
            "text/html": [
              "<div>\n",
              "<style scoped>\n",
              "    .dataframe tbody tr th:only-of-type {\n",
              "        vertical-align: middle;\n",
              "    }\n",
              "\n",
              "    .dataframe tbody tr th {\n",
              "        vertical-align: top;\n",
              "    }\n",
              "\n",
              "    .dataframe thead th {\n",
              "        text-align: right;\n",
              "    }\n",
              "</style>\n",
              "<table border=\"1\" class=\"dataframe\">\n",
              "  <thead>\n",
              "    <tr style=\"text-align: right;\">\n",
              "      <th></th>\n",
              "      <th>Value1</th>\n",
              "      <th>Value2</th>\n",
              "      <th>Class</th>\n",
              "    </tr>\n",
              "  </thead>\n",
              "  <tbody>\n",
              "    <tr>\n",
              "      <th>0</th>\n",
              "      <td>34.623660</td>\n",
              "      <td>78.024693</td>\n",
              "      <td>0</td>\n",
              "    </tr>\n",
              "    <tr>\n",
              "      <th>1</th>\n",
              "      <td>30.286711</td>\n",
              "      <td>43.894998</td>\n",
              "      <td>0</td>\n",
              "    </tr>\n",
              "    <tr>\n",
              "      <th>2</th>\n",
              "      <td>35.847409</td>\n",
              "      <td>72.902198</td>\n",
              "      <td>0</td>\n",
              "    </tr>\n",
              "    <tr>\n",
              "      <th>3</th>\n",
              "      <td>60.182599</td>\n",
              "      <td>86.308552</td>\n",
              "      <td>1</td>\n",
              "    </tr>\n",
              "    <tr>\n",
              "      <th>4</th>\n",
              "      <td>79.032736</td>\n",
              "      <td>75.344376</td>\n",
              "      <td>1</td>\n",
              "    </tr>\n",
              "  </tbody>\n",
              "</table>\n",
              "</div>"
            ],
            "text/plain": [
              "      Value1     Value2  Class\n",
              "0  34.623660  78.024693      0\n",
              "1  30.286711  43.894998      0\n",
              "2  35.847409  72.902198      0\n",
              "3  60.182599  86.308552      1\n",
              "4  79.032736  75.344376      1"
            ]
          },
          "metadata": {
            "tags": []
          },
          "execution_count": 3
        }
      ]
    },
    {
      "cell_type": "code",
      "metadata": {
        "colab": {
          "base_uri": "https://localhost:8080/"
        },
        "id": "qcFa7Q8_Uf7T",
        "outputId": "443dd37c-062f-4a8a-b5f9-54e7101f8a35"
      },
      "source": [
        "row_count = len(data.index)\n",
        "print(row_count)"
      ],
      "execution_count": 5,
      "outputs": [
        {
          "output_type": "stream",
          "text": [
            "100\n"
          ],
          "name": "stdout"
        }
      ]
    },
    {
      "cell_type": "code",
      "metadata": {
        "id": "z5LhYiPAUtQB"
      },
      "source": [
        "trainSet = data[30:60]\n",
        "testSet = data[90:]"
      ],
      "execution_count": 7,
      "outputs": []
    },
    {
      "cell_type": "markdown",
      "metadata": {
        "id": "9NGlJjjwYxYc"
      },
      "source": [
        "## **Creating Training and Testing Dataset**"
      ]
    },
    {
      "cell_type": "code",
      "metadata": {
        "id": "mGnJ4QFGU3XB"
      },
      "source": [
        "x_train=trainSet[['Value1','Value2']].values\n",
        "y_train=trainSet['Class'].values\n",
        "x_test=testSet[['Value1','Value2']].values\n",
        "y_test=testSet['Class'].values"
      ],
      "execution_count": 11,
      "outputs": []
    },
    {
      "cell_type": "code",
      "metadata": {
        "colab": {
          "base_uri": "https://localhost:8080/"
        },
        "id": "GXBz4Jk-VSCw",
        "outputId": "819074ec-5b0a-4d40-c869-9c8f012bdce0"
      },
      "source": [
        "print(x_test)"
      ],
      "execution_count": 12,
      "outputs": [
        {
          "output_type": "stream",
          "text": [
            "[[94.09433113 77.15910509]\n",
            " [90.44855097 87.50879176]\n",
            " [55.48216114 35.57070347]\n",
            " [74.49269242 84.84513685]\n",
            " [89.84580671 45.35828361]\n",
            " [83.48916274 48.3802858 ]\n",
            " [42.26170081 87.10385094]\n",
            " [99.31500881 68.77540947]\n",
            " [55.34001756 64.93193801]\n",
            " [74.775893   89.5298129 ]]\n"
          ],
          "name": "stdout"
        }
      ]
    },
    {
      "cell_type": "code",
      "metadata": {
        "colab": {
          "base_uri": "https://localhost:8080/"
        },
        "id": "9Cff9TpAVWwl",
        "outputId": "9102a337-2bdf-429b-c840-601c4c09e9cc"
      },
      "source": [
        "print(y_test)"
      ],
      "execution_count": 13,
      "outputs": [
        {
          "output_type": "stream",
          "text": [
            "[1 1 0 1 1 1 1 1 1 1]\n"
          ],
          "name": "stdout"
        }
      ]
    },
    {
      "cell_type": "code",
      "metadata": {
        "colab": {
          "base_uri": "https://localhost:8080/"
        },
        "id": "krjRZULRXc6P",
        "outputId": "704a5edb-617c-49b0-db3d-8747a213a908"
      },
      "source": [
        "print(y_train[0])"
      ],
      "execution_count": 16,
      "outputs": [
        {
          "output_type": "stream",
          "text": [
            "1\n"
          ],
          "name": "stdout"
        }
      ]
    },
    {
      "cell_type": "markdown",
      "metadata": {
        "id": "dMi1urH7Y919"
      },
      "source": [
        "# **K = 3**"
      ]
    },
    {
      "cell_type": "markdown",
      "metadata": {
        "id": "7l4O0A9TY1pP"
      },
      "source": [
        "## **Regression + Classification with KNN**"
      ]
    },
    {
      "cell_type": "code",
      "metadata": {
        "id": "YTf2VnroVZLr"
      },
      "source": [
        "# K Parameter\n",
        "K=3\n",
        "\n",
        "n=len(y_train)\n",
        "count=len(y_test)\n",
        "regression_prediction = []\n",
        "classification_prediction = []\n",
        "\n",
        "for i in range(count):\n",
        "  distance=[]\n",
        "  for j in range(n):\n",
        "    dist=np.power((x_test[i][0]-x_train[j][0]),2)+np.power((x_test[i][1]-x_train[j][1]),2)\n",
        "    distance.append([dist,j])\n",
        "  distance.sort()\n",
        "  sum=0\n",
        "  for j in range(K):\n",
        "    sum += y_train[distance[j][1]]\n",
        "  sum = sum/K\n",
        "  regression_prediction.append(sum)\n",
        "  if(sum>=0.5):\n",
        "    classification_prediction.append(1)\n",
        "  else:\n",
        "    classification_prediction.append(0)"
      ],
      "execution_count": 17,
      "outputs": []
    },
    {
      "cell_type": "code",
      "metadata": {
        "colab": {
          "base_uri": "https://localhost:8080/"
        },
        "id": "wBe98t_QXYIm",
        "outputId": "2b7ef660-cef7-43a1-cec7-bed27784dd95"
      },
      "source": [
        "print(classification_prediction)"
      ],
      "execution_count": 18,
      "outputs": [
        {
          "output_type": "stream",
          "text": [
            "[1, 1, 0, 1, 1, 1, 0, 1, 0, 1]\n"
          ],
          "name": "stdout"
        }
      ]
    },
    {
      "cell_type": "code",
      "metadata": {
        "colab": {
          "base_uri": "https://localhost:8080/"
        },
        "id": "c1slwL3-XqAr",
        "outputId": "81be45d7-1133-4c8b-d44b-3f8d37c8dd9b"
      },
      "source": [
        "print(y_test)"
      ],
      "execution_count": 19,
      "outputs": [
        {
          "output_type": "stream",
          "text": [
            "[1 1 0 1 1 1 1 1 1 1]\n"
          ],
          "name": "stdout"
        }
      ]
    },
    {
      "cell_type": "markdown",
      "metadata": {
        "id": "gbBoun6ZZBuy"
      },
      "source": [
        "## **Classification Accuracy**\n",
        "\n"
      ]
    },
    {
      "cell_type": "code",
      "metadata": {
        "colab": {
          "base_uri": "https://localhost:8080/"
        },
        "id": "MrPFwgoCXr0j",
        "outputId": "04927f73-bd36-4722-bc27-1e84bda9c0eb"
      },
      "source": [
        "correct = 0\n",
        "\n",
        "for i in range(count):\n",
        "  if(classification_prediction[i]==y_test[i]):\n",
        "    correct += 1\n",
        "\n",
        "accuracy = correct / count\n",
        "print(\"Classification Accuracy = \",accuracy)"
      ],
      "execution_count": 20,
      "outputs": [
        {
          "output_type": "stream",
          "text": [
            "Classification Accuracy =  0.8\n"
          ],
          "name": "stdout"
        }
      ]
    },
    {
      "cell_type": "markdown",
      "metadata": {
        "id": "WRpzqiIoZHdD"
      },
      "source": [
        "## **Regression Accuracy**"
      ]
    },
    {
      "cell_type": "code",
      "metadata": {
        "colab": {
          "base_uri": "https://localhost:8080/"
        },
        "id": "3p8tJHgKYEn1",
        "outputId": "1a2c523d-c11e-40d5-8ac1-498ebb16291d"
      },
      "source": [
        "print(regression_prediction)"
      ],
      "execution_count": 21,
      "outputs": [
        {
          "output_type": "stream",
          "text": [
            "[1.0, 1.0, 0.0, 1.0, 0.6666666666666666, 0.6666666666666666, 0.0, 1.0, 0.3333333333333333, 1.0]\n"
          ],
          "name": "stdout"
        }
      ]
    },
    {
      "cell_type": "code",
      "metadata": {
        "colab": {
          "base_uri": "https://localhost:8080/"
        },
        "id": "chOQ4E5FYLXK",
        "outputId": "6066a373-f3d8-41bc-fbf6-57df1504578e"
      },
      "source": [
        "squared_error = 0\n",
        "\n",
        "for i in range(count):\n",
        "  temp = np.power((regression_prediction[i]-y_test[i]),2)\n",
        "  squared_error += temp\n",
        "\n",
        "print(\"Squared Error in Regression - \",squared_error);"
      ],
      "execution_count": 23,
      "outputs": [
        {
          "output_type": "stream",
          "text": [
            "Squared Error in Regression -  1.666666666666667\n"
          ],
          "name": "stdout"
        }
      ]
    },
    {
      "cell_type": "markdown",
      "metadata": {
        "id": "P1xWhD8NZLCP"
      },
      "source": [
        "# **K = 5**"
      ]
    },
    {
      "cell_type": "markdown",
      "metadata": {
        "id": "-HElkfoKZN7l"
      },
      "source": [
        "## **Regression + Classification with KNN**"
      ]
    },
    {
      "cell_type": "code",
      "metadata": {
        "id": "oMj81v8kYjFj"
      },
      "source": [
        "# K Parameter\n",
        "K=5\n",
        "\n",
        "n=len(y_train)\n",
        "count=len(y_test)\n",
        "regression_prediction = []\n",
        "classification_prediction = []\n",
        "\n",
        "for i in range(count):\n",
        "  distance=[]\n",
        "  for j in range(n):\n",
        "    dist=np.power((x_test[i][0]-x_train[j][0]),2)+np.power((x_test[i][1]-x_train[j][1]),2)\n",
        "    distance.append([dist,j])\n",
        "  distance.sort()\n",
        "  sum=0\n",
        "  for j in range(K):\n",
        "    sum += y_train[distance[j][1]]\n",
        "  sum = sum/K\n",
        "  regression_prediction.append(sum)\n",
        "  if(sum>=0.5):\n",
        "    classification_prediction.append(1)\n",
        "  else:\n",
        "    classification_prediction.append(0)"
      ],
      "execution_count": 24,
      "outputs": []
    },
    {
      "cell_type": "markdown",
      "metadata": {
        "id": "aJdnHamfZdPK"
      },
      "source": [
        "## **Classification Accuracy**\n",
        "\n"
      ]
    },
    {
      "cell_type": "code",
      "metadata": {
        "colab": {
          "base_uri": "https://localhost:8080/"
        },
        "id": "dcar1ZSLZT7o",
        "outputId": "4a0da167-a33c-4d0a-bd5e-480445adad96"
      },
      "source": [
        "correct = 0\n",
        "\n",
        "for i in range(count):\n",
        "  if(classification_prediction[i]==y_test[i]):\n",
        "    correct += 1\n",
        "\n",
        "accuracy = correct / count\n",
        "print(\"Classification Accuracy = \",accuracy)"
      ],
      "execution_count": 25,
      "outputs": [
        {
          "output_type": "stream",
          "text": [
            "Classification Accuracy =  0.8\n"
          ],
          "name": "stdout"
        }
      ]
    },
    {
      "cell_type": "markdown",
      "metadata": {
        "id": "stO4kwwXZfhC"
      },
      "source": [
        "## **Regression Accuracy**"
      ]
    },
    {
      "cell_type": "code",
      "metadata": {
        "colab": {
          "base_uri": "https://localhost:8080/"
        },
        "id": "CLqPEYBhZWuE",
        "outputId": "d8e19308-66f9-43d8-c3d7-bc64e8448078"
      },
      "source": [
        "squared_error = 0\n",
        "\n",
        "for i in range(count):\n",
        "  temp = np.power((regression_prediction[i]-y_test[i]),2)\n",
        "  squared_error += temp\n",
        "\n",
        "print(\"Squared Error in Regression - \",squared_error);"
      ],
      "execution_count": 26,
      "outputs": [
        {
          "output_type": "stream",
          "text": [
            "Squared Error in Regression -  1.3200000000000003\n"
          ],
          "name": "stdout"
        }
      ]
    },
    {
      "cell_type": "code",
      "metadata": {
        "id": "V0XyXbHqZYtw"
      },
      "source": [
        ""
      ],
      "execution_count": null,
      "outputs": []
    }
  ]
}