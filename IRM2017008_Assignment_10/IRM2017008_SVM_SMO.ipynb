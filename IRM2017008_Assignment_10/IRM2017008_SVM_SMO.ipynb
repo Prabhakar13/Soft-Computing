{
  "nbformat": 4,
  "nbformat_minor": 0,
  "metadata": {
    "colab": {
      "name": "IRM2017008_SVM_SMO.ipynb",
      "provenance": []
    },
    "kernelspec": {
      "name": "python3",
      "display_name": "Python 3"
    },
    "language_info": {
      "name": "python"
    }
  },
  "cells": [
    {
      "cell_type": "markdown",
      "metadata": {
        "id": "deBKoStppQJ_"
      },
      "source": [
        "# **Name - PRABHAKAR KUMAR**\n",
        "# **Roll - IRM2017008**\n",
        "# **Heart Disease Classifier using SVM(SMO) with RBF Kernel**"
      ]
    },
    {
      "cell_type": "code",
      "metadata": {
        "id": "24XeLIAQVdya"
      },
      "source": [
        "import numpy as np\n",
        "import pandas as pd\n",
        "import matplotlib.pyplot as plt\n",
        "import random\n",
        "import time"
      ],
      "execution_count": 37,
      "outputs": []
    },
    {
      "cell_type": "markdown",
      "metadata": {
        "id": "v6CO6vvJpgS3"
      },
      "source": [
        "## Data Preparation"
      ]
    },
    {
      "cell_type": "code",
      "metadata": {
        "colab": {
          "base_uri": "https://localhost:8080/"
        },
        "id": "2hRiq_2bV5g7",
        "outputId": "18200e96-f8c2-433c-aea1-bb0898adeffc"
      },
      "source": [
        "data = pd.DataFrame(pd.read_csv('dataset.csv',delimiter=','))\n",
        "data.info()"
      ],
      "execution_count": 38,
      "outputs": [
        {
          "output_type": "stream",
          "text": [
            "<class 'pandas.core.frame.DataFrame'>\n",
            "RangeIndex: 303 entries, 0 to 302\n",
            "Data columns (total 14 columns):\n",
            " #   Column    Non-Null Count  Dtype  \n",
            "---  ------    --------------  -----  \n",
            " 0   age       303 non-null    float64\n",
            " 1   sex       303 non-null    float64\n",
            " 2   cp        303 non-null    float64\n",
            " 3   trestbps  303 non-null    float64\n",
            " 4   chol      303 non-null    float64\n",
            " 5   fbs       303 non-null    float64\n",
            " 6   restecg   303 non-null    float64\n",
            " 7   thalach   303 non-null    float64\n",
            " 8   exang     303 non-null    float64\n",
            " 9   oldpeak   303 non-null    float64\n",
            " 10  slope     303 non-null    float64\n",
            " 11  ca        303 non-null    float64\n",
            " 12  thal      303 non-null    float64\n",
            " 13  class     303 non-null    int64  \n",
            "dtypes: float64(13), int64(1)\n",
            "memory usage: 33.3 KB\n"
          ],
          "name": "stdout"
        }
      ]
    },
    {
      "cell_type": "code",
      "metadata": {
        "colab": {
          "base_uri": "https://localhost:8080/"
        },
        "id": "VyS72fiCWg_s",
        "outputId": "02cfc169-4b29-493b-c302-151dc8a33176"
      },
      "source": [
        "row_count = len(data.index)\n",
        "print(row_count)"
      ],
      "execution_count": 39,
      "outputs": [
        {
          "output_type": "stream",
          "text": [
            "303\n"
          ],
          "name": "stdout"
        }
      ]
    },
    {
      "cell_type": "code",
      "metadata": {
        "id": "GlM_4eICW-B8"
      },
      "source": [
        "X=data[['age','trestbps']].values"
      ],
      "execution_count": 40,
      "outputs": []
    },
    {
      "cell_type": "code",
      "metadata": {
        "colab": {
          "base_uri": "https://localhost:8080/"
        },
        "id": "3YlZt2ePZlc_",
        "outputId": "5fe67422-20b8-445a-be7d-8e8dc82c74dd"
      },
      "source": [
        "print(X)"
      ],
      "execution_count": 41,
      "outputs": [
        {
          "output_type": "stream",
          "text": [
            "[[ 63. 145.]\n",
            " [ 67. 160.]\n",
            " [ 67. 120.]\n",
            " [ 37. 130.]\n",
            " [ 41. 130.]\n",
            " [ 56. 120.]\n",
            " [ 62. 140.]\n",
            " [ 57. 120.]\n",
            " [ 63. 130.]\n",
            " [ 53. 140.]\n",
            " [ 57. 140.]\n",
            " [ 56. 140.]\n",
            " [ 56. 130.]\n",
            " [ 44. 120.]\n",
            " [ 52. 172.]\n",
            " [ 57. 150.]\n",
            " [ 48. 110.]\n",
            " [ 54. 140.]\n",
            " [ 48. 130.]\n",
            " [ 49. 130.]\n",
            " [ 64. 110.]\n",
            " [ 58. 150.]\n",
            " [ 58. 120.]\n",
            " [ 58. 132.]\n",
            " [ 60. 130.]\n",
            " [ 50. 120.]\n",
            " [ 58. 120.]\n",
            " [ 66. 150.]\n",
            " [ 43. 150.]\n",
            " [ 40. 110.]\n",
            " [ 69. 140.]\n",
            " [ 60. 117.]\n",
            " [ 64. 140.]\n",
            " [ 59. 135.]\n",
            " [ 44. 130.]\n",
            " [ 42. 140.]\n",
            " [ 43. 120.]\n",
            " [ 57. 150.]\n",
            " [ 55. 132.]\n",
            " [ 61. 150.]\n",
            " [ 65. 150.]\n",
            " [ 40. 140.]\n",
            " [ 71. 160.]\n",
            " [ 59. 150.]\n",
            " [ 61. 130.]\n",
            " [ 58. 112.]\n",
            " [ 51. 110.]\n",
            " [ 50. 150.]\n",
            " [ 65. 140.]\n",
            " [ 53. 130.]\n",
            " [ 41. 105.]\n",
            " [ 65. 120.]\n",
            " [ 44. 112.]\n",
            " [ 44. 130.]\n",
            " [ 60. 130.]\n",
            " [ 54. 124.]\n",
            " [ 50. 140.]\n",
            " [ 41. 110.]\n",
            " [ 54. 125.]\n",
            " [ 51. 125.]\n",
            " [ 51. 130.]\n",
            " [ 46. 142.]\n",
            " [ 58. 128.]\n",
            " [ 54. 135.]\n",
            " [ 54. 120.]\n",
            " [ 60. 145.]\n",
            " [ 60. 140.]\n",
            " [ 54. 150.]\n",
            " [ 59. 170.]\n",
            " [ 46. 150.]\n",
            " [ 65. 155.]\n",
            " [ 67. 125.]\n",
            " [ 62. 120.]\n",
            " [ 65. 110.]\n",
            " [ 44. 110.]\n",
            " [ 65. 160.]\n",
            " [ 60. 125.]\n",
            " [ 51. 140.]\n",
            " [ 48. 130.]\n",
            " [ 58. 150.]\n",
            " [ 45. 104.]\n",
            " [ 53. 130.]\n",
            " [ 39. 140.]\n",
            " [ 68. 180.]\n",
            " [ 52. 120.]\n",
            " [ 44. 140.]\n",
            " [ 47. 138.]\n",
            " [ 53. 128.]\n",
            " [ 53. 138.]\n",
            " [ 51. 130.]\n",
            " [ 66. 120.]\n",
            " [ 62. 160.]\n",
            " [ 62. 130.]\n",
            " [ 44. 108.]\n",
            " [ 63. 135.]\n",
            " [ 52. 128.]\n",
            " [ 59. 110.]\n",
            " [ 60. 150.]\n",
            " [ 52. 134.]\n",
            " [ 48. 122.]\n",
            " [ 45. 115.]\n",
            " [ 34. 118.]\n",
            " [ 57. 128.]\n",
            " [ 71. 110.]\n",
            " [ 49. 120.]\n",
            " [ 54. 108.]\n",
            " [ 59. 140.]\n",
            " [ 57. 128.]\n",
            " [ 61. 120.]\n",
            " [ 39. 118.]\n",
            " [ 61. 145.]\n",
            " [ 56. 125.]\n",
            " [ 52. 118.]\n",
            " [ 43. 132.]\n",
            " [ 62. 130.]\n",
            " [ 41. 135.]\n",
            " [ 58. 140.]\n",
            " [ 35. 138.]\n",
            " [ 63. 130.]\n",
            " [ 65. 135.]\n",
            " [ 48. 130.]\n",
            " [ 63. 150.]\n",
            " [ 51. 100.]\n",
            " [ 55. 140.]\n",
            " [ 65. 138.]\n",
            " [ 45. 130.]\n",
            " [ 56. 200.]\n",
            " [ 54. 110.]\n",
            " [ 44. 120.]\n",
            " [ 62. 124.]\n",
            " [ 54. 120.]\n",
            " [ 51.  94.]\n",
            " [ 29. 130.]\n",
            " [ 51. 140.]\n",
            " [ 43. 122.]\n",
            " [ 55. 135.]\n",
            " [ 70. 145.]\n",
            " [ 62. 120.]\n",
            " [ 35. 120.]\n",
            " [ 51. 125.]\n",
            " [ 59. 140.]\n",
            " [ 59. 170.]\n",
            " [ 52. 128.]\n",
            " [ 64. 125.]\n",
            " [ 58. 105.]\n",
            " [ 47. 108.]\n",
            " [ 57. 165.]\n",
            " [ 41. 112.]\n",
            " [ 45. 128.]\n",
            " [ 60. 102.]\n",
            " [ 52. 152.]\n",
            " [ 42. 102.]\n",
            " [ 67. 115.]\n",
            " [ 55. 160.]\n",
            " [ 64. 120.]\n",
            " [ 70. 130.]\n",
            " [ 51. 140.]\n",
            " [ 58. 125.]\n",
            " [ 60. 140.]\n",
            " [ 68. 118.]\n",
            " [ 46. 101.]\n",
            " [ 77. 125.]\n",
            " [ 54. 110.]\n",
            " [ 58. 100.]\n",
            " [ 48. 124.]\n",
            " [ 57. 132.]\n",
            " [ 52. 138.]\n",
            " [ 54. 132.]\n",
            " [ 35. 126.]\n",
            " [ 45. 112.]\n",
            " [ 70. 160.]\n",
            " [ 53. 142.]\n",
            " [ 59. 174.]\n",
            " [ 62. 140.]\n",
            " [ 64. 145.]\n",
            " [ 57. 152.]\n",
            " [ 52. 108.]\n",
            " [ 56. 132.]\n",
            " [ 43. 130.]\n",
            " [ 53. 130.]\n",
            " [ 48. 124.]\n",
            " [ 56. 134.]\n",
            " [ 42. 148.]\n",
            " [ 59. 178.]\n",
            " [ 60. 158.]\n",
            " [ 63. 140.]\n",
            " [ 42. 120.]\n",
            " [ 66. 160.]\n",
            " [ 54. 192.]\n",
            " [ 69. 140.]\n",
            " [ 50. 129.]\n",
            " [ 51. 140.]\n",
            " [ 43. 132.]\n",
            " [ 62. 138.]\n",
            " [ 68. 120.]\n",
            " [ 67. 100.]\n",
            " [ 69. 160.]\n",
            " [ 45. 138.]\n",
            " [ 50. 120.]\n",
            " [ 59. 160.]\n",
            " [ 50. 110.]\n",
            " [ 64. 180.]\n",
            " [ 57. 150.]\n",
            " [ 64. 140.]\n",
            " [ 43. 110.]\n",
            " [ 45. 142.]\n",
            " [ 58. 128.]\n",
            " [ 50. 144.]\n",
            " [ 55. 130.]\n",
            " [ 62. 150.]\n",
            " [ 37. 120.]\n",
            " [ 38. 120.]\n",
            " [ 41. 130.]\n",
            " [ 66. 178.]\n",
            " [ 52. 112.]\n",
            " [ 56. 120.]\n",
            " [ 46. 105.]\n",
            " [ 46. 138.]\n",
            " [ 64. 130.]\n",
            " [ 59. 138.]\n",
            " [ 41. 112.]\n",
            " [ 54. 108.]\n",
            " [ 39.  94.]\n",
            " [ 53. 123.]\n",
            " [ 63. 108.]\n",
            " [ 34. 118.]\n",
            " [ 47. 112.]\n",
            " [ 67. 152.]\n",
            " [ 54. 110.]\n",
            " [ 66. 112.]\n",
            " [ 52. 136.]\n",
            " [ 55. 180.]\n",
            " [ 49. 118.]\n",
            " [ 74. 120.]\n",
            " [ 54. 160.]\n",
            " [ 54. 122.]\n",
            " [ 56. 130.]\n",
            " [ 46. 120.]\n",
            " [ 49. 134.]\n",
            " [ 42. 120.]\n",
            " [ 41. 110.]\n",
            " [ 41. 126.]\n",
            " [ 49. 130.]\n",
            " [ 61. 134.]\n",
            " [ 60. 120.]\n",
            " [ 67. 120.]\n",
            " [ 58. 100.]\n",
            " [ 47. 110.]\n",
            " [ 52. 125.]\n",
            " [ 62. 128.]\n",
            " [ 57. 110.]\n",
            " [ 58. 146.]\n",
            " [ 64. 128.]\n",
            " [ 51. 120.]\n",
            " [ 43. 115.]\n",
            " [ 42. 120.]\n",
            " [ 67. 106.]\n",
            " [ 76. 140.]\n",
            " [ 70. 156.]\n",
            " [ 57. 124.]\n",
            " [ 44. 118.]\n",
            " [ 58. 136.]\n",
            " [ 60. 150.]\n",
            " [ 44. 120.]\n",
            " [ 61. 138.]\n",
            " [ 42. 136.]\n",
            " [ 52. 128.]\n",
            " [ 59. 126.]\n",
            " [ 40. 152.]\n",
            " [ 42. 130.]\n",
            " [ 61. 140.]\n",
            " [ 66. 160.]\n",
            " [ 46. 140.]\n",
            " [ 71. 112.]\n",
            " [ 59. 134.]\n",
            " [ 64. 170.]\n",
            " [ 66. 146.]\n",
            " [ 39. 138.]\n",
            " [ 57. 154.]\n",
            " [ 58. 130.]\n",
            " [ 57. 110.]\n",
            " [ 47. 130.]\n",
            " [ 55. 128.]\n",
            " [ 35. 122.]\n",
            " [ 61. 148.]\n",
            " [ 58. 114.]\n",
            " [ 58. 170.]\n",
            " [ 58. 125.]\n",
            " [ 56. 130.]\n",
            " [ 56. 120.]\n",
            " [ 67. 152.]\n",
            " [ 55. 132.]\n",
            " [ 44. 120.]\n",
            " [ 63. 140.]\n",
            " [ 63. 124.]\n",
            " [ 41. 120.]\n",
            " [ 59. 164.]\n",
            " [ 57. 140.]\n",
            " [ 45. 110.]\n",
            " [ 68. 144.]\n",
            " [ 57. 130.]\n",
            " [ 57. 130.]\n",
            " [ 38. 138.]]\n"
          ],
          "name": "stdout"
        }
      ]
    },
    {
      "cell_type": "code",
      "metadata": {
        "id": "LZXCMOs3Z7kx"
      },
      "source": [
        "y=data.iloc[:,-1:]"
      ],
      "execution_count": 42,
      "outputs": []
    },
    {
      "cell_type": "code",
      "metadata": {
        "colab": {
          "base_uri": "https://localhost:8080/"
        },
        "id": "_xVQvO9saBnB",
        "outputId": "1fb94b30-d747-447c-e6db-9dbb0f77cd1c"
      },
      "source": [
        "print(y)"
      ],
      "execution_count": 43,
      "outputs": [
        {
          "output_type": "stream",
          "text": [
            "     class \n",
            "0         0\n",
            "1         1\n",
            "2         1\n",
            "3         0\n",
            "4         0\n",
            "..      ...\n",
            "298       1\n",
            "299       1\n",
            "300       1\n",
            "301       1\n",
            "302       0\n",
            "\n",
            "[303 rows x 1 columns]\n"
          ],
          "name": "stdout"
        }
      ]
    },
    {
      "cell_type": "code",
      "metadata": {
        "colab": {
          "base_uri": "https://localhost:8080/"
        },
        "id": "RVl902KebUUa",
        "outputId": "c4051e33-28b5-4a15-a448-7c0ab45b4c39"
      },
      "source": [
        "print(type(X))"
      ],
      "execution_count": 44,
      "outputs": [
        {
          "output_type": "stream",
          "text": [
            "<class 'numpy.ndarray'>\n"
          ],
          "name": "stdout"
        }
      ]
    },
    {
      "cell_type": "code",
      "metadata": {
        "colab": {
          "base_uri": "https://localhost:8080/"
        },
        "id": "YfkppJVDcZoV",
        "outputId": "9670f805-ca74-4129-eba8-8e79a8da1236"
      },
      "source": [
        "print(X.shape)"
      ],
      "execution_count": 45,
      "outputs": [
        {
          "output_type": "stream",
          "text": [
            "(303, 2)\n"
          ],
          "name": "stdout"
        }
      ]
    },
    {
      "cell_type": "code",
      "metadata": {
        "colab": {
          "base_uri": "https://localhost:8080/"
        },
        "id": "o8NDN2qwbYvJ",
        "outputId": "cf5c0271-1325-49aa-8511-def9559c91f4"
      },
      "source": [
        "print(type(y))"
      ],
      "execution_count": 46,
      "outputs": [
        {
          "output_type": "stream",
          "text": [
            "<class 'pandas.core.frame.DataFrame'>\n"
          ],
          "name": "stdout"
        }
      ]
    },
    {
      "cell_type": "code",
      "metadata": {
        "id": "ORoFJyv8bdRZ"
      },
      "source": [
        "y=y.to_numpy()"
      ],
      "execution_count": 47,
      "outputs": []
    },
    {
      "cell_type": "code",
      "metadata": {
        "colab": {
          "base_uri": "https://localhost:8080/"
        },
        "id": "UARUOGZNbxRx",
        "outputId": "9421f593-2e67-4e13-be6c-11dd6e0fbbc1"
      },
      "source": [
        "print(type(y))"
      ],
      "execution_count": 48,
      "outputs": [
        {
          "output_type": "stream",
          "text": [
            "<class 'numpy.ndarray'>\n"
          ],
          "name": "stdout"
        }
      ]
    },
    {
      "cell_type": "code",
      "metadata": {
        "colab": {
          "base_uri": "https://localhost:8080/"
        },
        "id": "h36q11WPbyiR",
        "outputId": "3f21bbf3-1984-47e9-a6ae-0dbe923a1584"
      },
      "source": [
        "print(y.shape)"
      ],
      "execution_count": 49,
      "outputs": [
        {
          "output_type": "stream",
          "text": [
            "(303, 1)\n"
          ],
          "name": "stdout"
        }
      ]
    },
    {
      "cell_type": "code",
      "metadata": {
        "colab": {
          "base_uri": "https://localhost:8080/"
        },
        "id": "M93r3S7Hb0H6",
        "outputId": "0b038999-e7ce-4d4c-a70e-dee6dba7fcb6"
      },
      "source": [
        "y=np.squeeze(y)\n",
        "print(y.shape)"
      ],
      "execution_count": 50,
      "outputs": [
        {
          "output_type": "stream",
          "text": [
            "(303,)\n"
          ],
          "name": "stdout"
        }
      ]
    },
    {
      "cell_type": "code",
      "metadata": {
        "id": "Xyr5bavncOPK"
      },
      "source": [
        "for i in range(row_count):\n",
        "  if(y[i]==0):\n",
        "    y[i]=-1"
      ],
      "execution_count": 51,
      "outputs": []
    },
    {
      "cell_type": "code",
      "metadata": {
        "colab": {
          "base_uri": "https://localhost:8080/"
        },
        "id": "z347LeydcpIh",
        "outputId": "42bc2449-5b19-41b3-f4be-899d275a1e7b"
      },
      "source": [
        "print(y)"
      ],
      "execution_count": 52,
      "outputs": [
        {
          "output_type": "stream",
          "text": [
            "[-1  1  1 -1 -1 -1  1 -1  1  1 -1 -1  1 -1 -1 -1  1 -1 -1 -1 -1 -1  1  1\n",
            "  1 -1 -1 -1 -1  1 -1  1  1 -1 -1 -1  1  1  1 -1  1 -1 -1 -1  1  1 -1  1\n",
            " -1 -1 -1 -1  1 -1  1  1  1  1 -1 -1  1 -1  1 -1  1  1  1 -1  1  1 -1  1\n",
            "  1  1  1 -1  1 -1 -1  1 -1 -1 -1  1 -1 -1 -1 -1 -1 -1 -1  1 -1 -1 -1  1\n",
            "  1  1 -1 -1 -1 -1 -1 -1  1 -1  1  1  1  1  1  1 -1  1  1 -1 -1 -1  1  1\n",
            "  1  1 -1  1  1 -1  1  1 -1 -1 -1 -1 -1 -1 -1 -1  1  1  1 -1 -1  1 -1  1\n",
            " -1  1  1 -1 -1 -1 -1 -1 -1  1  1  1  1  1  1 -1 -1  1 -1 -1 -1 -1 -1 -1\n",
            "  1 -1  1 -1  1 -1  1  1 -1  1 -1 -1  1  1 -1 -1  1 -1 -1  1  1  1 -1  1\n",
            "  1  1 -1  1 -1 -1 -1  1 -1 -1 -1 -1 -1  1  1  1 -1  1 -1  1 -1  1  1 -1\n",
            " -1 -1 -1 -1 -1 -1 -1  1  1 -1 -1 -1  1  1 -1  1  1 -1 -1  1  1  1 -1 -1\n",
            " -1 -1 -1  1 -1  1  1  1  1 -1 -1  1 -1 -1 -1 -1 -1 -1 -1  1 -1  1 -1 -1\n",
            "  1  1  1  1  1 -1  1 -1  1 -1  1 -1 -1 -1  1 -1  1 -1  1 -1  1  1  1 -1\n",
            " -1 -1  1 -1  1  1  1 -1  1  1  1  1  1  1 -1]\n"
          ],
          "name": "stdout"
        }
      ]
    },
    {
      "cell_type": "markdown",
      "metadata": {
        "id": "3lOAvAqhpmQu"
      },
      "source": [
        "## Splitting data into 70:30 split"
      ]
    },
    {
      "cell_type": "code",
      "metadata": {
        "id": "uFpkiyOmdeYz"
      },
      "source": [
        "from sklearn.model_selection import train_test_split\n",
        "X_train, X_test, y_train, y_test = train_test_split(X, y, test_size=0.3, random_state=1)"
      ],
      "execution_count": 53,
      "outputs": []
    },
    {
      "cell_type": "code",
      "metadata": {
        "colab": {
          "base_uri": "https://localhost:8080/"
        },
        "id": "Sh5ETYytdm3y",
        "outputId": "d8a5251a-4562-4be9-a2f3-c8d21a562936"
      },
      "source": [
        "print(X_train.shape)\n",
        "print(X_test.shape)"
      ],
      "execution_count": 54,
      "outputs": [
        {
          "output_type": "stream",
          "text": [
            "(212, 2)\n",
            "(91, 2)\n"
          ],
          "name": "stdout"
        }
      ]
    },
    {
      "cell_type": "markdown",
      "metadata": {
        "id": "ES1bE75Hpq9V"
      },
      "source": [
        "## Defining SVM class with Training steps an Kernel implementations"
      ]
    },
    {
      "cell_type": "code",
      "metadata": {
        "id": "4Ts6Ee_5drfT"
      },
      "source": [
        "class SVM():\n",
        "\n",
        "    def __init__(self, max_iter=10000, kernel_type='linear', C=1.0, gamma = 1,epsilon=0.001):\n",
        "        self.kernels = {\n",
        "            'linear' : self.kernel_linear,\n",
        "            'quadratic' : self.kernel_quadratic,\n",
        "            'rbf' : self.kernel_rbf\n",
        "        }\n",
        "        self.max_iter = max_iter\n",
        "        self.kernel_type = kernel_type\n",
        "        self.C = C\n",
        "        self.gamma = gamma\n",
        "        self.epsilon = epsilon\n",
        "    \n",
        "    def fit(self, X, y):\n",
        "        \n",
        "        n, d = X.shape[0], X.shape[1]\n",
        "        alpha = np.zeros((n))\n",
        "        kernel = self.kernels[self.kernel_type]\n",
        "        count = 0\n",
        "        \n",
        "        while True:\n",
        "            count += 1\n",
        "            alpha_prev = np.copy(alpha)\n",
        "            \n",
        "            for j in range(0, n):\n",
        "                i = self.get_random_int(0, n-1, j) # Get random int i~=j\n",
        "                x_i, x_j, y_i, y_j = X[i,:], X[j,:], y[i], y[j]\n",
        "                if self.kernel_type == 'rbf':\n",
        "                    k_ij = kernel(x_i, x_i, self.gamma) + kernel(x_j, x_j, self.gamma) - 2 * kernel(x_i, x_j, self.gamma)\n",
        "                else:\n",
        "                    k_ij = kernel(x_i, x_i) + kernel(x_j, x_j) - 2 * kernel(x_i, x_j)\n",
        "                \n",
        "                if k_ij == 0:\n",
        "                    continue\n",
        "                alpha_prime_j, alpha_prime_i = alpha[j], alpha[i]\n",
        "                L, H = self.compute_L_H(self.C, alpha_prime_j, alpha_prime_i, y_j, y_i)\n",
        "\n",
        "                self.w = self.calc_w(alpha, y, X)\n",
        "                self.b = self.calc_b(X, y, self.w)\n",
        "\n",
        "                E_i = self.E(x_i, y_i, self.w, self.b)\n",
        "                E_j = self.E(x_j, y_j, self.w, self.b)\n",
        "\n",
        "                alpha[j] = alpha_prime_j + float(y_j * (E_i - E_j))/k_ij\n",
        "                alpha[j] = min(max(alpha[j], L), H)       # Clipping\n",
        "                alpha[i] = alpha_prime_i + y_i*y_j * (alpha_prime_j - alpha[j])\n",
        "\n",
        "            diff = np.linalg.norm(alpha - alpha_prev)\n",
        "            if diff < self.epsilon:\n",
        "                break\n",
        "\n",
        "            if count >= self.max_iter:\n",
        "                print(\"Iteration number exceeded the max of %d iterations\" % (self.max_iter))\n",
        "                return\n",
        "        \n",
        "        self.b = self.calc_b(X, y, self.w)\n",
        "        if self.kernel_type == 'linear':\n",
        "            self.w = self.calc_w(alpha, y, X)\n",
        "        alpha_idx = np.where(alpha > 0)[0]\n",
        "        support_vectors = X[alpha_idx, :]\n",
        "        return support_vectors, count\n",
        "    \n",
        "    def predict(self, X):\n",
        "        return self.h(X, self.w, self.b)\n",
        "    \n",
        "    def calc_b(self, X, y, w):\n",
        "        b_tmp = y - np.dot(w.T, X.T)\n",
        "        return np.mean(b_tmp)\n",
        "    \n",
        "    def calc_w(self, alpha, y, X):\n",
        "        return np.dot(X.T, np.multiply(alpha,y))\n",
        "    \n",
        "    def h(self, X, w, b):\n",
        "        return np.sign(np.dot(w.T, X.T) + b).astype(int)\n",
        "    \n",
        "    def E(self, x_k, y_k, w, b):\n",
        "        return self.h(x_k, w, b) - y_k\n",
        "    \n",
        "    def compute_L_H(self, C, alpha_prime_j, alpha_prime_i, y_j, y_i):\n",
        "        if(y_i != y_j):\n",
        "            return max(0, alpha_prime_j - alpha_prime_i), min(C, C - alpha_prime_i + alpha_prime_j)\n",
        "        else:\n",
        "            return max(0, alpha_prime_i + alpha_prime_j - C), min(C, alpha_prime_i + alpha_prime_j)\n",
        "    \n",
        "    def get_random_int(self, a, b, z):\n",
        "        i = z\n",
        "        cnt=0\n",
        "        while cnt<1000:\n",
        "            i = random.randint(a,b)\n",
        "            if i != z :\n",
        "                break\n",
        "            cnt=cnt+1\n",
        "        return i\n",
        "    \n",
        "    # Define kernels\n",
        "    def kernel_linear(self, x1, x2):\n",
        "        return np.dot(x1, x2.T)\n",
        "    \n",
        "    def kernel_quadratic(self, x1, x2):\n",
        "        return (np.dot(x1, x2.T) ** 2)\n",
        "    \n",
        "    def kernel_rbf(self, x1, x2, gamma = 1):\n",
        "        diff = ((np.linalg.norm(x1 - x2)) ** 2) / (2 * gamma * gamma)\n",
        "        return np.exp(- diff)"
      ],
      "execution_count": 56,
      "outputs": []
    },
    {
      "cell_type": "code",
      "metadata": {
        "id": "--gv_sG1dwGa"
      },
      "source": [
        "def metrics(labels, predictions):\n",
        "    true_pos, true_neg, false_pos, false_neg = 0, 0, 0, 0\n",
        "    for i in range(len(labels)):\n",
        "        true_pos += int(labels[i] == 1 and predictions[i] == 1)\n",
        "        true_neg += int(labels[i] == -1 and predictions[i] == -1)\n",
        "        false_pos += int(labels[i] == -1 and predictions[i] == 1)\n",
        "        false_neg += int(labels[i] == 1 and predictions[i] == -1)\n",
        "    return true_pos, false_pos, true_neg, false_neg"
      ],
      "execution_count": 57,
      "outputs": []
    },
    {
      "cell_type": "code",
      "metadata": {
        "id": "rqiEG3DMeBXi"
      },
      "source": [
        "\n",
        "def calculate(C=1.0,kernel='linear',gamma=1):\n",
        "    model = SVM(C=C,kernel_type=kernel,gamma=gamma)\n",
        "    support_vectors, iterations = model.fit(X_train, y_train)\n",
        "    sv_count = support_vectors.shape[0]\n",
        "    \n",
        "    X = X_test\n",
        "    y = y_test\n",
        "    \n",
        "    y_pred = model.predict(X)\n",
        "    TP, FP, TN, FN = metrics(y, y_pred)\n",
        "\n",
        "    precision = TP / (TP + FP)\n",
        "    recall = TP / (TP + FN)\n",
        "    Fscore = 2 * precision * recall / (precision + recall)\n",
        "    accuracy = (TP + TN) / (TP + TN + FP + FN)\n",
        "\n",
        "    print(\"Support vector count: %d\" % (sv_count))\n",
        "    print(\"Converged after %d iterations\" % (iterations))\n",
        "    print(\"Precision: \", precision)\n",
        "    print(\"Recall: \", recall)\n",
        "    print(\"F-score: \", Fscore)\n",
        "    print(\"Accuracy: \", accuracy)\n",
        "    return y, y_pred"
      ],
      "execution_count": 60,
      "outputs": []
    },
    {
      "cell_type": "code",
      "metadata": {
        "id": "NrEFa0_9eGui"
      },
      "source": [
        "\n",
        "def plot_roc(y,y_pred):\n",
        "    import sklearn.metrics as metrics\n",
        "    fpr, tpr, threshold = metrics.roc_curve(y, y_pred)\n",
        "    roc_auc = metrics.auc(fpr, tpr)\n",
        "    print('AUC: ', roc_auc)\n",
        "\n",
        "    plt.title('Receiver Operating Characteristic')\n",
        "    plt.plot(fpr, tpr, 'b', label = 'AUC = %0.2f' % roc_auc)\n",
        "    plt.legend(loc = 'lower right')\n",
        "    plt.plot([0, 1], [0, 1],'r--')\n",
        "    plt.xlim([0, 1])\n",
        "    plt.ylim([0, 1])\n",
        "    plt.ylabel('True Positive Rate')\n",
        "    plt.xlabel('False Positive Rate')\n",
        "    plt.show()"
      ],
      "execution_count": 61,
      "outputs": []
    },
    {
      "cell_type": "markdown",
      "metadata": {
        "id": "frCjbZ5Pp5Qi"
      },
      "source": [
        "## C = 1\n",
        "## Gamma = 1\n",
        "## Accuracy = 0.5494505494505495"
      ]
    },
    {
      "cell_type": "code",
      "metadata": {
        "colab": {
          "base_uri": "https://localhost:8080/",
          "height": 414
        },
        "id": "hTYoBMy4eJKa",
        "outputId": "9d68d3e6-9a09-4227-ad0e-6c0a26ee8e70"
      },
      "source": [
        "y, y_pred = calculate(kernel='rbf',C=1.0,gamma=1)\n",
        "plot_roc(y,y_pred)"
      ],
      "execution_count": 62,
      "outputs": [
        {
          "output_type": "stream",
          "text": [
            "Support vector count: 156\n",
            "Converged after 12 iterations\n",
            "Precision:  0.5135135135135135\n",
            "Recall:  0.4523809523809524\n",
            "F-score:  0.48101265822784806\n",
            "Accuracy:  0.5494505494505495\n",
            "AUC:  0.5425170068027211\n"
          ],
          "name": "stdout"
        },
        {
          "output_type": "display_data",
          "data": {
            "image/png": "[encoded data removed]",
            "text/plain": [
              "<Figure size 432x288 with 1 Axes>"
            ]
          },
          "metadata": {
            "tags": [],
            "needs_background": "light"
          }
        }
      ]
    },
    {
      "cell_type": "markdown",
      "metadata": {
        "id": "X6feS8--qRe9"
      },
      "source": [
        "## C = 1\n",
        "## Gamma = 25\n",
        "## Accuracy = 0.5714285714285714"
      ]
    },
    {
      "cell_type": "code",
      "metadata": {
        "colab": {
          "base_uri": "https://localhost:8080/",
          "height": 414
        },
        "id": "xVdvbwlbeXsU",
        "outputId": "4007544c-db30-4aeb-d8c3-359be40b3724"
      },
      "source": [
        "y, y_pred = calculate(kernel='rbf',C=1.0,gamma=25)\n",
        "plot_roc(y,y_pred)"
      ],
      "execution_count": 63,
      "outputs": [
        {
          "output_type": "stream",
          "text": [
            "Support vector count: 154\n",
            "Converged after 11 iterations\n",
            "Precision:  0.5428571428571428\n",
            "Recall:  0.4523809523809524\n",
            "F-score:  0.49350649350649345\n",
            "Accuracy:  0.5714285714285714\n",
            "AUC:  0.5629251700680272\n"
          ],
          "name": "stdout"
        },
        {
          "output_type": "display_data",
          "data": {
            "image/png": "[encoded data removed]",
            "text/plain": [
              "<Figure size 432x288 with 1 Axes>"
            ]
          },
          "metadata": {
            "tags": [],
            "needs_background": "light"
          }
        }
      ]
    },
    {
      "cell_type": "markdown",
      "metadata": {
        "id": "Mtng_iWAqe6F"
      },
      "source": [
        "## C = 1\n",
        "## Gamma = 100\n",
        "## Accuracy = 0.5604395604395604"
      ]
    },
    {
      "cell_type": "code",
      "metadata": {
        "colab": {
          "base_uri": "https://localhost:8080/",
          "height": 414
        },
        "id": "ZpBv3_rTehcM",
        "outputId": "894ad742-0b60-4d92-f32f-3f387a2d6f2c"
      },
      "source": [
        "y, y_pred = calculate(kernel='rbf',C=1.0,gamma=100)\n",
        "plot_roc(y,y_pred)"
      ],
      "execution_count": 64,
      "outputs": [
        {
          "output_type": "stream",
          "text": [
            "Support vector count: 162\n",
            "Converged after 11 iterations\n",
            "Precision:  0.525\n",
            "Recall:  0.5\n",
            "F-score:  0.5121951219512195\n",
            "Accuracy:  0.5604395604395604\n",
            "AUC:  0.5561224489795918\n"
          ],
          "name": "stdout"
        },
        {
          "output_type": "display_data",
          "data": {
            "image/png": "[encoded data removed]",
            "text/plain": [
              "<Figure size 432x288 with 1 Axes>"
            ]
          },
          "metadata": {
            "tags": [],
            "needs_background": "light"
          }
        }
      ]
    },
    {
      "cell_type": "markdown",
      "metadata": {
        "id": "NQIHs4HmqkiW"
      },
      "source": [
        "## C = 10\n",
        "## Gamma = 25\n",
        "## Accuracy = 0.5934065934065934"
      ]
    },
    {
      "cell_type": "code",
      "metadata": {
        "colab": {
          "base_uri": "https://localhost:8080/",
          "height": 414
        },
        "id": "9Ig5AwvJekza",
        "outputId": "34663f9a-87d9-4b33-b41c-cd2401be4d3b"
      },
      "source": [
        "\n",
        "y, y_pred = calculate(kernel='rbf',C=10.0,gamma=25)\n",
        "plot_roc(y,y_pred)"
      ],
      "execution_count": 65,
      "outputs": [
        {
          "output_type": "stream",
          "text": [
            "Support vector count: 194\n",
            "Converged after 15 iterations\n",
            "Precision:  0.5555555555555556\n",
            "Recall:  0.5952380952380952\n",
            "F-score:  0.574712643678161\n",
            "Accuracy:  0.5934065934065934\n",
            "AUC:  0.5935374149659864\n"
          ],
          "name": "stdout"
        },
        {
          "output_type": "display_data",
          "data": {
            "image/png": "[encoded data removed]",
            "text/plain": [
              "<Figure size 432x288 with 1 Axes>"
            ]
          },
          "metadata": {
            "tags": [],
            "needs_background": "light"
          }
        }
      ]
    },
    {
      "cell_type": "markdown",
      "metadata": {
        "id": "xTbZQfmrqqHA"
      },
      "source": [
        "## C = 10\n",
        "## Gamma = 100\n",
        "## Accuracy = 0.5934065934065934"
      ]
    },
    {
      "cell_type": "code",
      "metadata": {
        "colab": {
          "base_uri": "https://localhost:8080/",
          "height": 414
        },
        "id": "vrRpLsaWeo7R",
        "outputId": "f6ba4b89-eb74-471b-c87a-ebd9bd50d8d0"
      },
      "source": [
        "y, y_pred = calculate(kernel='rbf',C=10.0,gamma=100)\n",
        "plot_roc(y,y_pred)"
      ],
      "execution_count": 66,
      "outputs": [
        {
          "output_type": "stream",
          "text": [
            "Support vector count: 169\n",
            "Converged after 13 iterations\n",
            "Precision:  0.5531914893617021\n",
            "Recall:  0.6190476190476191\n",
            "F-score:  0.5842696629213483\n",
            "Accuracy:  0.5934065934065934\n",
            "AUC:  0.5952380952380952\n"
          ],
          "name": "stdout"
        },
        {
          "output_type": "display_data",
          "data": {
            "image/png": "[encoded data removed]",
            "text/plain": [
              "<Figure size 432x288 with 1 Axes>"
            ]
          },
          "metadata": {
            "tags": [],
            "needs_background": "light"
          }
        }
      ]
    },
    {
      "cell_type": "code",
      "metadata": {
        "id": "ZuDDwPkVesmy"
      },
      "source": [
        ""
      ],
      "execution_count": null,
      "outputs": []
    }
  ]
}