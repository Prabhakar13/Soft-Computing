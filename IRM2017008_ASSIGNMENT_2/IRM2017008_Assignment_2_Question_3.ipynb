{
  "nbformat": 4,
  "nbformat_minor": 0,
  "metadata": {
    "colab": {
      "name": "IRM2017008_Assignment_2_Question_3.ipynb",
      "provenance": []
    },
    "kernelspec": {
      "name": "python3",
      "display_name": "Python 3"
    }
  },
  "cells": [
    {
      "cell_type": "markdown",
      "metadata": {
        "id": "VaDt5DsqmtA6"
      },
      "source": [
        "# **Name - PRABHAKAR KUMAR**\r\n",
        "# **Roll - IRM2017008**\r\n",
        "# **Assignment 2 - Question 3**"
      ]
    },
    {
      "cell_type": "code",
      "metadata": {
        "id": "GppiZjoFjGEb"
      },
      "source": [
        "import numpy as np\r\n",
        "import matplotlib.pyplot as plt"
      ],
      "execution_count": 17,
      "outputs": []
    },
    {
      "cell_type": "markdown",
      "metadata": {
        "id": "Jw05rFUzm-KA"
      },
      "source": [
        "# **Getting the data ready**"
      ]
    },
    {
      "cell_type": "code",
      "metadata": {
        "id": "CqJ8LQuDjY4k"
      },
      "source": [
        "# FILLING THE DATA\r\n",
        "\r\n",
        "X=[2004,2008,2009,2010,2011,2012,2013,2014,2015,2016,2017]\r\n",
        "Y=[61.2,58.3,67.1,69.2,68.9,83.5,89.1,80,92.3,93,97]"
      ],
      "execution_count": 18,
      "outputs": []
    },
    {
      "cell_type": "code",
      "metadata": {
        "id": "n7QAQ2BhkGiC"
      },
      "source": [
        "# NORMALIZING THE YEAR VALUE SINCE ITS VALUE IS LARGE\r\n",
        "# AND SUBTRACTING A VALUE WOULD NOT RESULT IN ANY \r\n",
        "# CHANGE IN MODEL PERFORMANCE\r\n",
        "\r\n",
        "X_Scaled=[(i-2003) for i in X]"
      ],
      "execution_count": 19,
      "outputs": []
    },
    {
      "cell_type": "code",
      "metadata": {
        "colab": {
          "base_uri": "https://localhost:8080/"
        },
        "id": "HfkS7bGxkOjw",
        "outputId": "14cd5e19-76b0-420c-f584-e8020fd5498b"
      },
      "source": [
        "print(X_Scaled)"
      ],
      "execution_count": 20,
      "outputs": [
        {
          "output_type": "stream",
          "text": [
            "[1, 5, 6, 7, 8, 9, 10, 11, 12, 13, 14]\n"
          ],
          "name": "stdout"
        }
      ]
    },
    {
      "cell_type": "code",
      "metadata": {
        "colab": {
          "base_uri": "https://localhost:8080/"
        },
        "id": "osCWI9r2kQrL",
        "outputId": "410a2d58-cd11-4449-9556-e63b8c99b920"
      },
      "source": [
        "print(type(X_Scaled[0]))"
      ],
      "execution_count": 21,
      "outputs": [
        {
          "output_type": "stream",
          "text": [
            "<class 'int'>\n"
          ],
          "name": "stdout"
        }
      ]
    },
    {
      "cell_type": "markdown",
      "metadata": {
        "id": "ybIYI6tanCbs"
      },
      "source": [
        "# **Finding Best Line using Least Squared Method**"
      ]
    },
    {
      "cell_type": "code",
      "metadata": {
        "id": "L-3j_RSPkXVT"
      },
      "source": [
        "mean_x = np.mean(X_Scaled)\r\n",
        "mean_y = np.mean(Y)\r\n",
        " \r\n",
        "n = len(X)"
      ],
      "execution_count": 22,
      "outputs": []
    },
    {
      "cell_type": "code",
      "metadata": {
        "colab": {
          "base_uri": "https://localhost:8080/"
        },
        "id": "0Lkw54vvkgG5",
        "outputId": "bbf765a1-b4a5-42a9-817a-8896eba6ce9c"
      },
      "source": [
        "# FINDING COEFFICIENTS OF BEST FIT LINE USING LEAST SQUARED METHOD\r\n",
        "\r\n",
        "num=0\r\n",
        "den=0\r\n",
        "for i in range(n):\r\n",
        "  num+=(X_Scaled[i]-mean_x)*(Y[i]-mean_y)\r\n",
        "  den+=(X_Scaled[i]-mean_x)**2\r\n",
        "m=num/den\r\n",
        "c=mean_y-(m*mean_x)\r\n",
        " \r\n",
        "print(\"Coefficients\")\r\n",
        "print(m, c)"
      ],
      "execution_count": 23,
      "outputs": [
        {
          "output_type": "stream",
          "text": [
            "Coefficients\n",
            "3.2800000000000002 49.519999999999996\n"
          ],
          "name": "stdout"
        }
      ]
    },
    {
      "cell_type": "markdown",
      "metadata": {
        "id": "WGNG9yDonKEf"
      },
      "source": [
        "# **Plotting Data along with the Best Fitting Regression Line**"
      ]
    },
    {
      "cell_type": "code",
      "metadata": {
        "colab": {
          "base_uri": "https://localhost:8080/",
          "height": 279
        },
        "id": "w5QB2pi_k3d5",
        "outputId": "37bf0e99-82f8-4254-84ab-bd5701977887"
      },
      "source": [
        "# SCATTER PLOT OF DATA AND REGRESSION LINE\r\n",
        "\r\n",
        "max_x=np.max(X_Scaled)+5\r\n",
        "min_x=np.min(X_Scaled)-5\r\n",
        " \r\n",
        "x=np.linspace(min_x, max_x, 1000)\r\n",
        "y=c+m*x\r\n",
        " \r\n",
        "plt.plot(x,y,color='#58b970', label='Regression Line')\r\n",
        "plt.scatter(X_Scaled,Y,c='#ef5423', label='Scatter Plot')\r\n",
        " \r\n",
        "plt.xlabel('-- (Year-2013) --')\r\n",
        "plt.ylabel('-- Revenue in Billion Rs. --')\r\n",
        "plt.legend()\r\n",
        "plt.show()"
      ],
      "execution_count": 24,
      "outputs": [
        {
          "output_type": "display_data",
          "data": {
            "image/png": "[encoded data removed]",
            "text/plain": [
              "<Figure size 432x288 with 1 Axes>"
            ]
          },
          "metadata": {
            "tags": [],
            "needs_background": "light"
          }
        }
      ]
    },
    {
      "cell_type": "markdown",
      "metadata": {
        "id": "yr183iE5nRLD"
      },
      "source": [
        "# **Predicting Revenue for Year 2019**"
      ]
    },
    {
      "cell_type": "code",
      "metadata": {
        "colab": {
          "base_uri": "https://localhost:8080/"
        },
        "id": "GQNFeKr4lYHH",
        "outputId": "e30a8bae-39ec-40af-faf4-9d4a60584e00"
      },
      "source": [
        "def get_revenue(year):\r\n",
        "  year=year-2013\r\n",
        "  value=c+m*year\r\n",
        "  return value\r\n",
        "\r\n",
        "print(\"Expected Revenue for Year 2019 - \",get_revenue(2019))"
      ],
      "execution_count": 25,
      "outputs": [
        {
          "output_type": "stream",
          "text": [
            "Expected Revenue for Year 2019 -  69.19999999999999\n"
          ],
          "name": "stdout"
        }
      ]
    },
    {
      "cell_type": "markdown",
      "metadata": {
        "id": "_qustesEnX-A"
      },
      "source": [
        "# **Analysis of Expected Error using RMSE Parameter**"
      ]
    },
    {
      "cell_type": "code",
      "metadata": {
        "colab": {
          "base_uri": "https://localhost:8080/"
        },
        "id": "SHy1Nt5OmSr_",
        "outputId": "cf69e052-6548-46de-992b-0040e5c72b65"
      },
      "source": [
        "rmse=0\r\n",
        "for i in range(n):\r\n",
        "    y_pred=c+m*X_Scaled[i]\r\n",
        "    rmse+=(Y[i]-y_pred)**2\r\n",
        "rmse=np.sqrt(rmse/n)\r\n",
        "print(\"RMSE\")\r\n",
        "print(rmse)"
      ],
      "execution_count": 26,
      "outputs": [
        {
          "output_type": "stream",
          "text": [
            "RMSE\n",
            "5.247579528610396\n"
          ],
          "name": "stdout"
        }
      ]
    }
  ]
}