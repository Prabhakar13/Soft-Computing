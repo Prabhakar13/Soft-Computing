{
  "nbformat": 4,
  "nbformat_minor": 0,
  "metadata": {
    "colab": {
      "name": "IRM2017008_Assignment_2_Question_6ipynb",
      "provenance": []
    },
    "kernelspec": {
      "name": "python3",
      "display_name": "Python 3"
    }
  },
  "cells": [
    {
      "cell_type": "markdown",
      "metadata": {
        "id": "9drGPcIq3Iht"
      },
      "source": [
        "# **Name - PRABHAKAR KUMAR**\r\n",
        "# **Roll - IRM2017008**\r\n",
        "# **Assignment 2 - Question 6**\r\n"
      ]
    },
    {
      "cell_type": "code",
      "metadata": {
        "id": "zR5erNUaz5pn"
      },
      "source": [
        "import numpy as np\r\n",
        "import pylab as pl\r\n",
        "from scipy import linalg\r\n",
        "import matplotlib.pyplot as plt"
      ],
      "execution_count": 20,
      "outputs": []
    },
    {
      "cell_type": "code",
      "metadata": {
        "id": "opWbVnXuz-s7"
      },
      "source": [
        "n=2\r\n",
        "x=np.array([0,1,2,3,4,5,6])\r\n",
        "y=np.array([2.4,2.1,3.2,5.6,9.3,14.6,21.9])"
      ],
      "execution_count": 21,
      "outputs": []
    },
    {
      "cell_type": "code",
      "metadata": {
        "id": "IoOQaiEB0Guz"
      },
      "source": [
        "xs=np.array([])\r\n",
        "xy=np.array([])\r\n",
        "for index in range(0, (n + 1)):\r\n",
        "  for exp in range(0, (n + 1)):\r\n",
        "    tx = np.sum(x**(index + exp))\r\n",
        "    xs = np.append(xs, tx)\r\n",
        "  ty = np.sum(y * (x**index))\r\n",
        "  xy = np.append(xy, ty)"
      ],
      "execution_count": 22,
      "outputs": []
    },
    {
      "cell_type": "code",
      "metadata": {
        "colab": {
          "base_uri": "https://localhost:8080/"
        },
        "id": "fJZwOKMx0bzG",
        "outputId": "96676868-d6b7-4d26-8886-6597d0f561f3"
      },
      "source": [
        "xs = np.reshape(xs, ((n + 1), (n + 1)))\r\n",
        "xy = np.reshape(xy, ((n + 1), 1))\r\n",
        "print(xs, '\\n\\n', xy)"
      ],
      "execution_count": 23,
      "outputs": [
        {
          "output_type": "stream",
          "text": [
            "[[   7.   21.   91.]\n",
            " [  21.   91.  441.]\n",
            " [  91.  441. 2275.]] \n",
            "\n",
            " [[  59.1]\n",
            " [ 266.9]\n",
            " [1367.5]]\n"
          ],
          "name": "stdout"
        }
      ]
    },
    {
      "cell_type": "code",
      "metadata": {
        "colab": {
          "base_uri": "https://localhost:8080/"
        },
        "id": "JrjYpruk0ip5",
        "outputId": "ca1c96f0-00c3-4407-f561-051f422f76e8"
      },
      "source": [
        "a = np.linalg.solve(xs, xy)\r\n",
        "print('\\n', a)"
      ],
      "execution_count": 24,
      "outputs": [
        {
          "output_type": "stream",
          "text": [
            "\n",
            " [[ 2.50952381]\n",
            " [-1.2       ]\n",
            " [ 0.73333333]]\n"
          ],
          "name": "stdout"
        }
      ]
    },
    {
      "cell_type": "code",
      "metadata": {
        "colab": {
          "base_uri": "https://localhost:8080/"
        },
        "id": "UXiS5Pnm0myb",
        "outputId": "7a86122b-75b1-469b-fef0-7f5d631ab58a"
      },
      "source": [
        "def find_error(y, fn):\r\n",
        "\treturn np.sum((y - fn)**2)\r\n",
        " \r\n",
        "def fn(x, a):\r\n",
        "\tpx = 0\r\n",
        "\tfor index in range(0, np.size(a)):\r\n",
        "\t\tpx += (a[index] * (x**index))\r\n",
        "\treturn px\r\n",
        " \r\n",
        "error = find_error(y, np.array(fn(x, a)))\r\n",
        "print(\"\\nError =\",error)"
      ],
      "execution_count": 25,
      "outputs": [
        {
          "output_type": "stream",
          "text": [
            "\n",
            "Error = 0.16380952380952274\n"
          ],
          "name": "stdout"
        }
      ]
    },
    {
      "cell_type": "code",
      "metadata": {
        "colab": {
          "base_uri": "https://localhost:8080/",
          "height": 467
        },
        "id": "LXbZfqMy0zxP",
        "outputId": "145975d8-24c9-4057-ea74-feb48bdb4ac3"
      },
      "source": [
        "def plot(x, y, fn):\r\n",
        "\tpl.figure(figsize=(8, 6), dpi=80)\r\n",
        "\tpl.subplot(1, 1, 1)\r\n",
        "\tpl.plot(x, y, color='blue', linewidth=2.0, linestyle='-', label='y')\r\n",
        "\tpl.subplot(1, 1, 1)\r\n",
        "\tpl.plot(x, fn, color='red', linewidth=3.0, linestyle='--', label='P(x)')\r\n",
        "\tpl.legend(loc='upper left')\r\n",
        "\tpl.grid()\r\n",
        "\tpl.show()\r\n",
        " \r\n",
        "plot(x, y, fn(x, a))"
      ],
      "execution_count": 26,
      "outputs": [
        {
          "output_type": "stream",
          "text": [
            "/usr/local/lib/python3.6/dist-packages/ipykernel_launcher.py:5: MatplotlibDeprecationWarning: Adding an axes using the same arguments as a previous axes currently reuses the earlier instance.  In a future version, a new instance will always be created and returned.  Meanwhile, this warning can be suppressed, and the future behavior ensured, by passing a unique label to each axes instance.\n",
            "  \"\"\"\n"
          ],
          "name": "stderr"
        },
        {
          "output_type": "display_data",
          "data": {
            "image/png": "[encoded data removed]",
            "text/plain": [
              "<Figure size 640x480 with 1 Axes>"
            ]
          },
          "metadata": {
            "tags": [],
            "needs_background": "light"
          }
        }
      ]
    },
    {
      "cell_type": "code",
      "metadata": {
        "colab": {
          "base_uri": "https://localhost:8080/",
          "height": 279
        },
        "id": "1MSQ6MxE1CKN",
        "outputId": "4e869f0f-f1a6-44fc-f1b2-b1f1c35723cb"
      },
      "source": [
        "max_x=np.max(x)+2\r\n",
        "min_x=np.min(x)-2\r\n",
        " \r\n",
        "xx=np.linspace(min_x, max_x, 1000)\r\n",
        "yy=np.array([fn(x_val,a) for x_val in xx])\r\n",
        "\r\n",
        "\r\n",
        "plt.plot(xx,yy,color='#58b970', label='Regression Line')\r\n",
        "plt.scatter(x,y,c='#ef5423', label='Scatter Plot')\r\n",
        " \r\n",
        "plt.xlabel('-- Value of X --')\r\n",
        "plt.ylabel('-- Value of Y --')\r\n",
        "plt.legend()\r\n",
        "plt.show()"
      ],
      "execution_count": 27,
      "outputs": [
        {
          "output_type": "display_data",
          "data": {
            "image/png": "[encoded data removed]",
            "text/plain": [
              "<Figure size 432x288 with 1 Axes>"
            ]
          },
          "metadata": {
            "tags": [],
            "needs_background": "light"
          }
        }
      ]
    },
    {
      "cell_type": "code",
      "metadata": {
        "id": "yZgiZaCO2Jni"
      },
      "source": [
        ""
      ],
      "execution_count": null,
      "outputs": []
    }
  ]
}